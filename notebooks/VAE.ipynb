{
 "cells": [
  {
   "cell_type": "markdown",
   "id": "7f400b81",
   "metadata": {
    "id": "ogeTPu0m7Em6"
   },
   "source": [
    "<i>Copyright (c) Microsoft Corporation. All rights reserved.</i>\n",
    "\n",
    "<i>Licensed under the MIT License.</i>"
   ]
  },
  {
   "cell_type": "markdown",
   "id": "c0b793d5",
   "metadata": {},
   "source": [
    "This notebook is based on [this example](https://github.com/microsoft/recommenders/blob/main/examples/02_model_collaborative_filtering/standard_vae_deep_dive.ipynb) and adapted to our needs."
   ]
  },
  {
   "cell_type": "markdown",
   "id": "fd4c830e",
   "metadata": {},
   "source": [
    "## Prerequisites"
   ]
  },
  {
   "cell_type": "markdown",
   "id": "fd39e30d",
   "metadata": {},
   "source": [
    "To run this notebook on Windows, either use Google Colab or make use of the Docker file in [this](https://github.com/microsoft/recommenders/tree/main/tools/docker) repository."
   ]
  },
  {
   "cell_type": "markdown",
   "id": "433c303a",
   "metadata": {
    "id": "XcSewSRc7Em7"
   },
   "source": [
    "# Standard Variational Autoencoders for Collaborative Filtering on Amazong Fashion dataset.\n",
    "This notebook accompanies the paper \"*A Hybrid Variational Autoencoder for Collaborative Filtering*\" by Kilol Gupta, Mukund Y. Raghuprasad, Pankhuri Kumar [[Gupta et al.,2018]](https://arxiv.org/pdf/1808.01006.pdf). We will study a part of this paper, more specific, the derivation of the \"*Standard Variational Autoencoder*\" [[Gupta et al.,2018, chapter 5.1]](https://arxiv.org/pdf/1808.01006.pdf) .\n",
    "\n",
    "The \"*Standard Variational Autoencoder*\" is enhanced using $\\mathbf \\beta$-VAE [[Higgins et al, 2016]](https://openreview.net/pdf?id=Sy2fzU9gl), [[Burgess et al, 2018]](https://arxiv.org/pdf/1804.03599.pdf). Also, for tuning the parameter $\\mathbf \\beta$ an annealing methodology is used based on [[Bowman et al, 2015]](https://arxiv.org/pdf/1511.06349.pdf) and [[Liang, Dawen, et al,2018]](https://dl.acm.org/doi/pdf/10.1145/3178876.3186150?casa_token=Heh8W001edYAAAAA:P_y4buj0zb2ml8GpDXONkrc3EYEBOxgjZNAJOuqes60aeJ4C1Vg1Wq5Eh6mkCXhxNKp38pO_eUw).\n",
    "\n",
    "\n",
    "In this notebook, we will show a complete self-contained example of training a \"*Standard Variational Autoencoder*\" with a simple ELBO function/loss (described in the original paper) and the prosposed extention of it. The public [Amazon dataset](https://nijianmo.github.io/amazon/index.html) is used for training and evaluating our model, with subcategory Fashion. For this notebook it is assumed that the reader has basic knowledge about VAE [[Kingma et al, 2013]](https://arxiv.org/pdf/1312.6114.pdf).\n",
    "\n",
    "\n",
    "\n"
   ]
  },
  {
   "cell_type": "markdown",
   "id": "0bdfb1c5",
   "metadata": {
    "id": "wqTaWp1M7Em8"
   },
   "source": [
    "# 0 Global Settings and Imports"
   ]
  },
  {
   "cell_type": "code",
   "execution_count": 112,
   "id": "7abfed7e",
   "metadata": {
    "colab": {
     "base_uri": "https://localhost:8080/",
     "height": 1000
    },
    "id": "pzWbu_nfd1GG",
    "outputId": "2e710d84-c5e3-40bc-b1d9-5c61dec7d207"
   },
   "outputs": [
    {
     "name": "stdout",
     "output_type": "stream",
     "text": [
      "Requirement already satisfied: tensorflow==2.2.0-rc1 in /root/conda/lib/python3.7/site-packages (2.2.0rc1)\n",
      "Requirement already satisfied: grpcio>=1.8.6 in /root/conda/lib/python3.7/site-packages (from tensorflow==2.2.0-rc1) (1.42.0)\n",
      "Collecting gast==0.3.3\n",
      "  Using cached gast-0.3.3-py2.py3-none-any.whl (9.7 kB)\n",
      "Requirement already satisfied: six>=1.12.0 in /root/conda/lib/python3.7/site-packages (from tensorflow==2.2.0-rc1) (1.16.0)\n",
      "Requirement already satisfied: wheel>=0.26 in /root/conda/lib/python3.7/site-packages (from tensorflow==2.2.0-rc1) (0.36.2)\n",
      "Requirement already satisfied: astunparse==1.6.3 in /root/conda/lib/python3.7/site-packages (from tensorflow==2.2.0-rc1) (1.6.3)\n",
      "Requirement already satisfied: termcolor>=1.1.0 in /root/conda/lib/python3.7/site-packages (from tensorflow==2.2.0-rc1) (1.1.0)\n",
      "Requirement already satisfied: google-pasta>=0.1.8 in /root/conda/lib/python3.7/site-packages (from tensorflow==2.2.0-rc1) (0.2.0)\n",
      "Requirement already satisfied: protobuf>=3.8.0 in /root/conda/lib/python3.7/site-packages (from tensorflow==2.2.0-rc1) (3.19.1)\n",
      "Requirement already satisfied: opt-einsum>=2.3.2 in /root/conda/lib/python3.7/site-packages (from tensorflow==2.2.0-rc1) (3.3.0)\n",
      "Collecting scipy==1.4.1\n",
      "  Using cached scipy-1.4.1-cp37-cp37m-manylinux1_x86_64.whl (26.1 MB)\n",
      "Requirement already satisfied: numpy<2.0,>=1.16.0 in /root/conda/lib/python3.7/site-packages (from tensorflow==2.2.0-rc1) (1.20.3)\n",
      "Collecting tensorboard<2.2.0,>=2.1.0\n",
      "  Using cached tensorboard-2.1.1-py3-none-any.whl (3.8 MB)\n",
      "Requirement already satisfied: absl-py>=0.7.0 in /root/conda/lib/python3.7/site-packages (from tensorflow==2.2.0-rc1) (1.0.0)\n",
      "Requirement already satisfied: keras-preprocessing>=1.1.0 in /root/conda/lib/python3.7/site-packages (from tensorflow==2.2.0-rc1) (1.1.2)\n",
      "Requirement already satisfied: h5py<2.11.0,>=2.10.0 in /root/conda/lib/python3.7/site-packages (from tensorflow==2.2.0-rc1) (2.10.0)\n",
      "Requirement already satisfied: wrapt>=1.11.1 in /root/conda/lib/python3.7/site-packages (from tensorflow==2.2.0-rc1) (1.13.3)\n",
      "Collecting tensorflow-estimator<2.3.0,>=2.2.0rc0\n",
      "  Using cached tensorflow_estimator-2.2.0-py2.py3-none-any.whl (454 kB)\n",
      "Requirement already satisfied: requests<3,>=2.21.0 in /root/conda/lib/python3.7/site-packages (from tensorboard<2.2.0,>=2.1.0->tensorflow==2.2.0-rc1) (2.25.1)\n",
      "Requirement already satisfied: markdown>=2.6.8 in /root/conda/lib/python3.7/site-packages (from tensorboard<2.2.0,>=2.1.0->tensorflow==2.2.0-rc1) (3.3.6)\n",
      "Requirement already satisfied: werkzeug>=0.11.15 in /root/conda/lib/python3.7/site-packages (from tensorboard<2.2.0,>=2.1.0->tensorflow==2.2.0-rc1) (2.0.2)\n",
      "Requirement already satisfied: google-auth<2,>=1.6.3 in /root/conda/lib/python3.7/site-packages (from tensorboard<2.2.0,>=2.1.0->tensorflow==2.2.0-rc1) (1.35.0)\n",
      "Requirement already satisfied: google-auth-oauthlib<0.5,>=0.4.1 in /root/conda/lib/python3.7/site-packages (from tensorboard<2.2.0,>=2.1.0->tensorflow==2.2.0-rc1) (0.4.6)\n",
      "Requirement already satisfied: setuptools>=41.0.0 in /root/conda/lib/python3.7/site-packages (from tensorboard<2.2.0,>=2.1.0->tensorflow==2.2.0-rc1) (58.0.4)\n",
      "Requirement already satisfied: rsa<5,>=3.1.4 in /root/conda/lib/python3.7/site-packages (from google-auth<2,>=1.6.3->tensorboard<2.2.0,>=2.1.0->tensorflow==2.2.0-rc1) (4.8)\n",
      "Requirement already satisfied: pyasn1-modules>=0.2.1 in /root/conda/lib/python3.7/site-packages (from google-auth<2,>=1.6.3->tensorboard<2.2.0,>=2.1.0->tensorflow==2.2.0-rc1) (0.2.8)\n",
      "Requirement already satisfied: cachetools<5.0,>=2.0.0 in /root/conda/lib/python3.7/site-packages (from google-auth<2,>=1.6.3->tensorboard<2.2.0,>=2.1.0->tensorflow==2.2.0-rc1) (4.2.4)\n",
      "Requirement already satisfied: requests-oauthlib>=0.7.0 in /root/conda/lib/python3.7/site-packages (from google-auth-oauthlib<0.5,>=0.4.1->tensorboard<2.2.0,>=2.1.0->tensorflow==2.2.0-rc1) (1.3.0)\n",
      "Requirement already satisfied: importlib-metadata>=4.4 in /root/conda/lib/python3.7/site-packages (from markdown>=2.6.8->tensorboard<2.2.0,>=2.1.0->tensorflow==2.2.0-rc1) (4.8.2)\n",
      "Requirement already satisfied: zipp>=0.5 in /root/conda/lib/python3.7/site-packages (from importlib-metadata>=4.4->markdown>=2.6.8->tensorboard<2.2.0,>=2.1.0->tensorflow==2.2.0-rc1) (3.6.0)\n",
      "Requirement already satisfied: typing-extensions>=3.6.4 in /root/conda/lib/python3.7/site-packages (from importlib-metadata>=4.4->markdown>=2.6.8->tensorboard<2.2.0,>=2.1.0->tensorflow==2.2.0-rc1) (3.10.0.2)\n",
      "Requirement already satisfied: pyasn1<0.5.0,>=0.4.6 in /root/conda/lib/python3.7/site-packages (from pyasn1-modules>=0.2.1->google-auth<2,>=1.6.3->tensorboard<2.2.0,>=2.1.0->tensorflow==2.2.0-rc1) (0.4.8)\n",
      "Requirement already satisfied: certifi>=2017.4.17 in /root/conda/lib/python3.7/site-packages (from requests<3,>=2.21.0->tensorboard<2.2.0,>=2.1.0->tensorflow==2.2.0-rc1) (2021.10.8)\n",
      "Requirement already satisfied: chardet<5,>=3.0.2 in /root/conda/lib/python3.7/site-packages (from requests<3,>=2.21.0->tensorboard<2.2.0,>=2.1.0->tensorflow==2.2.0-rc1) (4.0.0)\n",
      "Requirement already satisfied: idna<3,>=2.5 in /root/conda/lib/python3.7/site-packages (from requests<3,>=2.21.0->tensorboard<2.2.0,>=2.1.0->tensorflow==2.2.0-rc1) (2.10)\n",
      "Requirement already satisfied: urllib3<1.27,>=1.21.1 in /root/conda/lib/python3.7/site-packages (from requests<3,>=2.21.0->tensorboard<2.2.0,>=2.1.0->tensorflow==2.2.0-rc1) (1.26.6)\n",
      "Requirement already satisfied: oauthlib>=3.0.0 in /root/conda/lib/python3.7/site-packages (from requests-oauthlib>=0.7.0->google-auth-oauthlib<0.5,>=0.4.1->tensorboard<2.2.0,>=2.1.0->tensorflow==2.2.0-rc1) (3.1.1)\n",
      "Installing collected packages: tensorflow-estimator, tensorboard, scipy, gast\n",
      "  Attempting uninstall: tensorflow-estimator\n",
      "    Found existing installation: tensorflow-estimator 1.15.1\n",
      "    Uninstalling tensorflow-estimator-1.15.1:\n",
      "      Successfully uninstalled tensorflow-estimator-1.15.1\n",
      "  Attempting uninstall: tensorboard\n",
      "    Found existing installation: tensorboard 1.15.0\n",
      "    Uninstalling tensorboard-1.15.0:\n",
      "      Successfully uninstalled tensorboard-1.15.0\n",
      "  Attempting uninstall: scipy\n",
      "    Found existing installation: scipy 1.6.1\n",
      "    Uninstalling scipy-1.6.1:\n",
      "      Successfully uninstalled scipy-1.6.1\n",
      "  Attempting uninstall: gast\n",
      "    Found existing installation: gast 0.2.2\n",
      "    Uninstalling gast-0.2.2:\n",
      "      Successfully uninstalled gast-0.2.2\n",
      "\u001b[31mERROR: pip's dependency resolver does not currently take into account all the packages that are installed. This behaviour is the source of the following dependency conflicts.\n",
      "tensorflow-gpu 1.15.0 requires gast==0.2.2, but you have gast 0.3.3 which is incompatible.\n",
      "tensorflow-gpu 1.15.0 requires tensorboard<1.16.0,>=1.15.0, but you have tensorboard 2.1.1 which is incompatible.\n",
      "tensorflow-gpu 1.15.0 requires tensorflow-estimator==1.15.1, but you have tensorflow-estimator 2.2.0 which is incompatible.\u001b[0m\n",
      "Successfully installed gast-0.3.3 scipy-1.4.1 tensorboard-2.1.1 tensorflow-estimator-2.2.0\n",
      "\u001b[33mWARNING: Running pip as the 'root' user can result in broken permissions and conflicting behaviour with the system package manager. It is recommended to use a virtual environment instead: https://pip.pypa.io/warnings/venv\u001b[0m\n",
      "Requirement already satisfied: keras==2.3.1 in /root/conda/lib/python3.7/site-packages (2.3.1)\n",
      "Requirement already satisfied: keras-preprocessing>=1.0.5 in /root/conda/lib/python3.7/site-packages (from keras==2.3.1) (1.1.2)\n",
      "Requirement already satisfied: pyyaml in /root/conda/lib/python3.7/site-packages (from keras==2.3.1) (5.4.1)\n",
      "Requirement already satisfied: h5py in /root/conda/lib/python3.7/site-packages (from keras==2.3.1) (2.10.0)\n",
      "Requirement already satisfied: numpy>=1.9.1 in /root/conda/lib/python3.7/site-packages (from keras==2.3.1) (1.20.3)\n",
      "Requirement already satisfied: six>=1.9.0 in /root/conda/lib/python3.7/site-packages (from keras==2.3.1) (1.16.0)\n",
      "Requirement already satisfied: scipy>=0.14 in /root/conda/lib/python3.7/site-packages (from keras==2.3.1) (1.4.1)\n",
      "Requirement already satisfied: keras-applications>=1.0.6 in /root/conda/lib/python3.7/site-packages (from keras==2.3.1) (1.0.8)\n",
      "\u001b[33mWARNING: Running pip as the 'root' user can result in broken permissions and conflicting behaviour with the system package manager. It is recommended to use a virtual environment instead: https://pip.pypa.io/warnings/venv\u001b[0m\n"
     ]
    },
    {
     "name": "stdout",
     "output_type": "stream",
     "text": [
      "Requirement already satisfied: papermill in /root/conda/lib/python3.7/site-packages (2.3.3)\n",
      "Requirement already satisfied: black in /root/conda/lib/python3.7/site-packages (from papermill) (21.12b0)\n",
      "Requirement already satisfied: nbclient>=0.2.0 in /root/conda/lib/python3.7/site-packages (from papermill) (0.5.9)\n",
      "Requirement already satisfied: ansiwrap in /root/conda/lib/python3.7/site-packages (from papermill) (0.8.4)\n",
      "Requirement already satisfied: requests in /root/conda/lib/python3.7/site-packages (from papermill) (2.25.1)\n",
      "Requirement already satisfied: click in /root/conda/lib/python3.7/site-packages (from papermill) (8.0.3)\n",
      "Requirement already satisfied: pyyaml in /root/conda/lib/python3.7/site-packages (from papermill) (5.4.1)\n",
      "Requirement already satisfied: entrypoints in /root/conda/lib/python3.7/site-packages (from papermill) (0.3)\n",
      "Requirement already satisfied: tenacity in /root/conda/lib/python3.7/site-packages (from papermill) (8.0.1)\n",
      "Requirement already satisfied: nbformat>=5.1.2 in /root/conda/lib/python3.7/site-packages (from papermill) (5.1.3)\n",
      "Requirement already satisfied: tqdm>=4.32.2 in /root/conda/lib/python3.7/site-packages (from papermill) (4.61.2)\n",
      "Requirement already satisfied: jupyter-client>=6.1.5 in /root/conda/lib/python3.7/site-packages (from nbclient>=0.2.0->papermill) (7.1.0)\n",
      "Requirement already satisfied: traitlets>=4.2 in /root/conda/lib/python3.7/site-packages (from nbclient>=0.2.0->papermill) (5.1.1)\n",
      "Requirement already satisfied: nest-asyncio in /root/conda/lib/python3.7/site-packages (from nbclient>=0.2.0->papermill) (1.5.4)\n",
      "Requirement already satisfied: jupyter-core>=4.6.0 in /root/conda/lib/python3.7/site-packages (from jupyter-client>=6.1.5->nbclient>=0.2.0->papermill) (4.9.1)\n",
      "Requirement already satisfied: tornado>=4.1 in /root/conda/lib/python3.7/site-packages (from jupyter-client>=6.1.5->nbclient>=0.2.0->papermill) (6.1)\n",
      "Requirement already satisfied: pyzmq>=13 in /root/conda/lib/python3.7/site-packages (from jupyter-client>=6.1.5->nbclient>=0.2.0->papermill) (22.3.0)\n",
      "Requirement already satisfied: python-dateutil>=2.1 in /root/conda/lib/python3.7/site-packages (from jupyter-client>=6.1.5->nbclient>=0.2.0->papermill) (2.8.2)\n",
      "Requirement already satisfied: jsonschema!=2.5.0,>=2.4 in /root/conda/lib/python3.7/site-packages (from nbformat>=5.1.2->papermill) (4.2.1)\n",
      "Requirement already satisfied: ipython-genutils in /root/conda/lib/python3.7/site-packages (from nbformat>=5.1.2->papermill) (0.2.0)\n",
      "Requirement already satisfied: importlib-metadata in /root/conda/lib/python3.7/site-packages (from jsonschema!=2.5.0,>=2.4->nbformat>=5.1.2->papermill) (4.8.2)\n",
      "Requirement already satisfied: importlib-resources>=1.4.0 in /root/conda/lib/python3.7/site-packages (from jsonschema!=2.5.0,>=2.4->nbformat>=5.1.2->papermill) (5.4.0)\n",
      "Requirement already satisfied: pyrsistent!=0.17.0,!=0.17.1,!=0.17.2,>=0.14.0 in /root/conda/lib/python3.7/site-packages (from jsonschema!=2.5.0,>=2.4->nbformat>=5.1.2->papermill) (0.18.0)\n",
      "Requirement already satisfied: attrs>=17.4.0 in /root/conda/lib/python3.7/site-packages (from jsonschema!=2.5.0,>=2.4->nbformat>=5.1.2->papermill) (21.2.0)\n",
      "Requirement already satisfied: zipp>=3.1.0 in /root/conda/lib/python3.7/site-packages (from importlib-resources>=1.4.0->jsonschema!=2.5.0,>=2.4->nbformat>=5.1.2->papermill) (3.6.0)\n",
      "Requirement already satisfied: six>=1.5 in /root/conda/lib/python3.7/site-packages (from python-dateutil>=2.1->jupyter-client>=6.1.5->nbclient>=0.2.0->papermill) (1.16.0)\n",
      "Requirement already satisfied: textwrap3>=0.9.2 in /root/conda/lib/python3.7/site-packages (from ansiwrap->papermill) (0.9.2)\n",
      "Requirement already satisfied: typing-extensions>=3.10.0.0 in /root/conda/lib/python3.7/site-packages (from black->papermill) (3.10.0.2)\n",
      "Requirement already satisfied: platformdirs>=2 in /root/conda/lib/python3.7/site-packages (from black->papermill) (2.4.0)\n",
      "Requirement already satisfied: pathspec<1,>=0.9.0 in /root/conda/lib/python3.7/site-packages (from black->papermill) (0.9.0)\n",
      "Requirement already satisfied: typed-ast>=1.4.2 in /root/conda/lib/python3.7/site-packages (from black->papermill) (1.5.1)\n",
      "Requirement already satisfied: mypy-extensions>=0.4.3 in /root/conda/lib/python3.7/site-packages (from black->papermill) (0.4.3)\n",
      "Requirement already satisfied: tomli<2.0.0,>=0.2.6 in /root/conda/lib/python3.7/site-packages (from black->papermill) (1.2.2)\n",
      "Requirement already satisfied: chardet<5,>=3.0.2 in /root/conda/lib/python3.7/site-packages (from requests->papermill) (4.0.0)\n",
      "Requirement already satisfied: idna<3,>=2.5 in /root/conda/lib/python3.7/site-packages (from requests->papermill) (2.10)\n",
      "Requirement already satisfied: certifi>=2017.4.17 in /root/conda/lib/python3.7/site-packages (from requests->papermill) (2021.10.8)\n",
      "Requirement already satisfied: urllib3<1.27,>=1.21.1 in /root/conda/lib/python3.7/site-packages (from requests->papermill) (1.26.6)\n",
      "\u001b[33mWARNING: Running pip as the 'root' user can result in broken permissions and conflicting behaviour with the system package manager. It is recommended to use a virtual environment instead: https://pip.pypa.io/warnings/venv\u001b[0m\n",
      "Requirement already satisfied: recommenders[examples,gpu] in /root/conda/lib/python3.7/site-packages (0.7.0)\n",
      "Requirement already satisfied: numpy>=1.14 in /root/conda/lib/python3.7/site-packages (from recommenders[examples,gpu]) (1.20.3)\n",
      "Requirement already satisfied: lightfm<2,>=1.15 in /root/conda/lib/python3.7/site-packages (from recommenders[examples,gpu]) (1.16)\n",
      "Requirement already satisfied: tqdm<5,>=4.31.1 in /root/conda/lib/python3.7/site-packages (from recommenders[examples,gpu]) (4.61.2)\n",
      "Requirement already satisfied: memory-profiler<1,>=0.54.0 in /root/conda/lib/python3.7/site-packages (from recommenders[examples,gpu]) (0.59.0)\n",
      "Requirement already satisfied: jinja2<3,>=2 in /root/conda/lib/python3.7/site-packages (from recommenders[examples,gpu]) (2.11.3)\n",
      "Requirement already satisfied: retrying>=1.3.3 in /root/conda/lib/python3.7/site-packages (from recommenders[examples,gpu]) (1.3.3)\n",
      "Requirement already satisfied: lightgbm>=2.2.1 in /root/conda/lib/python3.7/site-packages (from recommenders[examples,gpu]) (3.3.1)\n",
      "Requirement already satisfied: seaborn<1,>=0.8.1 in /root/conda/lib/python3.7/site-packages (from recommenders[examples,gpu]) (0.11.2)\n",
      "Requirement already satisfied: scipy<2,>=1.0.0 in /root/conda/lib/python3.7/site-packages (from recommenders[examples,gpu]) (1.4.1)\n",
      "Requirement already satisfied: transformers<5,>=2.5.0 in /root/conda/lib/python3.7/site-packages (from recommenders[examples,gpu]) (4.13.0)\n",
      "Requirement already satisfied: matplotlib<4,>=2.2.2 in /root/conda/lib/python3.7/site-packages (from recommenders[examples,gpu]) (3.5.1)\n",
      "Requirement already satisfied: pyyaml<6,>=5.4.1 in /root/conda/lib/python3.7/site-packages (from recommenders[examples,gpu]) (5.4.1)\n",
      "Requirement already satisfied: scikit-surprise<=1.1.1,>=0.19.1 in /root/conda/lib/python3.7/site-packages (from recommenders[examples,gpu]) (1.1.1)\n",
      "Requirement already satisfied: requests<3,>=2.0.0 in /root/conda/lib/python3.7/site-packages (from recommenders[examples,gpu]) (2.25.1)\n",
      "Requirement already satisfied: bottleneck<2,>=1.2.1 in /root/conda/lib/python3.7/site-packages (from recommenders[examples,gpu]) (1.3.2)\n",
      "Requirement already satisfied: numba<1,>=0.38.1 in /root/conda/lib/python3.7/site-packages (from recommenders[examples,gpu]) (0.54.1)\n",
      "Requirement already satisfied: cornac<2,>=1.1.2 in /root/conda/lib/python3.7/site-packages (from recommenders[examples,gpu]) (1.14.1)\n",
      "Requirement already satisfied: nltk<4,>=3.4 in /root/conda/lib/python3.7/site-packages (from recommenders[examples,gpu]) (3.6.5)\n",
      "Requirement already satisfied: scikit-learn<1,>=0.22.1 in /root/conda/lib/python3.7/site-packages (from recommenders[examples,gpu]) (0.24.2)\n",
      "Requirement already satisfied: category-encoders<2,>=1.3.0 in /root/conda/lib/python3.7/site-packages (from recommenders[examples,gpu]) (1.3.0)\n",
      "Requirement already satisfied: pydocumentdb>=2.3.3<3 in /root/conda/lib/python3.7/site-packages (from recommenders[examples,gpu]) (2.3.5)\n",
      "Requirement already satisfied: pymanopt<1,>=0.2.5 in /root/conda/lib/python3.7/site-packages (from recommenders[examples,gpu]) (0.2.5)\n",
      "Requirement already satisfied: pandas<2,>1.0.3 in /root/conda/lib/python3.7/site-packages (from recommenders[examples,gpu]) (1.3.5)\n",
      "Requirement already satisfied: fastai<2,>=1.0.46 in /root/conda/lib/python3.7/site-packages (from recommenders[examples,gpu]) (1.0.61)\n",
      "Requirement already satisfied: torch==1.2.0 in /root/conda/lib/python3.7/site-packages (from recommenders[examples,gpu]) (1.2.0)\n",
      "Requirement already satisfied: tensorflow-gpu<2,>=1.15.0 in /root/conda/lib/python3.7/site-packages (from recommenders[examples,gpu]) (1.15.0)\n",
      "Requirement already satisfied: nvidia-ml-py3>=7.352.0 in /root/conda/lib/python3.7/site-packages (from recommenders[examples,gpu]) (7.352.0)\n",
      "Requirement already satisfied: jupyter<2,>=1 in /root/conda/lib/python3.7/site-packages (from recommenders[examples,gpu]) (1.0.0)\n",
      "Requirement already satisfied: scrapbook<1.0.0,>=0.5.0 in /root/conda/lib/python3.7/site-packages (from recommenders[examples,gpu]) (0.5.0)\n",
      "Requirement already satisfied: azure.mgmt.cosmosdb<1,>=0.8.0 in /root/conda/lib/python3.7/site-packages (from recommenders[examples,gpu]) (0.16.0)\n",
      "Requirement already satisfied: papermill<3,>=2.1.2 in /root/conda/lib/python3.7/site-packages (from recommenders[examples,gpu]) (2.3.3)\n"
     ]
    },
    {
     "name": "stdout",
     "output_type": "stream",
     "text": [
      "Requirement already satisfied: hyperopt<1,>=0.1.2 in /root/conda/lib/python3.7/site-packages (from recommenders[examples,gpu]) (0.2.7)\n",
      "Requirement already satisfied: locust<2,>=1 in /root/conda/lib/python3.7/site-packages (from recommenders[examples,gpu]) (1.6.0)\n",
      "Requirement already satisfied: ipykernel<5,>=4.6.1 in /root/conda/lib/python3.7/site-packages (from recommenders[examples,gpu]) (4.10.1)\n",
      "Requirement already satisfied: azure-common~=1.1 in /root/conda/lib/python3.7/site-packages (from azure.mgmt.cosmosdb<1,>=0.8.0->recommenders[examples,gpu]) (1.1.27)\n",
      "Requirement already satisfied: msrestazure<2.0.0,>=0.4.32 in /root/conda/lib/python3.7/site-packages (from azure.mgmt.cosmosdb<1,>=0.8.0->recommenders[examples,gpu]) (0.6.4)\n",
      "Requirement already satisfied: msrest>=0.5.0 in /root/conda/lib/python3.7/site-packages (from azure.mgmt.cosmosdb<1,>=0.8.0->recommenders[examples,gpu]) (0.6.21)\n",
      "Requirement already satisfied: patsy>=0.4.1 in /root/conda/lib/python3.7/site-packages (from category-encoders<2,>=1.3.0->recommenders[examples,gpu]) (0.5.2)\n",
      "Requirement already satisfied: statsmodels>=0.6.1 in /root/conda/lib/python3.7/site-packages (from category-encoders<2,>=1.3.0->recommenders[examples,gpu]) (0.13.1)\n",
      "Requirement already satisfied: powerlaw in /root/conda/lib/python3.7/site-packages (from cornac<2,>=1.1.2->recommenders[examples,gpu]) (1.5)\n",
      "Requirement already satisfied: torchvision in /root/conda/lib/python3.7/site-packages (from fastai<2,>=1.0.46->recommenders[examples,gpu]) (0.4.0)\n",
      "Requirement already satisfied: numexpr in /root/conda/lib/python3.7/site-packages (from fastai<2,>=1.0.46->recommenders[examples,gpu]) (2.8.1)\n",
      "Requirement already satisfied: beautifulsoup4 in /root/conda/lib/python3.7/site-packages (from fastai<2,>=1.0.46->recommenders[examples,gpu]) (4.10.0)\n",
      "Requirement already satisfied: Pillow in /root/conda/lib/python3.7/site-packages (from fastai<2,>=1.0.46->recommenders[examples,gpu]) (8.4.0)\n",
      "Requirement already satisfied: packaging in /root/conda/lib/python3.7/site-packages (from fastai<2,>=1.0.46->recommenders[examples,gpu]) (21.3)\n",
      "Requirement already satisfied: spacy>=2.0.18 in /root/conda/lib/python3.7/site-packages (from fastai<2,>=1.0.46->recommenders[examples,gpu]) (3.2.1)\n",
      "Requirement already satisfied: fastprogress>=0.2.1 in /root/conda/lib/python3.7/site-packages (from fastai<2,>=1.0.46->recommenders[examples,gpu]) (1.0.0)\n",
      "Requirement already satisfied: networkx>=2.2 in /root/conda/lib/python3.7/site-packages (from hyperopt<1,>=0.1.2->recommenders[examples,gpu]) (2.6.3)\n",
      "Requirement already satisfied: six in /root/conda/lib/python3.7/site-packages (from hyperopt<1,>=0.1.2->recommenders[examples,gpu]) (1.16.0)\n",
      "Requirement already satisfied: future in /root/conda/lib/python3.7/site-packages (from hyperopt<1,>=0.1.2->recommenders[examples,gpu]) (0.18.2)\n",
      "Requirement already satisfied: cloudpickle in /root/conda/lib/python3.7/site-packages (from hyperopt<1,>=0.1.2->recommenders[examples,gpu]) (2.0.0)\n",
      "Requirement already satisfied: py4j in /root/conda/lib/python3.7/site-packages (from hyperopt<1,>=0.1.2->recommenders[examples,gpu]) (0.10.9.3)\n",
      "Requirement already satisfied: traitlets>=4.1.0 in /root/conda/lib/python3.7/site-packages (from ipykernel<5,>=4.6.1->recommenders[examples,gpu]) (5.1.1)\n",
      "Requirement already satisfied: jupyter-client in /root/conda/lib/python3.7/site-packages (from ipykernel<5,>=4.6.1->recommenders[examples,gpu]) (7.1.0)\n",
      "Requirement already satisfied: ipython>=4.0.0 in /root/conda/lib/python3.7/site-packages (from ipykernel<5,>=4.6.1->recommenders[examples,gpu]) (7.30.1)\n",
      "Requirement already satisfied: tornado>=4.0 in /root/conda/lib/python3.7/site-packages (from ipykernel<5,>=4.6.1->recommenders[examples,gpu]) (6.1)\n",
      "Requirement already satisfied: prompt-toolkit!=3.0.0,!=3.0.1,<3.1.0,>=2.0.0 in /root/conda/lib/python3.7/site-packages (from ipython>=4.0.0->ipykernel<5,>=4.6.1->recommenders[examples,gpu]) (3.0.24)\n",
      "Requirement already satisfied: decorator in /root/conda/lib/python3.7/site-packages (from ipython>=4.0.0->ipykernel<5,>=4.6.1->recommenders[examples,gpu]) (5.1.0)\n",
      "Requirement already satisfied: matplotlib-inline in /root/conda/lib/python3.7/site-packages (from ipython>=4.0.0->ipykernel<5,>=4.6.1->recommenders[examples,gpu]) (0.1.3)\n",
      "Requirement already satisfied: backcall in /root/conda/lib/python3.7/site-packages (from ipython>=4.0.0->ipykernel<5,>=4.6.1->recommenders[examples,gpu]) (0.2.0)\n",
      "Requirement already satisfied: pexpect>4.3 in /root/conda/lib/python3.7/site-packages (from ipython>=4.0.0->ipykernel<5,>=4.6.1->recommenders[examples,gpu]) (4.8.0)\n",
      "Requirement already satisfied: jedi>=0.16 in /root/conda/lib/python3.7/site-packages (from ipython>=4.0.0->ipykernel<5,>=4.6.1->recommenders[examples,gpu]) (0.18.1)\n",
      "Requirement already satisfied: pygments in /root/conda/lib/python3.7/site-packages (from ipython>=4.0.0->ipykernel<5,>=4.6.1->recommenders[examples,gpu]) (2.10.0)\n",
      "Requirement already satisfied: pickleshare in /root/conda/lib/python3.7/site-packages (from ipython>=4.0.0->ipykernel<5,>=4.6.1->recommenders[examples,gpu]) (0.7.5)\n",
      "Requirement already satisfied: setuptools>=18.5 in /root/conda/lib/python3.7/site-packages (from ipython>=4.0.0->ipykernel<5,>=4.6.1->recommenders[examples,gpu]) (58.0.4)\n",
      "Requirement already satisfied: parso<0.9.0,>=0.8.0 in /root/conda/lib/python3.7/site-packages (from jedi>=0.16->ipython>=4.0.0->ipykernel<5,>=4.6.1->recommenders[examples,gpu]) (0.8.3)\n",
      "Requirement already satisfied: MarkupSafe>=0.23 in /root/conda/lib/python3.7/site-packages (from jinja2<3,>=2->recommenders[examples,gpu]) (2.0.1)\n",
      "Requirement already satisfied: jupyter-console in /root/conda/lib/python3.7/site-packages (from jupyter<2,>=1->recommenders[examples,gpu]) (6.4.0)\n",
      "Requirement already satisfied: qtconsole in /root/conda/lib/python3.7/site-packages (from jupyter<2,>=1->recommenders[examples,gpu]) (5.2.1)\n",
      "Requirement already satisfied: notebook in /root/conda/lib/python3.7/site-packages (from jupyter<2,>=1->recommenders[examples,gpu]) (6.4.6)\n",
      "Requirement already satisfied: ipywidgets in /root/conda/lib/python3.7/site-packages (from jupyter<2,>=1->recommenders[examples,gpu]) (7.6.5)\n",
      "Requirement already satisfied: nbconvert in /root/conda/lib/python3.7/site-packages (from jupyter<2,>=1->recommenders[examples,gpu]) (6.3.0)\n",
      "Requirement already satisfied: wheel in /root/conda/lib/python3.7/site-packages (from lightgbm>=2.2.1->recommenders[examples,gpu]) (0.36.2)\n",
      "Requirement already satisfied: Flask-BasicAuth>=0.2.0 in /root/conda/lib/python3.7/site-packages (from locust<2,>=1->recommenders[examples,gpu]) (0.2.0)\n",
      "Requirement already satisfied: gevent>=20.9.0 in /root/conda/lib/python3.7/site-packages (from locust<2,>=1->recommenders[examples,gpu]) (21.12.0)\n",
      "Requirement already satisfied: flask==1.1.2 in /root/conda/lib/python3.7/site-packages (from locust<2,>=1->recommenders[examples,gpu]) (1.1.2)\n",
      "Requirement already satisfied: ConfigArgParse>=1.0 in /root/conda/lib/python3.7/site-packages (from locust<2,>=1->recommenders[examples,gpu]) (1.5.3)\n",
      "Requirement already satisfied: geventhttpclient>=1.4.4 in /root/conda/lib/python3.7/site-packages (from locust<2,>=1->recommenders[examples,gpu]) (1.5.3)\n",
      "Requirement already satisfied: Flask-Cors>=3.0.10 in /root/conda/lib/python3.7/site-packages (from locust<2,>=1->recommenders[examples,gpu]) (3.0.10)\n",
      "Requirement already satisfied: msgpack>=0.6.2 in /root/conda/lib/python3.7/site-packages (from locust<2,>=1->recommenders[examples,gpu]) (1.0.3)\n",
      "Requirement already satisfied: Werkzeug>=1.0.1 in /root/conda/lib/python3.7/site-packages (from locust<2,>=1->recommenders[examples,gpu]) (2.0.2)\n",
      "Requirement already satisfied: psutil>=5.6.7 in /root/conda/lib/python3.7/site-packages (from locust<2,>=1->recommenders[examples,gpu]) (5.8.0)\n",
      "Requirement already satisfied: pyzmq>=16.0.2 in /root/conda/lib/python3.7/site-packages (from locust<2,>=1->recommenders[examples,gpu]) (22.3.0)\n",
      "Requirement already satisfied: click>=5.1 in /root/conda/lib/python3.7/site-packages (from flask==1.1.2->locust<2,>=1->recommenders[examples,gpu]) (8.0.3)\n",
      "Requirement already satisfied: itsdangerous>=0.24 in /root/conda/lib/python3.7/site-packages (from flask==1.1.2->locust<2,>=1->recommenders[examples,gpu]) (2.0.1)\n",
      "Requirement already satisfied: importlib-metadata in /root/conda/lib/python3.7/site-packages (from click>=5.1->flask==1.1.2->locust<2,>=1->recommenders[examples,gpu]) (4.8.2)\n"
     ]
    },
    {
     "name": "stdout",
     "output_type": "stream",
     "text": [
      "Requirement already satisfied: greenlet<2.0,>=1.1.0 in /root/conda/lib/python3.7/site-packages (from gevent>=20.9.0->locust<2,>=1->recommenders[examples,gpu]) (1.1.2)\n",
      "Requirement already satisfied: zope.interface in /root/conda/lib/python3.7/site-packages (from gevent>=20.9.0->locust<2,>=1->recommenders[examples,gpu]) (5.4.0)\n",
      "Requirement already satisfied: zope.event in /root/conda/lib/python3.7/site-packages (from gevent>=20.9.0->locust<2,>=1->recommenders[examples,gpu]) (4.5.0)\n",
      "Requirement already satisfied: brotli in /root/conda/lib/python3.7/site-packages (from geventhttpclient>=1.4.4->locust<2,>=1->recommenders[examples,gpu]) (1.0.9)\n",
      "Requirement already satisfied: certifi in /root/conda/lib/python3.7/site-packages (from geventhttpclient>=1.4.4->locust<2,>=1->recommenders[examples,gpu]) (2021.10.8)\n",
      "Requirement already satisfied: python-dateutil>=2.7 in /root/conda/lib/python3.7/site-packages (from matplotlib<4,>=2.2.2->recommenders[examples,gpu]) (2.8.2)\n",
      "Requirement already satisfied: kiwisolver>=1.0.1 in /root/conda/lib/python3.7/site-packages (from matplotlib<4,>=2.2.2->recommenders[examples,gpu]) (1.3.2)\n",
      "Requirement already satisfied: pyparsing>=2.2.1 in /root/conda/lib/python3.7/site-packages (from matplotlib<4,>=2.2.2->recommenders[examples,gpu]) (3.0.6)\n",
      "Requirement already satisfied: cycler>=0.10 in /root/conda/lib/python3.7/site-packages (from matplotlib<4,>=2.2.2->recommenders[examples,gpu]) (0.11.0)\n",
      "Requirement already satisfied: fonttools>=4.22.0 in /root/conda/lib/python3.7/site-packages (from matplotlib<4,>=2.2.2->recommenders[examples,gpu]) (4.28.3)\n",
      "Requirement already satisfied: requests-oauthlib>=0.5.0 in /root/conda/lib/python3.7/site-packages (from msrest>=0.5.0->azure.mgmt.cosmosdb<1,>=0.8.0->recommenders[examples,gpu]) (1.3.0)\n",
      "Requirement already satisfied: isodate>=0.6.0 in /root/conda/lib/python3.7/site-packages (from msrest>=0.5.0->azure.mgmt.cosmosdb<1,>=0.8.0->recommenders[examples,gpu]) (0.6.0)\n",
      "Requirement already satisfied: adal<2.0.0,>=0.6.0 in /root/conda/lib/python3.7/site-packages (from msrestazure<2.0.0,>=0.4.32->azure.mgmt.cosmosdb<1,>=0.8.0->recommenders[examples,gpu]) (1.2.7)\n",
      "Requirement already satisfied: PyJWT<3,>=1.0.0 in /root/conda/lib/python3.7/site-packages (from adal<2.0.0,>=0.6.0->msrestazure<2.0.0,>=0.4.32->azure.mgmt.cosmosdb<1,>=0.8.0->recommenders[examples,gpu]) (2.3.0)\n",
      "Requirement already satisfied: cryptography>=1.1.0 in /root/conda/lib/python3.7/site-packages (from adal<2.0.0,>=0.6.0->msrestazure<2.0.0,>=0.4.32->azure.mgmt.cosmosdb<1,>=0.8.0->recommenders[examples,gpu]) (35.0.0)\n",
      "Requirement already satisfied: cffi>=1.12 in /root/conda/lib/python3.7/site-packages (from cryptography>=1.1.0->adal<2.0.0,>=0.6.0->msrestazure<2.0.0,>=0.4.32->azure.mgmt.cosmosdb<1,>=0.8.0->recommenders[examples,gpu]) (1.14.6)\n",
      "Requirement already satisfied: pycparser in /root/conda/lib/python3.7/site-packages (from cffi>=1.12->cryptography>=1.1.0->adal<2.0.0,>=0.6.0->msrestazure<2.0.0,>=0.4.32->azure.mgmt.cosmosdb<1,>=0.8.0->recommenders[examples,gpu]) (2.20)\n",
      "Requirement already satisfied: regex>=2021.8.3 in /root/conda/lib/python3.7/site-packages (from nltk<4,>=3.4->recommenders[examples,gpu]) (2021.11.10)\n",
      "Requirement already satisfied: joblib in /root/conda/lib/python3.7/site-packages (from nltk<4,>=3.4->recommenders[examples,gpu]) (1.1.0)\n",
      "Requirement already satisfied: llvmlite<0.38,>=0.37.0rc1 in /root/conda/lib/python3.7/site-packages (from numba<1,>=0.38.1->recommenders[examples,gpu]) (0.37.0)\n",
      "Requirement already satisfied: pytz>=2017.3 in /root/conda/lib/python3.7/site-packages (from pandas<2,>1.0.3->recommenders[examples,gpu]) (2021.3)\n",
      "Requirement already satisfied: entrypoints in /root/conda/lib/python3.7/site-packages (from papermill<3,>=2.1.2->recommenders[examples,gpu]) (0.3)\n",
      "Requirement already satisfied: black in /root/conda/lib/python3.7/site-packages (from papermill<3,>=2.1.2->recommenders[examples,gpu]) (21.12b0)\n",
      "Requirement already satisfied: ansiwrap in /root/conda/lib/python3.7/site-packages (from papermill<3,>=2.1.2->recommenders[examples,gpu]) (0.8.4)\n",
      "Requirement already satisfied: tenacity in /root/conda/lib/python3.7/site-packages (from papermill<3,>=2.1.2->recommenders[examples,gpu]) (8.0.1)\n",
      "Requirement already satisfied: nbclient>=0.2.0 in /root/conda/lib/python3.7/site-packages (from papermill<3,>=2.1.2->recommenders[examples,gpu]) (0.5.9)\n",
      "Requirement already satisfied: nbformat>=5.1.2 in /root/conda/lib/python3.7/site-packages (from papermill<3,>=2.1.2->recommenders[examples,gpu]) (5.1.3)\n",
      "Requirement already satisfied: nest-asyncio in /root/conda/lib/python3.7/site-packages (from nbclient>=0.2.0->papermill<3,>=2.1.2->recommenders[examples,gpu]) (1.5.4)\n",
      "Requirement already satisfied: jupyter-core>=4.6.0 in /root/conda/lib/python3.7/site-packages (from jupyter-client->ipykernel<5,>=4.6.1->recommenders[examples,gpu]) (4.9.1)\n",
      "Requirement already satisfied: jsonschema!=2.5.0,>=2.4 in /root/conda/lib/python3.7/site-packages (from nbformat>=5.1.2->papermill<3,>=2.1.2->recommenders[examples,gpu]) (4.2.1)\n",
      "Requirement already satisfied: ipython-genutils in /root/conda/lib/python3.7/site-packages (from nbformat>=5.1.2->papermill<3,>=2.1.2->recommenders[examples,gpu]) (0.2.0)\n",
      "Requirement already satisfied: pyrsistent!=0.17.0,!=0.17.1,!=0.17.2,>=0.14.0 in /root/conda/lib/python3.7/site-packages (from jsonschema!=2.5.0,>=2.4->nbformat>=5.1.2->papermill<3,>=2.1.2->recommenders[examples,gpu]) (0.18.0)\n",
      "Requirement already satisfied: attrs>=17.4.0 in /root/conda/lib/python3.7/site-packages (from jsonschema!=2.5.0,>=2.4->nbformat>=5.1.2->papermill<3,>=2.1.2->recommenders[examples,gpu]) (21.2.0)\n",
      "Requirement already satisfied: importlib-resources>=1.4.0 in /root/conda/lib/python3.7/site-packages (from jsonschema!=2.5.0,>=2.4->nbformat>=5.1.2->papermill<3,>=2.1.2->recommenders[examples,gpu]) (5.4.0)\n",
      "Requirement already satisfied: zipp>=3.1.0 in /root/conda/lib/python3.7/site-packages (from importlib-resources>=1.4.0->jsonschema!=2.5.0,>=2.4->nbformat>=5.1.2->papermill<3,>=2.1.2->recommenders[examples,gpu]) (3.6.0)\n",
      "Requirement already satisfied: ptyprocess>=0.5 in /root/conda/lib/python3.7/site-packages (from pexpect>4.3->ipython>=4.0.0->ipykernel<5,>=4.6.1->recommenders[examples,gpu]) (0.7.0)\n",
      "Requirement already satisfied: wcwidth in /root/conda/lib/python3.7/site-packages (from prompt-toolkit!=3.0.0,!=3.0.1,<3.1.0,>=2.0.0->ipython>=4.0.0->ipykernel<5,>=4.6.1->recommenders[examples,gpu]) (0.2.5)\n",
      "Requirement already satisfied: chardet<5,>=3.0.2 in /root/conda/lib/python3.7/site-packages (from requests<3,>=2.0.0->recommenders[examples,gpu]) (4.0.0)\n",
      "Requirement already satisfied: urllib3<1.27,>=1.21.1 in /root/conda/lib/python3.7/site-packages (from requests<3,>=2.0.0->recommenders[examples,gpu]) (1.26.6)\n",
      "Requirement already satisfied: idna<3,>=2.5 in /root/conda/lib/python3.7/site-packages (from requests<3,>=2.0.0->recommenders[examples,gpu]) (2.10)\n",
      "Requirement already satisfied: oauthlib>=3.0.0 in /root/conda/lib/python3.7/site-packages (from requests-oauthlib>=0.5.0->msrest>=0.5.0->azure.mgmt.cosmosdb<1,>=0.8.0->recommenders[examples,gpu]) (3.1.1)\n",
      "Requirement already satisfied: threadpoolctl>=2.0.0 in /root/conda/lib/python3.7/site-packages (from scikit-learn<1,>=0.22.1->recommenders[examples,gpu]) (3.0.0)\n",
      "Requirement already satisfied: pyarrow in /root/conda/lib/python3.7/site-packages (from scrapbook<1.0.0,>=0.5.0->recommenders[examples,gpu]) (6.0.1)\n",
      "Requirement already satisfied: wasabi<1.1.0,>=0.8.1 in /root/conda/lib/python3.7/site-packages (from spacy>=2.0.18->fastai<2,>=1.0.46->recommenders[examples,gpu]) (0.9.0)\n",
      "Requirement already satisfied: langcodes<4.0.0,>=3.2.0 in /root/conda/lib/python3.7/site-packages (from spacy>=2.0.18->fastai<2,>=1.0.46->recommenders[examples,gpu]) (3.3.0)\n",
      "Requirement already satisfied: thinc<8.1.0,>=8.0.12 in /root/conda/lib/python3.7/site-packages (from spacy>=2.0.18->fastai<2,>=1.0.46->recommenders[examples,gpu]) (8.0.13)\n",
      "Requirement already satisfied: pydantic!=1.8,!=1.8.1,<1.9.0,>=1.7.4 in /root/conda/lib/python3.7/site-packages (from spacy>=2.0.18->fastai<2,>=1.0.46->recommenders[examples,gpu]) (1.8.2)\n",
      "Requirement already satisfied: cymem<2.1.0,>=2.0.2 in /root/conda/lib/python3.7/site-packages (from spacy>=2.0.18->fastai<2,>=1.0.46->recommenders[examples,gpu]) (2.0.6)\n",
      "Requirement already satisfied: spacy-legacy<3.1.0,>=3.0.8 in /root/conda/lib/python3.7/site-packages (from spacy>=2.0.18->fastai<2,>=1.0.46->recommenders[examples,gpu]) (3.0.8)\n",
      "Requirement already satisfied: blis<0.8.0,>=0.4.0 in /root/conda/lib/python3.7/site-packages (from spacy>=2.0.18->fastai<2,>=1.0.46->recommenders[examples,gpu]) (0.7.5)\n",
      "Requirement already satisfied: preshed<3.1.0,>=3.0.2 in /root/conda/lib/python3.7/site-packages (from spacy>=2.0.18->fastai<2,>=1.0.46->recommenders[examples,gpu]) (3.0.6)\n",
      "Requirement already satisfied: typing-extensions<4.0.0.0,>=3.7.4 in /root/conda/lib/python3.7/site-packages (from spacy>=2.0.18->fastai<2,>=1.0.46->recommenders[examples,gpu]) (3.10.0.2)\n",
      "Requirement already satisfied: spacy-loggers<2.0.0,>=1.0.0 in /root/conda/lib/python3.7/site-packages (from spacy>=2.0.18->fastai<2,>=1.0.46->recommenders[examples,gpu]) (1.0.1)\n",
      "Requirement already satisfied: srsly<3.0.0,>=2.4.1 in /root/conda/lib/python3.7/site-packages (from spacy>=2.0.18->fastai<2,>=1.0.46->recommenders[examples,gpu]) (2.4.2)\n",
      "Requirement already satisfied: murmurhash<1.1.0,>=0.28.0 in /root/conda/lib/python3.7/site-packages (from spacy>=2.0.18->fastai<2,>=1.0.46->recommenders[examples,gpu]) (1.0.6)\n",
      "Requirement already satisfied: catalogue<2.1.0,>=2.0.6 in /root/conda/lib/python3.7/site-packages (from spacy>=2.0.18->fastai<2,>=1.0.46->recommenders[examples,gpu]) (2.0.6)\n",
      "Requirement already satisfied: typer<0.5.0,>=0.3.0 in /root/conda/lib/python3.7/site-packages (from spacy>=2.0.18->fastai<2,>=1.0.46->recommenders[examples,gpu]) (0.4.0)\n",
      "Requirement already satisfied: pathy>=0.3.5 in /root/conda/lib/python3.7/site-packages (from spacy>=2.0.18->fastai<2,>=1.0.46->recommenders[examples,gpu]) (0.6.1)\n"
     ]
    },
    {
     "name": "stdout",
     "output_type": "stream",
     "text": [
      "Requirement already satisfied: smart-open<6.0.0,>=5.0.0 in /root/conda/lib/python3.7/site-packages (from pathy>=0.3.5->spacy>=2.0.18->fastai<2,>=1.0.46->recommenders[examples,gpu]) (5.2.1)\n",
      "Requirement already satisfied: grpcio>=1.8.6 in /root/conda/lib/python3.7/site-packages (from tensorflow-gpu<2,>=1.15.0->recommenders[examples,gpu]) (1.42.0)\n",
      "Collecting tensorflow-estimator==1.15.1\n",
      "  Using cached tensorflow_estimator-1.15.1-py2.py3-none-any.whl (503 kB)\n",
      "Requirement already satisfied: termcolor>=1.1.0 in /root/conda/lib/python3.7/site-packages (from tensorflow-gpu<2,>=1.15.0->recommenders[examples,gpu]) (1.1.0)\n",
      "Requirement already satisfied: astor>=0.6.0 in /root/conda/lib/python3.7/site-packages (from tensorflow-gpu<2,>=1.15.0->recommenders[examples,gpu]) (0.8.1)\n",
      "Requirement already satisfied: google-pasta>=0.1.6 in /root/conda/lib/python3.7/site-packages (from tensorflow-gpu<2,>=1.15.0->recommenders[examples,gpu]) (0.2.0)\n",
      "Requirement already satisfied: keras-applications>=1.0.8 in /root/conda/lib/python3.7/site-packages (from tensorflow-gpu<2,>=1.15.0->recommenders[examples,gpu]) (1.0.8)\n",
      "Requirement already satisfied: protobuf>=3.6.1 in /root/conda/lib/python3.7/site-packages (from tensorflow-gpu<2,>=1.15.0->recommenders[examples,gpu]) (3.19.1)\n",
      "Collecting tensorboard<1.16.0,>=1.15.0\n",
      "  Using cached tensorboard-1.15.0-py3-none-any.whl (3.8 MB)\n",
      "Requirement already satisfied: wrapt>=1.11.1 in /root/conda/lib/python3.7/site-packages (from tensorflow-gpu<2,>=1.15.0->recommenders[examples,gpu]) (1.13.3)\n",
      "Requirement already satisfied: absl-py>=0.7.0 in /root/conda/lib/python3.7/site-packages (from tensorflow-gpu<2,>=1.15.0->recommenders[examples,gpu]) (1.0.0)\n",
      "Requirement already satisfied: opt-einsum>=2.3.2 in /root/conda/lib/python3.7/site-packages (from tensorflow-gpu<2,>=1.15.0->recommenders[examples,gpu]) (3.3.0)\n",
      "Collecting gast==0.2.2\n",
      "  Using cached gast-0.2.2-py3-none-any.whl\n",
      "Requirement already satisfied: keras-preprocessing>=1.0.5 in /root/conda/lib/python3.7/site-packages (from tensorflow-gpu<2,>=1.15.0->recommenders[examples,gpu]) (1.1.2)\n",
      "Requirement already satisfied: h5py in /root/conda/lib/python3.7/site-packages (from keras-applications>=1.0.8->tensorflow-gpu<2,>=1.15.0->recommenders[examples,gpu]) (2.10.0)\n",
      "Requirement already satisfied: markdown>=2.6.8 in /root/conda/lib/python3.7/site-packages (from tensorboard<1.16.0,>=1.15.0->tensorflow-gpu<2,>=1.15.0->recommenders[examples,gpu]) (3.3.6)\n",
      "Requirement already satisfied: sacremoses in /root/conda/lib/python3.7/site-packages (from transformers<5,>=2.5.0->recommenders[examples,gpu]) (0.0.46)\n",
      "Requirement already satisfied: tokenizers<0.11,>=0.10.1 in /root/conda/lib/python3.7/site-packages (from transformers<5,>=2.5.0->recommenders[examples,gpu]) (0.10.3)\n",
      "Requirement already satisfied: huggingface-hub<1.0,>=0.1.0 in /root/conda/lib/python3.7/site-packages (from transformers<5,>=2.5.0->recommenders[examples,gpu]) (0.2.1)\n",
      "Requirement already satisfied: filelock in /root/conda/lib/python3.7/site-packages (from transformers<5,>=2.5.0->recommenders[examples,gpu]) (3.4.0)\n",
      "Requirement already satisfied: textwrap3>=0.9.2 in /root/conda/lib/python3.7/site-packages (from ansiwrap->papermill<3,>=2.1.2->recommenders[examples,gpu]) (0.9.2)\n",
      "Requirement already satisfied: soupsieve>1.2 in /root/conda/lib/python3.7/site-packages (from beautifulsoup4->fastai<2,>=1.0.46->recommenders[examples,gpu]) (2.3.1)\n",
      "Requirement already satisfied: tomli<2.0.0,>=0.2.6 in /root/conda/lib/python3.7/site-packages (from black->papermill<3,>=2.1.2->recommenders[examples,gpu]) (1.2.2)\n",
      "Requirement already satisfied: pathspec<1,>=0.9.0 in /root/conda/lib/python3.7/site-packages (from black->papermill<3,>=2.1.2->recommenders[examples,gpu]) (0.9.0)\n",
      "Requirement already satisfied: typed-ast>=1.4.2 in /root/conda/lib/python3.7/site-packages (from black->papermill<3,>=2.1.2->recommenders[examples,gpu]) (1.5.1)\n",
      "Requirement already satisfied: mypy-extensions>=0.4.3 in /root/conda/lib/python3.7/site-packages (from black->papermill<3,>=2.1.2->recommenders[examples,gpu]) (0.4.3)\n",
      "Requirement already satisfied: platformdirs>=2 in /root/conda/lib/python3.7/site-packages (from black->papermill<3,>=2.1.2->recommenders[examples,gpu]) (2.4.0)\n",
      "Requirement already satisfied: widgetsnbextension~=3.5.0 in /root/conda/lib/python3.7/site-packages (from ipywidgets->jupyter<2,>=1->recommenders[examples,gpu]) (3.5.2)\n",
      "Requirement already satisfied: jupyterlab-widgets>=1.0.0 in /root/conda/lib/python3.7/site-packages (from ipywidgets->jupyter<2,>=1->recommenders[examples,gpu]) (1.0.2)\n",
      "Requirement already satisfied: argon2-cffi in /root/conda/lib/python3.7/site-packages (from notebook->jupyter<2,>=1->recommenders[examples,gpu]) (21.3.0)\n",
      "Requirement already satisfied: Send2Trash>=1.8.0 in /root/conda/lib/python3.7/site-packages (from notebook->jupyter<2,>=1->recommenders[examples,gpu]) (1.8.0)\n",
      "Requirement already satisfied: prometheus-client in /root/conda/lib/python3.7/site-packages (from notebook->jupyter<2,>=1->recommenders[examples,gpu]) (0.12.0)\n",
      "Requirement already satisfied: terminado>=0.8.3 in /root/conda/lib/python3.7/site-packages (from notebook->jupyter<2,>=1->recommenders[examples,gpu]) (0.12.1)\n",
      "Requirement already satisfied: argon2-cffi-bindings in /root/conda/lib/python3.7/site-packages (from argon2-cffi->notebook->jupyter<2,>=1->recommenders[examples,gpu]) (21.2.0)\n",
      "Requirement already satisfied: pandocfilters>=1.4.1 in /root/conda/lib/python3.7/site-packages (from nbconvert->jupyter<2,>=1->recommenders[examples,gpu]) (1.5.0)\n",
      "Requirement already satisfied: bleach in /root/conda/lib/python3.7/site-packages (from nbconvert->jupyter<2,>=1->recommenders[examples,gpu]) (4.1.0)\n",
      "Requirement already satisfied: testpath in /root/conda/lib/python3.7/site-packages (from nbconvert->jupyter<2,>=1->recommenders[examples,gpu]) (0.5.0)\n",
      "Requirement already satisfied: jupyterlab-pygments in /root/conda/lib/python3.7/site-packages (from nbconvert->jupyter<2,>=1->recommenders[examples,gpu]) (0.1.2)\n",
      "Requirement already satisfied: mistune<2,>=0.8.1 in /root/conda/lib/python3.7/site-packages (from nbconvert->jupyter<2,>=1->recommenders[examples,gpu]) (0.8.4)\n",
      "Requirement already satisfied: defusedxml in /root/conda/lib/python3.7/site-packages (from nbconvert->jupyter<2,>=1->recommenders[examples,gpu]) (0.7.1)\n",
      "Requirement already satisfied: webencodings in /root/conda/lib/python3.7/site-packages (from bleach->nbconvert->jupyter<2,>=1->recommenders[examples,gpu]) (0.5.1)\n",
      "Requirement already satisfied: mpmath in /root/conda/lib/python3.7/site-packages (from powerlaw->cornac<2,>=1.1.2->recommenders[examples,gpu]) (1.2.1)\n",
      "Requirement already satisfied: qtpy in /root/conda/lib/python3.7/site-packages (from qtconsole->jupyter<2,>=1->recommenders[examples,gpu]) (1.11.3)\n",
      "Installing collected packages: tensorflow-estimator, tensorboard, gast\n",
      "  Attempting uninstall: tensorflow-estimator\n",
      "    Found existing installation: tensorflow-estimator 2.2.0\n",
      "    Uninstalling tensorflow-estimator-2.2.0:\n",
      "      Successfully uninstalled tensorflow-estimator-2.2.0\n",
      "  Attempting uninstall: tensorboard\n",
      "    Found existing installation: tensorboard 2.1.1\n",
      "    Uninstalling tensorboard-2.1.1:\n",
      "      Successfully uninstalled tensorboard-2.1.1\n",
      "  Attempting uninstall: gast\n",
      "    Found existing installation: gast 0.3.3\n",
      "    Uninstalling gast-0.3.3:\n",
      "      Successfully uninstalled gast-0.3.3\n",
      "\u001b[31mERROR: pip's dependency resolver does not currently take into account all the packages that are installed. This behaviour is the source of the following dependency conflicts.\n",
      "tensorflow 2.2.0rc1 requires gast==0.3.3, but you have gast 0.2.2 which is incompatible.\n",
      "tensorflow 2.2.0rc1 requires tensorboard<2.2.0,>=2.1.0, but you have tensorboard 1.15.0 which is incompatible.\n",
      "tensorflow 2.2.0rc1 requires tensorflow-estimator<2.3.0,>=2.2.0rc0, but you have tensorflow-estimator 1.15.1 which is incompatible.\u001b[0m\n",
      "Successfully installed gast-0.2.2 tensorboard-1.15.0 tensorflow-estimator-1.15.1\n",
      "\u001b[33mWARNING: Running pip as the 'root' user can result in broken permissions and conflicting behaviour with the system package manager. It is recommended to use a virtual environment instead: https://pip.pypa.io/warnings/venv\u001b[0m\n"
     ]
    }
   ],
   "source": [
    "# download the necessary libraries\n",
    "! pip install tensorflow==2.2.0-rc1\n",
    "! pip install keras==2.3.1\n",
    "! pip install papermill\n",
    "! pip install recommenders[examples,gpu]"
   ]
  },
  {
   "cell_type": "code",
   "execution_count": 113,
   "id": "eccda9bd",
   "metadata": {},
   "outputs": [
    {
     "name": "stdout",
     "output_type": "stream",
     "text": [
      "Collecting scipy==1.6.1\n",
      "  Using cached scipy-1.6.1-cp37-cp37m-manylinux1_x86_64.whl (27.4 MB)\n",
      "Requirement already satisfied: numpy>=1.16.5 in /root/conda/lib/python3.7/site-packages (from scipy==1.6.1) (1.20.3)\n",
      "Installing collected packages: scipy\n",
      "  Attempting uninstall: scipy\n",
      "    Found existing installation: scipy 1.4.1\n",
      "    Uninstalling scipy-1.4.1:\n",
      "      Successfully uninstalled scipy-1.4.1\n",
      "\u001b[31mERROR: pip's dependency resolver does not currently take into account all the packages that are installed. This behaviour is the source of the following dependency conflicts.\n",
      "tensorflow 2.2.0rc1 requires gast==0.3.3, but you have gast 0.2.2 which is incompatible.\n",
      "tensorflow 2.2.0rc1 requires scipy==1.4.1; python_version >= \"3\", but you have scipy 1.6.1 which is incompatible.\n",
      "tensorflow 2.2.0rc1 requires tensorboard<2.2.0,>=2.1.0, but you have tensorboard 1.15.0 which is incompatible.\n",
      "tensorflow 2.2.0rc1 requires tensorflow-estimator<2.3.0,>=2.2.0rc0, but you have tensorflow-estimator 1.15.1 which is incompatible.\u001b[0m\n",
      "Successfully installed scipy-1.6.1\n",
      "\u001b[33mWARNING: Running pip as the 'root' user can result in broken permissions and conflicting behaviour with the system package manager. It is recommended to use a virtual environment instead: https://pip.pypa.io/warnings/venv\u001b[0m\n"
     ]
    }
   ],
   "source": [
    "!pip install scipy==1.6.1"
   ]
  },
  {
   "cell_type": "code",
   "execution_count": 114,
   "id": "f337bf03",
   "metadata": {
    "colab": {
     "base_uri": "https://localhost:8080/"
    },
    "id": "AXyb1KV27Em9",
    "outputId": "063e8693-feee-4a4e-abf4-c60638a3f7f1"
   },
   "outputs": [
    {
     "name": "stdout",
     "output_type": "stream",
     "text": [
      "System version: 3.7.11 (default, Jul 27 2021, 14:32:16) \n",
      "[GCC 7.5.0]\n",
      "Pandas version: 1.3.5\n",
      "Tensorflow version: 2.2.0-rc1\n",
      "Keras version: 2.3.1\n"
     ]
    }
   ],
   "source": [
    "import json\n",
    "import os\n",
    "import sys\n",
    "\n",
    "import keras\n",
    "import numpy as np\n",
    "import pandas as pd\n",
    "import papermill as pm\n",
    "import seaborn as sns\n",
    "import tensorflow as tf\n",
    "from matplotlib import pyplot as plt\n",
    "from matplotlib.transforms import Affine2D\n",
    "from recommenders.datasets.python_splitters import numpy_stratified_split\n",
    "from recommenders.datasets.sparse import AffinityMatrix\n",
    "from recommenders.datasets.split_utils import min_rating_filter_pandas\n",
    "from recommenders.evaluation.python_evaluation import (\n",
    "    map_at_k,\n",
    "    ndcg_at_k,\n",
    "    precision_at_k,\n",
    "    recall_at_k,\n",
    ")\n",
    "from recommenders.models.vae.standard_vae import StandardVAE\n",
    "from recommenders.utils.constants import SEED as DEFAULT_SEED\n",
    "from recommenders.utils.python_utils import binarize\n",
    "from recommenders.utils.timer import Timer\n",
    "from tensorflow.keras import backend as K\n",
    "from tensorflow.keras.layers import *\n",
    "from tensorflow.keras.losses import mean_squared_error\n",
    "from tensorflow.keras.models import Model\n",
    "\n",
    "\n",
    "%matplotlib inline\n",
    "sns.set()\n",
    "\n",
    "\n",
    "print(\"System version: {}\".format(sys.version))\n",
    "print(\"Pandas version: {}\".format(pd.__version__))\n",
    "print(\"Tensorflow version: {}\".format(tf.__version__))\n",
    "print(\"Keras version: {}\".format(keras.__version__))\n",
    "\n",
    "tf.compat.v1.disable_eager_execution()"
   ]
  },
  {
   "cell_type": "code",
   "execution_count": 115,
   "id": "5f2f4c3d",
   "metadata": {
    "id": "AH6Cjbta7EnB",
    "tags": [
     "parameters"
    ]
   },
   "outputs": [],
   "source": [
    "# top 10 items to recommend, the fashion dataset does not contain too many products.\n",
    "TOP_K = 10\n",
    "\n",
    "# Model parameters\n",
    "HELDOUT_USERS_VAL_PERC = 0.1  # CHANGE FOR DIFFERENT DATASIZE\n",
    "HELDOUT_USERS_TEST_PERC = 0.2  # CHANGE FOR DIFFERENT DATASIZE\n",
    "INTERMEDIATE_DIM = 50\n",
    "LATENT_DIM = 10\n",
    "EPOCHS = 50\n",
    "BATCH_SIZE = 10\n",
    "\n",
    "# temporary Path to save the optimal model's weights\n",
    "WEIGHTS_PATH = os.path.join(\".save_weights.hdf5\")\n",
    "\n",
    "SEED = 98765"
   ]
  },
  {
   "cell_type": "code",
   "execution_count": 116,
   "id": "1c2f85fa",
   "metadata": {},
   "outputs": [],
   "source": [
    "class StandardRealValueVAE(StandardVAE):\n",
    "    \"\"\"\n",
    "    Using inheritence we overloaded the methods to create real valued output for the VAE. \n",
    "    We used a MSE loss instead of a BCE and applied a softmax activation function on the last layer. \n",
    "    Additionally we applied a Lambda layer to scale the softmax layer to be in the 1-5 range.\n",
    "    \"\"\"\n",
    "\n",
    "    def __init__(self, min_rating, max_rating, *args, **kwargs):\n",
    "        self.min_rating = min_rating\n",
    "        self.max_rating = max_rating\n",
    "        self.scale_to_rating = Lambda(self._scale_rating)\n",
    "        super(StandardRealValueVAE, self).__init__(*args, **kwargs)\n",
    "\n",
    "    def _scale_rating(self, x):\n",
    "        return x * (self.max_rating - self.min_rating) + self.min_rating\n",
    "\n",
    "    def _create_model(self):\n",
    "        \"\"\"Build and compile model.\"\"\"\n",
    "        # Encoding\n",
    "        self.x = Input(shape=(self.original_dim,))\n",
    "        self.dropout_encoder = Dropout(self.drop_encoder)(self.x)\n",
    "        self.h = Dense(self.intermediate_dim, activation=\"tanh\")(\n",
    "            self.dropout_encoder)\n",
    "        self.z_mean = Dense(self.latent_dim)(self.h)\n",
    "        self.z_log_var = Dense(self.latent_dim)(self.h)\n",
    "\n",
    "        # Sampling\n",
    "        self.z = Lambda(self._take_sample, output_shape=(self.latent_dim,))(\n",
    "            [self.z_mean, self.z_log_var]\n",
    "        )\n",
    "\n",
    "        # Decoding\n",
    "        self.h_decoder = Dense(self.intermediate_dim, activation=\"tanh\")\n",
    "        self.dropout_decoder = Dropout(self.drop_decoder)\n",
    "        self.x_bar = Dense(self.original_dim, activation=\"softmax\")\n",
    "        self.h_decoded = self.h_decoder(self.z)\n",
    "        self.h_decoded_ = self.dropout_decoder(self.h_decoded)\n",
    "        self.x_decoded = self.x_bar(self.h_decoded_)\n",
    "        self.x_decoded = self.scale_to_rating(self.x_decoded)\n",
    "\n",
    "        # Training\n",
    "        self.model = Model(self.x, self.x_decoded)\n",
    "        self.model.compile(\n",
    "            optimizer=tf.keras.optimizers.Adam(learning_rate=0.001),\n",
    "            loss=self._get_vae_loss,\n",
    "        )\n",
    "\n",
    "    def _get_vae_loss(self, x, x_bar):\n",
    "        \"\"\"Calculate negative ELBO (NELBO).\"\"\"\n",
    "        # Reconstruction error: logistic log likelihood\n",
    "        reconst_loss = self.original_dim * mean_squared_error(x, x_bar)\n",
    "\n",
    "        # Kullback–Leibler divergence\n",
    "        kl_loss = 0.5 * K.sum(\n",
    "            -1 - self.z_log_var + K.square(self.z_mean) + K.exp(self.z_log_var), axis=-1\n",
    "        )\n",
    "\n",
    "        return reconst_loss + self.beta * kl_loss"
   ]
  },
  {
   "cell_type": "markdown",
   "id": "954ff4fe",
   "metadata": {
    "id": "C5ADl4Cu7EnD"
   },
   "source": [
    "# 1 Standard-VAE algorithm\n"
   ]
  },
  {
   "cell_type": "markdown",
   "id": "f0728e13",
   "metadata": {
    "id": "oU2r5-vexUh7"
   },
   "source": [
    "__Notations__: We use $u \\in \\{1,\\dots,U\\}$ to index users and $i \\in \\{1,\\dots,I\\}$ to index items. In this work, we consider learning with implicit feedback. The user-by-item interaction matrix is the rating matrix $\\mathbf{X} \\in \\mathbb{N}^{U\\times I}$. The lower case $\\mathbf{x}_u =[X_{u1},\\dots,X_{uI}]^\\top \\in \\mathbb{N}^I$ is a bag-of-words vector with the number of ratings for each item from user u. The original notebook used a binarized click matrix, but to create a better comparison between the different CF recommender systems, we decided to create a VAE with real valued output between 1 and 5."
   ]
  },
  {
   "cell_type": "markdown",
   "id": "e6849d51",
   "metadata": {
    "id": "ErGfeXjWxsfz"
   },
   "source": [
    "__Standard-VAE Model__: Autoencoder based recommendation is an unsupervised model attempting to reconstruct its input data in the output layer. The middle layer (bottleneck layer) is used as a salient feature representation of the input data. In this notebook, we study the standard variational autoencoder and derive the variational lower bound loss function of the standard variational autoencoder. The output of the SVAE is a probability distribution over the K items. This differs from the normal VAE that has the final output as the reconstructed input. So, the SVAE takes the user ratings in the form of a rating matrix, $\\mathbf{x}_u$, as inputs and then are encoded to learn the mean, $\\mathbf{m}_u$, and the standard deviation, $\\mathbf{\\sigma}_u$, of the K-dimensional latent representation through the encoder function, $\\mathbf{g}_\\phi(\\mathbf{x}_u)$ = $\\mathbf{m}_u$, $\\mathbf{\\sigma}_u$. In other words, the latent vector for each user,  $\\mathbf{z}_u$, is sampled from the Gaussian distribution, where $\\mathbf{z}_u$ ∼ N($\\mathbf{m}_u$, $\\mathbf{\\sigma}_u$). Then, the decoder function, $\\mathbf{f}_\\theta$($\\mathbf{z}_u$) = $\\mathbf{\\pi}_u$, is used to decode the latent vector from K-dimensional space to a probability distribution $\\mathbf{\\pi}_u$ in the original N-dimensional space. As a result, we get the ratings of each of the N products by each user."
   ]
  },
  {
   "cell_type": "markdown",
   "id": "620a4afa",
   "metadata": {
    "id": "ysxIWUcI7EnD"
   },
   "source": [
    "The objective __function/loss__ used in the model is the __ELBO__:\n",
    "\n",
    "$$Loss= \\log p_\\theta(\\mathbf{x}_u | \\mathbf{z}_u) -  KL (q(\\mathbf{z}_u)||p(\\mathbf{z}_u|\\mathbf{x}_u))$$\n",
    "\n",
    "where:\n",
    "* $\\mathbf{x}_u$: the product feature vector\n",
    "* $\\mathbf{z}_u$: latent representation of $\\mathbf{x}_u$\n",
    "* $KL$: The Kullback-Leibler divergence measure\n",
    "\n",
    "The first part of the ELBO equation considers the logistic log-likelihood for a product given its latent representation (reconstruction error), while the second KL term can be viewed as a regularization part. Our goal is to maximize __ELBO__, which is equivalent to minimizing the negative ELBO  (__NELBO__).\n",
    "\n",
    "The logistic log-likelihood fuction is given as, $$\\log p_\\theta(\\mathbf{x}_u | \\mathbf{z}_u) = \\sum_{i} \\mathbf{x}_{ui} \\log \\mathbf{\\sigma}(\\mathbf{f}_{ui}) + (1 - \\mathbf{x}_{ui}) \\log(1 - \\mathbf{\\sigma}(\\mathbf{f}_{ui})) $$\n",
    "\n",
    "where:\n",
    "* $\\mathbf{\\sigma}(\\mathbf{x}) = 1 / (1+ \\exp(-\\mathbf{x}))$ taken over all the products i.\n",
    "\n",
    "In addition, we extended the **ELBO** by introducing a parameter $\\beta$  ([Higgins et al, 2016](https://openreview.net/pdf?id=Sy2fzU9gl), [Burgess et al, 2018](https://arxiv.org/pdf/1804.03599.pdf) ) to control the strength of regularization:\n",
    "\n",
    "$$\n",
    "Loss= \\log p_\\theta(\\mathbf{x}_u | \\mathbf{z}_u) - \\mathbf{\\beta}  KL (q(\\mathbf{z}_u)||p(\\mathbf{z}_u|\\mathbf{x}_u))\n",
    "$$\n",
    "\n",
    "\n",
    "\n",
    "Τhe regularization view of the **ELBO** introduces a\n",
    "trade-off between how well we can fit the data and how close the\n",
    "approximate posterior stays to the prior during learning. By introducing the parameter $\\mathbf{\\beta}$ < 1, we are weakening the influence of the prior constraint. As a result, the model is less able to generate novel user histories by ancestral sampling. It is important to mention that our goal is not to maximize likelihood or generate imagined user histories, rather, our goal is to make good recommendations. So by treating $\\mathbf{\\beta}$ as a free regularization parameter yields significant improvements in performance. We propose two different experiments.\n",
    "\n",
    "At first, the training of the model is being done by setting $\\mathbf{\\beta}$=1 [[Gupta et al.,2018, chapter 5.1]](https://arxiv.org/pdf/1808.01006.pdf).\n",
    "\n",
    "\n",
    "Finally, we introduce a simple heuristic for tuning $\\mathbf{\\beta}$. We anneal the KL divergence all the way to a specific value of $\\mathbf{\\beta}$, reaching that value at around 80% of the total number of epochs used during the training process. Then we identify the best performing  $\\mathbf{\\beta}$  based on the peak validation metric, and retrain the model with the same annealing schedule, but for the rest of epochs we are not increasing  $\\mathbf{\\beta}$  after reaching its optimal value.\n",
    "\n",
    "It can be hard to imagine how to evaluate a recommender system. The primary concern of recommender systems is that they need to be able to put relevant items very high up the list of recommendations. So we need rank-aware metrics to select recommenders that aim at these two primary goals:\n",
    "\n",
    "1.\tWhere does the recommender place the items it suggests?\n",
    "2.\tHow good is the recommender at modeling relative preference?\n",
    "\n",
    "So, the rank-aware metric we use is the Normalized Discounted Cumulative Gain. NDCG value putting highly relevant documents high up the recommended lists. It is able to use the fact that some documents are “more” relevant than others. It compares the predicted rank of the held-out items with their true rank. The metric recall, primarily concerned with being good at finding things. We need metrics that emphasis being good at finding and ranking things, like NDCG. That's why we emphasize in NDCG.\n",
    "\n",
    "\n",
    "\n"
   ]
  },
  {
   "cell_type": "markdown",
   "id": "fdda3e05",
   "metadata": {
    "id": "xd0RPMhD7EnE"
   },
   "source": [
    "# 2 Keras implementation of Standard VAE\n",
    "\n",
    "For the implementation of the model, Keras package is used."
   ]
  },
  {
   "cell_type": "markdown",
   "id": "2db6f05f",
   "metadata": {
    "id": "r7Eb3TY1ytdW"
   },
   "source": [
    "# 3 Data Preparation"
   ]
  },
  {
   "cell_type": "markdown",
   "id": "9f714a63",
   "metadata": {
    "id": "qCKNsE9z7EnE"
   },
   "source": [
    "### 3.1 Load data and split\n",
    "\n",
    "We load the data and create train / validation / test splits following strong generalization:\n",
    "\n",
    "- We split all unique users into training users and heldout users (i.e. validation and test users)\n",
    "\n",
    "- By using the lists of these users, we obtain corresponding training data and heldout data.\n",
    "\n",
    "- We train models using the entire rating vector of the training users.\n",
    "\n",
    "- To evaluate, we take part of the reviews from heldout (validation and test) data to learn the necessary user-level representations for the model and then compute metrics by looking at how well the model ranks the rest of the unseen ratings from the heldout data"
   ]
  },
  {
   "cell_type": "markdown",
   "id": "33eb6739",
   "metadata": {
    "id": "YV_SaTQeRkkK"
   },
   "source": [
    "#### 3.1.1 Load data"
   ]
  },
  {
   "cell_type": "code",
   "execution_count": 117,
   "id": "88a2f8c3",
   "metadata": {
    "colab": {
     "base_uri": "https://localhost:8080/",
     "height": 206
    },
    "id": "SFSY6UrI7EnF",
    "outputId": "83ad82a7-b0ea-4b7c-8e56-c117ce21b060"
   },
   "outputs": [
    {
     "data": {
      "text/html": [
       "<div>\n",
       "<style scoped>\n",
       "    .dataframe tbody tr th:only-of-type {\n",
       "        vertical-align: middle;\n",
       "    }\n",
       "\n",
       "    .dataframe tbody tr th {\n",
       "        vertical-align: top;\n",
       "    }\n",
       "\n",
       "    .dataframe thead th {\n",
       "        text-align: right;\n",
       "    }\n",
       "</style>\n",
       "<table border=\"1\" class=\"dataframe\">\n",
       "  <thead>\n",
       "    <tr style=\"text-align: right;\">\n",
       "      <th></th>\n",
       "      <th>userID</th>\n",
       "      <th>itemID</th>\n",
       "      <th>rating</th>\n",
       "      <th>timestamp</th>\n",
       "    </tr>\n",
       "  </thead>\n",
       "  <tbody>\n",
       "    <tr>\n",
       "      <th>0</th>\n",
       "      <td>ALJ66O1Y6SLHA</td>\n",
       "      <td>B000K2PJ4K</td>\n",
       "      <td>5</td>\n",
       "      <td>144132480</td>\n",
       "    </tr>\n",
       "    <tr>\n",
       "      <th>5</th>\n",
       "      <td>A3W11493KS6Z2L</td>\n",
       "      <td>B000K2PJ4K</td>\n",
       "      <td>3</td>\n",
       "      <td>143087040</td>\n",
       "    </tr>\n",
       "    <tr>\n",
       "      <th>10</th>\n",
       "      <td>A3HX4X3TIABWOV</td>\n",
       "      <td>B000KPIHQ4</td>\n",
       "      <td>2</td>\n",
       "      <td>151683840</td>\n",
       "    </tr>\n",
       "    <tr>\n",
       "      <th>11</th>\n",
       "      <td>AW8UBYMNJ894V</td>\n",
       "      <td>B000KPIHQ4</td>\n",
       "      <td>2</td>\n",
       "      <td>148357440</td>\n",
       "    </tr>\n",
       "    <tr>\n",
       "      <th>12</th>\n",
       "      <td>A265UZVOZWTTXQ</td>\n",
       "      <td>B000KPIHQ4</td>\n",
       "      <td>5</td>\n",
       "      <td>147666240</td>\n",
       "    </tr>\n",
       "  </tbody>\n",
       "</table>\n",
       "</div>"
      ],
      "text/plain": [
       "            userID      itemID  rating  timestamp\n",
       "0    ALJ66O1Y6SLHA  B000K2PJ4K       5  144132480\n",
       "5   A3W11493KS6Z2L  B000K2PJ4K       3  143087040\n",
       "10  A3HX4X3TIABWOV  B000KPIHQ4       2  151683840\n",
       "11   AW8UBYMNJ894V  B000KPIHQ4       2  148357440\n",
       "12  A265UZVOZWTTXQ  B000KPIHQ4       5  147666240"
      ]
     },
     "execution_count": 117,
     "metadata": {},
     "output_type": "execute_result"
    }
   ],
   "source": [
    "df = pd.DataFrame()\n",
    "df[[\"userID\", \"itemID\", \"rating\", \"timestamp\"]] = pd.read_json(\n",
    "    \"../data/AMAZON_FASHION_5.json\")[[\"reviewerID\", \"asin\", \"overall\", \"unixReviewTime\"]]\n",
    "df.drop_duplicates(subset=[\"userID\", \"itemID\"], inplace=True)\n",
    "df.head()"
   ]
  },
  {
   "cell_type": "code",
   "execution_count": 118,
   "id": "8c8cb5ea",
   "metadata": {
    "colab": {
     "base_uri": "https://localhost:8080/"
    },
    "id": "d4T_sSWa2C_b",
    "outputId": "d27f2f5d-5aea-4552-9c3e-4a36fb7d691d"
   },
   "outputs": [
    {
     "data": {
      "text/plain": [
       "(3042, 4)"
      ]
     },
     "execution_count": 118,
     "metadata": {},
     "output_type": "execute_result"
    }
   ],
   "source": [
    "df.shape"
   ]
  },
  {
   "cell_type": "markdown",
   "id": "000fd973",
   "metadata": {
    "id": "7EXP5hSAewnA"
   },
   "source": [
    "#### 3.1.2 Data Filtering\n",
    "\n"
   ]
  },
  {
   "cell_type": "markdown",
   "id": "d0a9f700",
   "metadata": {
    "id": "Y3ng_FifVxHr"
   },
   "source": [
    "We filtered the products and users, such that the sparsity of the matrix was just below 75\\%. The produced json was then used by the other CF models (kNN and SVD). Later in the notebook the sparsity will be initiated at 75\\% and increased by 5% each experiment to see the effect of the increased sparsity on the dataset."
   ]
  },
  {
   "cell_type": "code",
   "execution_count": 119,
   "id": "41781755",
   "metadata": {},
   "outputs": [
    {
     "name": "stdout",
     "output_type": "stream",
     "text": [
      "(3042, 4) (406, 2) (31, 2)\n"
     ]
    }
   ],
   "source": [
    "usercount = df[['userID']].groupby('userID', as_index=False).size()\n",
    "itemcount = df[['itemID']].groupby('itemID', as_index=False).size()\n",
    "print(df.shape, usercount.shape, itemcount.shape)"
   ]
  },
  {
   "cell_type": "code",
   "execution_count": 120,
   "id": "f6065884",
   "metadata": {
    "id": "hwIiD5BL2IBY"
   },
   "outputs": [],
   "source": [
    "# Keep users who rated at least 3 items (original dataset was supposed to have atleast 5 reviews/ratings,\n",
    "# but since this was also reviews on subtypes of the same product and we had to drop these duplicates, we have to refilter)\n",
    "df = min_rating_filter_pandas(df, min_rating=3, filter_by=\"user\")\n",
    "\n",
    "# Keep products that were rated by at least 1 user\n",
    "df = min_rating_filter_pandas(df, min_rating=1, filter_by=\"item\")"
   ]
  },
  {
   "cell_type": "code",
   "execution_count": 121,
   "id": "54e87e1a",
   "metadata": {
    "colab": {
     "base_uri": "https://localhost:8080/"
    },
    "id": "VQhnqzU8j03b",
    "outputId": "4790fd65-6bc1-4a28-ff0c-113a2aed5a72"
   },
   "outputs": [
    {
     "name": "stdout",
     "output_type": "stream",
     "text": [
      "(3010, 4) (388, 2) (27, 2)\n",
      "After filtering, there are 3010 ratings from 388 users on 27 products (sparsity: 71.268%)\n"
     ]
    }
   ],
   "source": [
    "# Obtain both usercount and itemcount after filtering\n",
    "usercount = df[['userID']].groupby('userID', as_index=False).size()\n",
    "itemcount = df[['itemID']].groupby('itemID', as_index=False).size()\n",
    "print(df.shape, usercount.shape, itemcount.shape)\n",
    "\n",
    "density = 1. * df.shape[0] / (usercount.shape[0] * itemcount.shape[0])\n",
    "\n",
    "print(\"After filtering, there are %d ratings from %d users on %d products (sparsity: %.3f%%)\" %\n",
    "      (df.shape[0], usercount.shape[0], itemcount.shape[0], (1 - density) * 100))"
   ]
  },
  {
   "cell_type": "code",
   "execution_count": 122,
   "id": "9f422d82",
   "metadata": {},
   "outputs": [],
   "source": [
    "df.to_json(\"../data/AMAZON_FASHION_5.71.268.json\")"
   ]
  },
  {
   "cell_type": "code",
   "execution_count": 123,
   "id": "9ec10653",
   "metadata": {
    "colab": {
     "base_uri": "https://localhost:8080/",
     "height": 380
    },
    "id": "oQWDlySeiBet",
    "outputId": "90a37a32-94ab-4f23-e5ac-1b0662d1f001"
   },
   "outputs": [
    {
     "name": "stdout",
     "output_type": "stream",
     "text": [
      "(2515, 4)\n"
     ]
    },
    {
     "data": {
      "text/html": [
       "<div>\n",
       "<style scoped>\n",
       "    .dataframe tbody tr th:only-of-type {\n",
       "        vertical-align: middle;\n",
       "    }\n",
       "\n",
       "    .dataframe tbody tr th {\n",
       "        vertical-align: top;\n",
       "    }\n",
       "\n",
       "    .dataframe thead th {\n",
       "        text-align: right;\n",
       "    }\n",
       "</style>\n",
       "<table border=\"1\" class=\"dataframe\">\n",
       "  <thead>\n",
       "    <tr style=\"text-align: right;\">\n",
       "      <th></th>\n",
       "      <th>userID</th>\n",
       "      <th>itemID</th>\n",
       "      <th>rating</th>\n",
       "      <th>timestamp</th>\n",
       "    </tr>\n",
       "  </thead>\n",
       "  <tbody>\n",
       "    <tr>\n",
       "      <th>25</th>\n",
       "      <td>AGZ5OOZVDO194</td>\n",
       "      <td>B000YFSR5G</td>\n",
       "      <td>5</td>\n",
       "      <td>151804800</td>\n",
       "    </tr>\n",
       "    <tr>\n",
       "      <th>26</th>\n",
       "      <td>A3GJ3DJU1RXOHN</td>\n",
       "      <td>B000YFSR4W</td>\n",
       "      <td>4</td>\n",
       "      <td>127794240</td>\n",
       "    </tr>\n",
       "    <tr>\n",
       "      <th>28</th>\n",
       "      <td>A2ON4RYI9Z4SQ</td>\n",
       "      <td>B000YFSR5G</td>\n",
       "      <td>5</td>\n",
       "      <td>150793920</td>\n",
       "    </tr>\n",
       "    <tr>\n",
       "      <th>31</th>\n",
       "      <td>A1EZN3E9R322YJ</td>\n",
       "      <td>B000YFSR5G</td>\n",
       "      <td>5</td>\n",
       "      <td>149757120</td>\n",
       "    </tr>\n",
       "    <tr>\n",
       "      <th>37</th>\n",
       "      <td>AGZ5OOZVDO194</td>\n",
       "      <td>B000YFSR4W</td>\n",
       "      <td>5</td>\n",
       "      <td>151804800</td>\n",
       "    </tr>\n",
       "    <tr>\n",
       "      <th>38</th>\n",
       "      <td>A2BFZUQ2XV535H</td>\n",
       "      <td>B000YFSR5G</td>\n",
       "      <td>5</td>\n",
       "      <td>148919040</td>\n",
       "    </tr>\n",
       "    <tr>\n",
       "      <th>41</th>\n",
       "      <td>A1Y01U6OZLZE7I</td>\n",
       "      <td>B000YFSR5G</td>\n",
       "      <td>4</td>\n",
       "      <td>148763520</td>\n",
       "    </tr>\n",
       "    <tr>\n",
       "      <th>53</th>\n",
       "      <td>A36GNVEQP92OPA</td>\n",
       "      <td>B000YFSR5G</td>\n",
       "      <td>5</td>\n",
       "      <td>142300800</td>\n",
       "    </tr>\n",
       "    <tr>\n",
       "      <th>55</th>\n",
       "      <td>A2ON4RYI9Z4SQ</td>\n",
       "      <td>B000YFSR4W</td>\n",
       "      <td>5</td>\n",
       "      <td>150793920</td>\n",
       "    </tr>\n",
       "    <tr>\n",
       "      <th>56</th>\n",
       "      <td>A3GJ3DJU1RXOHN</td>\n",
       "      <td>B000YFSR5G</td>\n",
       "      <td>4</td>\n",
       "      <td>127794240</td>\n",
       "    </tr>\n",
       "  </tbody>\n",
       "</table>\n",
       "</div>"
      ],
      "text/plain": [
       "            userID      itemID  rating  timestamp\n",
       "25   AGZ5OOZVDO194  B000YFSR5G       5  151804800\n",
       "26  A3GJ3DJU1RXOHN  B000YFSR4W       4  127794240\n",
       "28   A2ON4RYI9Z4SQ  B000YFSR5G       5  150793920\n",
       "31  A1EZN3E9R322YJ  B000YFSR5G       5  149757120\n",
       "37   AGZ5OOZVDO194  B000YFSR4W       5  151804800\n",
       "38  A2BFZUQ2XV535H  B000YFSR5G       5  148919040\n",
       "41  A1Y01U6OZLZE7I  B000YFSR5G       4  148763520\n",
       "53  A36GNVEQP92OPA  B000YFSR5G       5  142300800\n",
       "55   A2ON4RYI9Z4SQ  B000YFSR4W       5  150793920\n",
       "56  A3GJ3DJU1RXOHN  B000YFSR5G       4  127794240"
      ]
     },
     "execution_count": 123,
     "metadata": {},
     "output_type": "execute_result"
    }
   ],
   "source": [
    "# Binarize the data (only keep ratings >= 4)\n",
    "df_preferred = df[df['rating'] > 3.5]\n",
    "print(df_preferred.shape)\n",
    "df_low_rating = df[df['rating'] <= 3.5]\n",
    "\n",
    "\n",
    "df_preferred.head(10)"
   ]
  },
  {
   "cell_type": "code",
   "execution_count": 124,
   "id": "28dec916",
   "metadata": {},
   "outputs": [
    {
     "name": "stdout",
     "output_type": "stream",
     "text": [
      "(2515, 4) (327, 2) (24, 2)\n",
      "After filtering, there are 2515 ratings from 327 users on 24 products (sparsity: 67.954%)\n"
     ]
    }
   ],
   "source": [
    "df = df_preferred\n",
    "\n",
    "# Obtain both usercount and itemcount after filtering\n",
    "usercount = df[['userID']].groupby('userID', as_index=False).size()\n",
    "itemcount = df[['itemID']].groupby('itemID', as_index=False).size()\n",
    "print(df.shape, usercount.shape, itemcount.shape)\n",
    "\n",
    "density = 1. * df.shape[0] / (usercount.shape[0] * itemcount.shape[0])\n",
    "\n",
    "print(\"After filtering, there are %d ratings from %d users on %d products (sparsity: %.3f%%)\" %\n",
    "      (df.shape[0], usercount.shape[0], itemcount.shape[0], (1 - density) * 100))"
   ]
  },
  {
   "cell_type": "markdown",
   "id": "523067f9",
   "metadata": {
    "id": "ha1fHIx_nqH8"
   },
   "source": [
    "#### 3.1.3 Split data\n",
    "\n",
    "For data slitting we use:\n",
    "- 600 (~ 10%) users in validation set\n",
    "- 600 (~ 20%) users in testing set\n",
    "- the rest of them (~ 70%) in training set\n",
    "\n",
    "Since the model is trained using the ratings of the training users, we have to make sure that the products that exist in the validation and test sets are the products that exist in the train set. In other words, validation and test set should not contain products that do not exist in the train set."
   ]
  },
  {
   "cell_type": "code",
   "execution_count": 125,
   "id": "e80cd29a",
   "metadata": {
    "id": "keLEIqb-LMoi"
   },
   "outputs": [],
   "source": [
    "unique_users = sorted(df.userID.unique())\n",
    "np.random.seed(SEED)\n",
    "unique_users = np.random.permutation(unique_users)"
   ]
  },
  {
   "cell_type": "code",
   "execution_count": 126,
   "id": "d2c5afe6",
   "metadata": {
    "colab": {
     "base_uri": "https://localhost:8080/"
    },
    "id": "3PswIHyDkidS",
    "outputId": "117cc912-39b5-401e-a288-46bcb2c4e235"
   },
   "outputs": [
    {
     "name": "stdout",
     "output_type": "stream",
     "text": [
      "Number of unique users: 327\n",
      "\n",
      "Number of validation users: 32\n",
      "\n",
      "Number of test users: 65\n",
      "\n",
      "Number of training users: 230\n"
     ]
    }
   ],
   "source": [
    "# Create train/validation/test users\n",
    "# The order of splitting is val, test and then training to solve the rounding error for int() on line 5, 6\n",
    "n_users = len(unique_users)\n",
    "print(\"Number of unique users:\", n_users)\n",
    "HELDOUT_USERS_VAL = int(HELDOUT_USERS_VAL_PERC * n_users)\n",
    "HELDOUT_USERS_TEST = int(HELDOUT_USERS_TEST_PERC * n_users)\n",
    "\n",
    "val_users = unique_users[:HELDOUT_USERS_VAL]\n",
    "print(\"\\nNumber of validation users:\", len(val_users))\n",
    "\n",
    "test_users = unique_users[HELDOUT_USERS_VAL:(\n",
    "    HELDOUT_USERS_VAL+HELDOUT_USERS_TEST)]\n",
    "print(\"\\nNumber of test users:\", len(test_users))\n",
    "\n",
    "train_users = unique_users[(HELDOUT_USERS_VAL+HELDOUT_USERS_TEST):]\n",
    "print(\"\\nNumber of training users:\", len(train_users))"
   ]
  },
  {
   "cell_type": "code",
   "execution_count": 127,
   "id": "d262c2d1",
   "metadata": {
    "colab": {
     "base_uri": "https://localhost:8080/"
    },
    "id": "vj2_zn_6km2R",
    "outputId": "f386e7c2-72ad-4777-b7fb-afa67f65f992"
   },
   "outputs": [
    {
     "name": "stdout",
     "output_type": "stream",
     "text": [
      "Number of training observations:  1766\n",
      "\n",
      "Number of validation observations:  249\n",
      "\n",
      "Number of test observations:  500\n"
     ]
    }
   ],
   "source": [
    "# For training set keep only users that are in train_users list\n",
    "train_set = df.loc[df['userID'].isin(train_users)]\n",
    "print(\"Number of training observations: \", train_set.shape[0])\n",
    "\n",
    "# For validation set keep only users that are in val_users list\n",
    "val_set = df.loc[df['userID'].isin(val_users)]\n",
    "print(\"\\nNumber of validation observations: \", val_set.shape[0])\n",
    "\n",
    "# For test set keep only users that are in test_users list\n",
    "test_set = df.loc[df['userID'].isin(test_users)]\n",
    "print(\"\\nNumber of test observations: \", test_set.shape[0])\n",
    "\n",
    "# train_set/val_set/test_set contain user - product interactions with rating 4 or 5"
   ]
  },
  {
   "cell_type": "code",
   "execution_count": 128,
   "id": "ac9abb98",
   "metadata": {
    "colab": {
     "base_uri": "https://localhost:8080/"
    },
    "id": "jbK7DimNKL1s",
    "outputId": "851ddfd9-5928-44cf-f3e6-247b87a9e479"
   },
   "outputs": [
    {
     "name": "stdout",
     "output_type": "stream",
     "text": [
      "Number of unique items that rated in training set 22\n"
     ]
    }
   ],
   "source": [
    "# Obtain list of unique products used in training set\n",
    "unique_train_items = pd.unique(train_set['itemID'])\n",
    "print(\"Number of unique items that rated in training set\", unique_train_items.size)"
   ]
  },
  {
   "cell_type": "code",
   "execution_count": 129,
   "id": "1b6356c7",
   "metadata": {
    "colab": {
     "base_uri": "https://localhost:8080/"
    },
    "id": "kmKaUumcDDL5",
    "outputId": "219c52fe-626a-46e9-ad05-311f699f904e"
   },
   "outputs": [
    {
     "name": "stdout",
     "output_type": "stream",
     "text": [
      "Number of validation observations after filtering:  248\n",
      "\n",
      "Number of test observations after filtering:  498\n"
     ]
    }
   ],
   "source": [
    "# For validation set keep only products that used in training set\n",
    "val_set = val_set.loc[val_set['itemID'].isin(unique_train_items)]\n",
    "print(\"Number of validation observations after filtering: \", val_set.shape[0])\n",
    "\n",
    "# For test set keep only products that used in training set\n",
    "test_set = test_set.loc[test_set['itemID'].isin(unique_train_items)]\n",
    "print(\"\\nNumber of test observations after filtering: \", test_set.shape[0])"
   ]
  },
  {
   "cell_type": "code",
   "execution_count": 130,
   "id": "ed2db2f8",
   "metadata": {
    "id": "_cYDwcy3ohEu"
   },
   "outputs": [],
   "source": [
    "# Instantiate the sparse matrix generation for train, validation and test sets\n",
    "# use list of unique items from training set for all sets\n",
    "am_train = AffinityMatrix(df=train_set, items_list=unique_train_items)\n",
    "\n",
    "am_val = AffinityMatrix(df=val_set, items_list=unique_train_items)\n",
    "\n",
    "am_test = AffinityMatrix(df=test_set, items_list=unique_train_items)"
   ]
  },
  {
   "cell_type": "code",
   "execution_count": 131,
   "id": "24ab9997",
   "metadata": {
    "colab": {
     "base_uri": "https://localhost:8080/"
    },
    "id": "oygrnMOcpZxD",
    "outputId": "9d44ee11-be78-45dc-da76-9a6aecd12ae2"
   },
   "outputs": [
    {
     "name": "stdout",
     "output_type": "stream",
     "text": [
      "(230, 22)\n",
      "(32, 22)\n",
      "(64, 22)\n"
     ]
    }
   ],
   "source": [
    "# Obtain the sparse matrix for train, validation and test sets\n",
    "train_data, _, _ = am_train.gen_affinity_matrix()\n",
    "print(train_data.shape)\n",
    "\n",
    "val_data, val_map_users, val_map_items = am_val.gen_affinity_matrix()\n",
    "print(val_data.shape)\n",
    "\n",
    "test_data, test_map_users, test_map_items = am_test.gen_affinity_matrix()\n",
    "print(test_data.shape)"
   ]
  },
  {
   "cell_type": "code",
   "execution_count": 132,
   "id": "2ad13b93",
   "metadata": {
    "id": "WZwuDmuAsos3"
   },
   "outputs": [],
   "source": [
    "# Split validation and test data into training and testing parts\n",
    "val_data_tr, val_data_te = numpy_stratified_split(\n",
    "    val_data, ratio=0.75, seed=SEED)\n",
    "test_data_tr, test_data_te = numpy_stratified_split(\n",
    "    test_data, ratio=0.75, seed=SEED)"
   ]
  },
  {
   "cell_type": "code",
   "execution_count": 133,
   "id": "223b5d50",
   "metadata": {
    "colab": {
     "base_uri": "https://localhost:8080/"
    },
    "id": "_uBNSJ7VX2KX",
    "outputId": "464e8e9b-392e-478b-c2db-f867784d2e29"
   },
   "outputs": [
    {
     "name": "stdout",
     "output_type": "stream",
     "text": [
      "1210\n",
      "903\n",
      "307\n"
     ]
    }
   ],
   "source": [
    "# Just checking\n",
    "print(np.sum(val_data))\n",
    "print(np.sum(val_data_tr))\n",
    "print(np.sum(val_data_te))"
   ]
  },
  {
   "cell_type": "code",
   "execution_count": 134,
   "id": "f1430701",
   "metadata": {
    "colab": {
     "base_uri": "https://localhost:8080/"
    },
    "id": "gtDsnJuMTzNk",
    "outputId": "9164b57a-6a4a-488f-be41-8d3c5358331d"
   },
   "outputs": [
    {
     "name": "stdout",
     "output_type": "stream",
     "text": [
      "2410\n",
      "1810\n",
      "600\n"
     ]
    }
   ],
   "source": [
    "# Just checking\n",
    "print(np.sum(test_data))\n",
    "print(np.sum(test_data_tr))\n",
    "print(np.sum(test_data_te))"
   ]
  },
  {
   "cell_type": "markdown",
   "id": "08e6033c",
   "metadata": {
    "id": "8tdIpYbvPr_7"
   },
   "source": [
    "# 4 Train Standard-VAE using Keras\n"
   ]
  },
  {
   "cell_type": "markdown",
   "id": "fc845ef8",
   "metadata": {
    "id": "2nWkhdT4CfUA"
   },
   "source": [
    "__Model Architecture:__\n",
    "\n",
    "To avoid overfitting and adapt the architecture to our own dataset, we reduced both the intermediate and latent dimensionality.\n",
    "\n",
    "Also, Dropout is applied both in encoder and decoder to avoid overfitting."
   ]
  },
  {
   "cell_type": "markdown",
   "id": "e8540dbf",
   "metadata": {
    "id": "phz3XJTE5LbY"
   },
   "source": [
    "![image.png](data:image/png;base64,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)"
   ]
  },
  {
   "cell_type": "markdown",
   "id": "1027c1e3",
   "metadata": {
    "id": "ZZUSmIm2O0aq"
   },
   "source": [
    "## 4.1 Standard VAE without annealing  (initial approach)"
   ]
  },
  {
   "cell_type": "markdown",
   "id": "312b21ac",
   "metadata": {
    "id": "eT_MEhETgF2a"
   },
   "source": [
    "Firstly, we train Standard-VAE model using constant $\\mathbf \\beta$= 1.\n",
    "\n"
   ]
  },
  {
   "cell_type": "code",
   "execution_count": 135,
   "id": "e6b70aac",
   "metadata": {
    "colab": {
     "base_uri": "https://localhost:8080/"
    },
    "id": "9tzclS2sgVqa",
    "outputId": "0fc9dd41-8c60-4b61-8dc6-28a348f8b2cd"
   },
   "outputs": [],
   "source": [
    "model_without_anneal = StandardRealValueVAE(min_rating=1,\n",
    "                                            max_rating=5,\n",
    "                                            # Number of unique users in the training set\n",
    "                                            n_users=train_data.shape[0],\n",
    "                                            # Number of unique items in the training set\n",
    "                                            original_dim=train_data.shape[1],\n",
    "                                            intermediate_dim=INTERMEDIATE_DIM,\n",
    "                                            latent_dim=LATENT_DIM,\n",
    "                                            n_epochs=EPOCHS,\n",
    "                                            batch_size=BATCH_SIZE,\n",
    "                                            k=TOP_K,\n",
    "                                            verbose=0,\n",
    "                                            seed=SEED,\n",
    "                                            save_path=WEIGHTS_PATH,\n",
    "                                            drop_encoder=0.5,\n",
    "                                            drop_decoder=0.5,\n",
    "                                            annealing=False,\n",
    "                                            beta=1.0)"
   ]
  },
  {
   "cell_type": "code",
   "execution_count": 136,
   "id": "17c32226",
   "metadata": {
    "colab": {
     "base_uri": "https://localhost:8080/"
    },
    "id": "QPaR4bK0f2fi",
    "outputId": "d55e2dea-ca88-45fb-8f80-3c9dfc88c919"
   },
   "outputs": [
    {
     "name": "stdout",
     "output_type": "stream",
     "text": [
      "Took 8.9725 seconds for training.\n"
     ]
    }
   ],
   "source": [
    "with Timer() as t:\n",
    "    model_without_anneal.fit(x_train=train_data,\n",
    "                             x_valid=val_data,\n",
    "                             x_val_tr=val_data_tr,\n",
    "                             x_val_te=val_data_te,  # with the original ratings\n",
    "                             mapper=am_val\n",
    "                             )\n",
    "print(\"Took {} seconds for training.\".format(t))"
   ]
  },
  {
   "cell_type": "code",
   "execution_count": 137,
   "id": "9dc6d215",
   "metadata": {
    "colab": {
     "base_uri": "https://localhost:8080/",
     "height": 360
    },
    "id": "68RGXLBMqFEH",
    "outputId": "0cbfaf95-49ed-486c-c1b3-9f6b08b68184"
   },
   "outputs": [
    {
     "data": {
      "image/png": "[encoded data removed]",
      "text/plain": [
       "<Figure size 1008x360 with 2 Axes>"
      ]
     },
     "metadata": {},
     "output_type": "display_data"
    }
   ],
   "source": [
    "model_without_anneal.display_metrics()"
   ]
  },
  {
   "cell_type": "code",
   "execution_count": 138,
   "id": "50e3056f",
   "metadata": {
    "id": "rpAEwHkwMoz9"
   },
   "outputs": [],
   "source": [
    "ndcg_val_without_anneal = model_without_anneal.ndcg_per_epoch()"
   ]
  },
  {
   "cell_type": "markdown",
   "id": "ba7d7cc2",
   "metadata": {
    "id": "HGIwwhxgi30H"
   },
   "source": [
    "#### Prediction and Evaluation of Standard-VAE model using constant $\\beta$ = 1."
   ]
  },
  {
   "cell_type": "markdown",
   "id": "705d5d02",
   "metadata": {
    "id": "stK8DSn1xyJn"
   },
   "source": [
    "Evaluate with recommending 5 items."
   ]
  },
  {
   "cell_type": "code",
   "execution_count": 139,
   "id": "171d3c4e",
   "metadata": {
    "colab": {
     "base_uri": "https://localhost:8080/"
    },
    "id": "YUgTyeviqe2O",
    "outputId": "f6ce4863-d18b-45a0-ccdf-23999231df16"
   },
   "outputs": [
    {
     "name": "stdout",
     "output_type": "stream",
     "text": [
      "Took 0.2156 seconds for prediction.\n",
      "MAP@5:\t\t0.98280\n",
      "NDCG@5:\t\t0.98704\n",
      "Precision@5:\t0.39048\n",
      "Recall@5: \t0.99206\n"
     ]
    }
   ],
   "source": [
    "eval_k = 5\n",
    "with Timer() as t:\n",
    "    # Model prediction on the training part of test set\n",
    "    top_k = model_without_anneal.recommend_k_items(x=test_data_tr,\n",
    "                                                   k=eval_k,\n",
    "                                                   remove_seen=True)\n",
    "    # Convert sparse matrix back to df\n",
    "    top_k_df = am_test.map_back_sparse(top_k, kind='prediction')\n",
    "    # use test_data_te_, with the original ratings\n",
    "    test_df = am_test.map_back_sparse(test_data_te, kind='ratings')\n",
    "\n",
    "\n",
    "print(\"Took {} seconds for prediction.\".format(t))\n",
    "# Use the ranking metrics for evaluation\n",
    "eval_map_1 = map_at_k(test_df, top_k_df, col_prediction='prediction', k=eval_k)\n",
    "eval_ndcg_1 = ndcg_at_k(\n",
    "    test_df, top_k_df, col_prediction='prediction', k=eval_k)\n",
    "eval_precision_1 = precision_at_k(\n",
    "    test_df, top_k_df, col_prediction='prediction', k=eval_k)\n",
    "eval_recall_1 = recall_at_k(\n",
    "    test_df, top_k_df, col_prediction='prediction', k=eval_k)\n",
    "\n",
    "print(f\"MAP@{eval_k}:\\t\\t{eval_map_1:.5f}\",\n",
    "      f\"NDCG@{eval_k}:\\t\\t{eval_ndcg_1:.5f}\",\n",
    "      f\"Precision@{eval_k}:\\t{eval_precision_1:.5f}\",\n",
    "      f\"Recall@{eval_k}: \\t{eval_recall_1:.5f}\", sep='\\n')"
   ]
  },
  {
   "cell_type": "markdown",
   "id": "2211d9a9",
   "metadata": {
    "id": "zupjoESMwNn4"
   },
   "source": [
    "Evaluate with recommending 10 items."
   ]
  },
  {
   "cell_type": "code",
   "execution_count": 140,
   "id": "2d61da72",
   "metadata": {
    "colab": {
     "base_uri": "https://localhost:8080/"
    },
    "id": "i96QHiDm1HcK",
    "outputId": "079ba07c-f0f1-4675-927d-39403204f0ea"
   },
   "outputs": [
    {
     "name": "stdout",
     "output_type": "stream",
     "text": [
      "Took 0.0387 seconds for prediction.\n",
      "MAP@10:\t\t0.96164\n",
      "NDCG@10:\t0.97135\n",
      "Precision@10:\t0.19524\n",
      "Recall@10: \t0.99206\n"
     ]
    }
   ],
   "source": [
    "eval_k = 10\n",
    "with Timer() as t:\n",
    "    # Model prediction on the training part of test set\n",
    "    top_k = model_without_anneal.recommend_k_items(x=test_data_tr,\n",
    "                                                   k=eval_k,\n",
    "                                                   remove_seen=True)\n",
    "    # Convert sparse matrix back to df\n",
    "    top_k_df = am_test.map_back_sparse(top_k, kind='prediction')\n",
    "    # use test_data_te_, with the original ratings\n",
    "    test_df = am_test.map_back_sparse(test_data_te, kind='ratings')\n",
    "\n",
    "print(\"Took {} seconds for prediction.\".format(t))\n",
    "\n",
    "# Use the ranking metrics for evaluation\n",
    "eval_map_2 = map_at_k(test_df, top_k_df, col_prediction='prediction', k=eval_k)\n",
    "eval_ndcg_2 = ndcg_at_k(\n",
    "    test_df, top_k_df, col_prediction='prediction', k=eval_k)\n",
    "eval_precision_2 = precision_at_k(\n",
    "    test_df, top_k_df, col_prediction='prediction', k=eval_k)\n",
    "eval_recall_2 = recall_at_k(\n",
    "    test_df, top_k_df, col_prediction='prediction', k=eval_k)\n",
    "\n",
    "print(f\"MAP@{eval_k}:\\t\\t{eval_map_2:.5f}\",\n",
    "      f\"NDCG@{eval_k}:\\t{eval_ndcg_2:.5f}\",\n",
    "      f\"Precision@{eval_k}:\\t{eval_precision_2:.5f}\",\n",
    "      f\"Recall@{eval_k}: \\t{eval_recall_2:.5f}\", sep='\\n')"
   ]
  },
  {
   "cell_type": "markdown",
   "id": "8d0342e8",
   "metadata": {
    "id": "87Fg9wt50fga"
   },
   "source": [
    "## 4.2 Standard VAE with annealing\n",
    "We are going to use annealing procedure for finding the optimal $\\mathbf \\beta$.\n",
    "\n",
    "Now, in order to find the optimal $\\beta$, we train our model using annealing with anneal_cap equal 1.0.\n",
    "\n",
    "\n",
    "\n",
    "\n"
   ]
  },
  {
   "cell_type": "code",
   "execution_count": 141,
   "id": "3690d54d",
   "metadata": {
    "id": "Q9xXAAON0izE"
   },
   "outputs": [],
   "source": [
    "model_with_anneal = StandardRealValueVAE(min_rating=1,\n",
    "                                         max_rating=5,\n",
    "                                         # Number of unique users in the training set\n",
    "                                         n_users=train_data.shape[0],\n",
    "                                         # Number of unique items in the training set\n",
    "                                         original_dim=train_data.shape[1],\n",
    "                                         intermediate_dim=INTERMEDIATE_DIM,\n",
    "                                         latent_dim=LATENT_DIM,\n",
    "                                         n_epochs=EPOCHS,\n",
    "                                         batch_size=BATCH_SIZE,\n",
    "                                         k=TOP_K,\n",
    "                                         verbose=0,\n",
    "                                         seed=SEED,\n",
    "                                         save_path=WEIGHTS_PATH,\n",
    "                                         drop_encoder=0.5,\n",
    "                                         drop_decoder=0.5,\n",
    "                                         annealing=True,\n",
    "                                         anneal_cap=1.0)"
   ]
  },
  {
   "cell_type": "code",
   "execution_count": 142,
   "id": "fff741c2",
   "metadata": {
    "colab": {
     "base_uri": "https://localhost:8080/"
    },
    "id": "Zq3fgxQE1lBw",
    "outputId": "29a8f742-83a1-494b-b959-a3490af71120"
   },
   "outputs": [
    {
     "name": "stdout",
     "output_type": "stream",
     "text": [
      "Took 10.3450 seconds for training.\n"
     ]
    }
   ],
   "source": [
    "with Timer() as t:\n",
    "    model_with_anneal.fit(x_train=train_data,\n",
    "                          x_valid=val_data,\n",
    "                          x_val_tr=val_data_tr,\n",
    "                          x_val_te=val_data_te,  # with the original ratings\n",
    "                          mapper=am_val\n",
    "                          )\n",
    "print(\"Took {} seconds for training.\".format(t))"
   ]
  },
  {
   "cell_type": "code",
   "execution_count": 143,
   "id": "7bbdcff7",
   "metadata": {
    "colab": {
     "base_uri": "https://localhost:8080/",
     "height": 360
    },
    "id": "zQe8H2DfvBlv",
    "outputId": "d19b75d4-0d52-4eda-db7b-615ac290a63a"
   },
   "outputs": [
    {
     "data": {
      "image/png": "[encoded data removed]",
      "text/plain": [
       "<Figure size 1008x360 with 2 Axes>"
      ]
     },
     "metadata": {},
     "output_type": "display_data"
    }
   ],
   "source": [
    "model_with_anneal.display_metrics()"
   ]
  },
  {
   "cell_type": "code",
   "execution_count": 144,
   "id": "62570a19",
   "metadata": {
    "id": "m9hKfKiyyCwG"
   },
   "outputs": [],
   "source": [
    "ndcg_val_with_anneal = model_with_anneal.ndcg_per_epoch()"
   ]
  },
  {
   "cell_type": "markdown",
   "id": "dbbebdd8",
   "metadata": {
    "id": "o9xC4nUCZumS"
   },
   "source": [
    "Using the optimal beta as anneal cap , we retrain our model.\n",
    "\n",
    "When NDCG@k of validation set reach a peak, the weights of the model are saved. Using this model we evaluate the test set."
   ]
  },
  {
   "cell_type": "code",
   "execution_count": 145,
   "id": "653d15ed",
   "metadata": {
    "colab": {
     "base_uri": "https://localhost:8080/"
    },
    "id": "nxTweT9pvErE",
    "outputId": "8e494df8-3346-43bf-e26d-725ce6923381"
   },
   "outputs": [
    {
     "name": "stdout",
     "output_type": "stream",
     "text": [
      "The optimal beta is:  0.375\n"
     ]
    }
   ],
   "source": [
    "# Get optimal beta\n",
    "optimal_beta = model_with_anneal.get_optimal_beta()\n",
    "print(\"The optimal beta is: \", optimal_beta)"
   ]
  },
  {
   "cell_type": "code",
   "execution_count": 146,
   "id": "4cf89b9f",
   "metadata": {
    "id": "B9BJACElaU9h"
   },
   "outputs": [],
   "source": [
    "model_optimal_beta = StandardRealValueVAE(min_rating=1,\n",
    "                                          max_rating=5,\n",
    "                                          # Number of unique users in the training set\n",
    "                                          n_users=train_data.shape[0],\n",
    "                                          # Number of unique items in the training set\n",
    "                                          original_dim=train_data.shape[1],\n",
    "                                          intermediate_dim=INTERMEDIATE_DIM,\n",
    "                                          latent_dim=LATENT_DIM,\n",
    "                                          n_epochs=EPOCHS,\n",
    "                                          batch_size=BATCH_SIZE,\n",
    "                                          k=TOP_K,\n",
    "                                          verbose=0,\n",
    "                                          seed=SEED,\n",
    "                                          save_path=WEIGHTS_PATH,\n",
    "                                          drop_encoder=0.5,\n",
    "                                          drop_decoder=0.5,\n",
    "                                          annealing=True,\n",
    "                                          anneal_cap=optimal_beta,\n",
    "                                          )"
   ]
  },
  {
   "cell_type": "code",
   "execution_count": 147,
   "id": "a5136218",
   "metadata": {
    "colab": {
     "base_uri": "https://localhost:8080/"
    },
    "id": "8lj7tOqB-o9L",
    "outputId": "5ba3e9e1-2dd8-41c5-f12d-9ca4b1a9ca62"
   },
   "outputs": [
    {
     "name": "stdout",
     "output_type": "stream",
     "text": [
      "WARNING:tensorflow:Method (on_train_batch_end) is slow compared to the batch update (0.114243). Check your callbacks.\n",
      "Took 10.4855 seconds for training.\n"
     ]
    }
   ],
   "source": [
    "with Timer() as t:\n",
    "    model_optimal_beta.fit(x_train=train_data,\n",
    "                           x_valid=val_data,\n",
    "                           x_val_tr=val_data_tr,\n",
    "                           x_val_te=val_data_te,  # with the original ratings\n",
    "                           mapper=am_val\n",
    "                           )\n",
    "print(\"Took {} seconds for training.\".format(t))"
   ]
  },
  {
   "cell_type": "code",
   "execution_count": 148,
   "id": "23d13c3c",
   "metadata": {
    "colab": {
     "base_uri": "https://localhost:8080/",
     "height": 360
    },
    "id": "k9Xovr9zbvin",
    "outputId": "e554d440-cb2e-4ea9-c6ac-6914e228424c"
   },
   "outputs": [
    {
     "data": {
      "image/png": "[encoded data removed]",
      "text/plain": [
       "<Figure size 1008x360 with 2 Axes>"
      ]
     },
     "metadata": {},
     "output_type": "display_data"
    }
   ],
   "source": [
    "model_optimal_beta.display_metrics()"
   ]
  },
  {
   "cell_type": "code",
   "execution_count": 149,
   "id": "9580646a",
   "metadata": {
    "id": "GHCkX097D3jZ"
   },
   "outputs": [],
   "source": [
    "ndcg_val_optimal_beta = model_optimal_beta.ndcg_per_epoch()"
   ]
  },
  {
   "cell_type": "markdown",
   "id": "ebf14b7a",
   "metadata": {
    "id": "I1ZwFx-JEXam"
   },
   "source": [
    "#### Prediction and Evaluation of Standard-VAE model using the optimal $\\beta$ with annealing."
   ]
  },
  {
   "cell_type": "markdown",
   "id": "5f1e42f4",
   "metadata": {
    "id": "cMX8dc8vEmE-"
   },
   "source": [
    "Evaluate with recommending 10 items."
   ]
  },
  {
   "cell_type": "code",
   "execution_count": 150,
   "id": "44c2acd7",
   "metadata": {
    "colab": {
     "base_uri": "https://localhost:8080/"
    },
    "id": "8chehXIr4FCD",
    "outputId": "5a9aa286-3527-4365-fa38-7aa33f1a7f42"
   },
   "outputs": [
    {
     "name": "stdout",
     "output_type": "stream",
     "text": [
      "Took 0.2762 seconds for prediction.\n",
      "MAP@10:\t\t0.99074\n",
      "NDCG@10:\t0.99538\n",
      "Precision@10:\t0.19683\n",
      "Recall@10: \t1.00000\n"
     ]
    }
   ],
   "source": [
    "eval_k = 10\n",
    "with Timer() as t:\n",
    "    # Model prediction on the training part of test set\n",
    "    top_k = model_optimal_beta.recommend_k_items(x=test_data_tr,\n",
    "                                                 k=eval_k,\n",
    "                                                 remove_seen=True)\n",
    "    # Convert sparse matrix back to df\n",
    "    top_k_df = am_test.map_back_sparse(top_k, kind='prediction')\n",
    "    # use test_data_te_, with the original ratings\n",
    "    test_df = am_test.map_back_sparse(test_data_te, kind='ratings')\n",
    "\n",
    "print(\"Took {} seconds for prediction.\".format(t))\n",
    "\n",
    "# Use the ranking metrics for evaluation\n",
    "eval_map_3 = map_at_k(test_df, top_k_df, col_prediction='prediction', k=eval_k)\n",
    "eval_ndcg_3 = ndcg_at_k(\n",
    "    test_df, top_k_df, col_prediction='prediction', k=eval_k)\n",
    "eval_precision_3 = precision_at_k(\n",
    "    test_df, top_k_df, col_prediction='prediction', k=eval_k)\n",
    "eval_recall_3 = recall_at_k(\n",
    "    test_df, top_k_df, col_prediction='prediction', k=eval_k)\n",
    "\n",
    "print(f\"MAP@{eval_k}:\\t\\t{eval_map_3:.5f}\",\n",
    "      f\"NDCG@{eval_k}:\\t{eval_ndcg_3:.5f}\",\n",
    "      f\"Precision@{eval_k}:\\t{eval_precision_3:.5f}\",\n",
    "      f\"Recall@{eval_k}: \\t{eval_recall_3:.5f}\", sep='\\n')"
   ]
  },
  {
   "cell_type": "markdown",
   "id": "fad0d08c",
   "metadata": {
    "id": "cMX8dc8vEmE-"
   },
   "source": [
    "Evaluate with recommending 5 items."
   ]
  },
  {
   "cell_type": "code",
   "execution_count": 151,
   "id": "17b164a7",
   "metadata": {
    "colab": {
     "base_uri": "https://localhost:8080/"
    },
    "id": "8chehXIr4FCD",
    "outputId": "5a9aa286-3527-4365-fa38-7aa33f1a7f42"
   },
   "outputs": [
    {
     "name": "stdout",
     "output_type": "stream",
     "text": [
      "Took 0.0407 seconds for prediction.\n",
      "MAP@5:\t\t0.98280\n",
      "NDCG@5:\t\t0.98884\n",
      "Precision@5:\t0.39365\n",
      "Recall@5: \t1.00000\n"
     ]
    }
   ],
   "source": [
    "eval_k = 5\n",
    "with Timer() as t:\n",
    "    # Model prediction on the training part of test set\n",
    "    top_k = model_optimal_beta.recommend_k_items(x=test_data_tr,\n",
    "                                                 k=eval_k,\n",
    "                                                 remove_seen=True)\n",
    "    # Convert sparse matrix back to df\n",
    "    top_k_df = am_test.map_back_sparse(top_k, kind='prediction')\n",
    "    # use test_data_te_, with the original ratings\n",
    "    test_df = am_test.map_back_sparse(test_data_te, kind='ratings')\n",
    "\n",
    "print(\"Took {} seconds for prediction.\".format(t))\n",
    "\n",
    "# Use the ranking metrics for evaluation\n",
    "eval_map_3 = map_at_k(test_df, top_k_df, col_prediction='prediction', k=eval_k)\n",
    "eval_ndcg_3 = ndcg_at_k(\n",
    "    test_df, top_k_df, col_prediction='prediction', k=eval_k)\n",
    "eval_precision_3 = precision_at_k(\n",
    "    test_df, top_k_df, col_prediction='prediction', k=eval_k)\n",
    "eval_recall_3 = recall_at_k(\n",
    "    test_df, top_k_df, col_prediction='prediction', k=eval_k)\n",
    "\n",
    "print(f\"MAP@{eval_k}:\\t\\t{eval_map_3:.5f}\",\n",
    "      f\"NDCG@{eval_k}:\\t\\t{eval_ndcg_3:.5f}\",\n",
    "      f\"Precision@{eval_k}:\\t{eval_precision_3:.5f}\",\n",
    "      f\"Recall@{eval_k}: \\t{eval_recall_3:.5f}\", sep='\\n')"
   ]
  },
  {
   "cell_type": "markdown",
   "id": "cb05faf0",
   "metadata": {
    "id": "jNPefXO7wZP2"
   },
   "source": [
    "# 5 Conclusion"
   ]
  },
  {
   "cell_type": "markdown",
   "id": "87c1cdd5",
   "metadata": {
    "id": "RoiM8KeCvTPg"
   },
   "source": [
    "Through this notebook, it is proven that the VAE using annealing outperforms the model without annealing (using $\\mathbf \\beta$=1). Specifically, the results of evaluting the test set, for the the 2 different approaches, are:\n",
    "\n",
    "| Model | NDCG@100  |NDCG@10 |\n",
    "| --- | --- | --- |\n",
    "| Standard-VAE (wihtout annealing, β=1)| 0.392 | 0.446 |\n",
    "| Standard-VAE (with annealing, optimal β)| 0.443 | 0.496 |\n",
    "\n",
    "\n",
    "This annealing procedure is used as an efficient way to tune the parameter $\\mathbf \\beta$. Otherwise, training multiple models using different values of $\\mathbf \\beta$ can be really time consuming."
   ]
  },
  {
   "cell_type": "code",
   "execution_count": 152,
   "id": "efedeccb",
   "metadata": {
    "colab": {
     "base_uri": "https://localhost:8080/",
     "height": 376
    },
    "id": "I66wqKPRhJ2g",
    "lines_to_next_cell": 2,
    "outputId": "f84aab99-8348-422e-b78c-19c4af4ccf6f"
   },
   "outputs": [
    {
     "data": {
      "image/png": "[encoded data removed]",
      "text/plain": [
       "<Figure size 1080x360 with 1 Axes>"
      ]
     },
     "metadata": {},
     "output_type": "display_data"
    }
   ],
   "source": [
    "# Plot setup\n",
    "plt.figure(figsize=(15, 5))\n",
    "sns.set(style='whitegrid')\n",
    "\n",
    "# Plot NDCG@k of validation sets for three models\n",
    "plt.plot(ndcg_val_without_anneal, color='b',\n",
    "         linestyle='-', label='without anneal')\n",
    "plt.plot(ndcg_val_with_anneal, color='g',\n",
    "         linestyle='-', label='with anneal at β=1')\n",
    "plt.plot(ndcg_val_optimal_beta, color='r',\n",
    "         linestyle='-', label='with anneal at optimal β')\n",
    "\n",
    "# Add plot title and axis names\n",
    "plt.title('VALIDATION NDCG@100 FOR DIFFERENT MODELS \\n', size=16)\n",
    "plt.xlabel('Epochs', size=14)\n",
    "plt.ylabel('NDCG@10', size=14)\n",
    "plt.legend(loc='lower right')\n",
    "\n",
    "plt.show()"
   ]
  },
  {
   "cell_type": "markdown",
   "id": "019fb969",
   "metadata": {
    "id": "oQ2vJIqq4CdG"
   },
   "source": [
    "# Now we are going to vary the Sparsity\n",
    "We will be doing this by splitting the difference (i.e. 100% - ~75% = 25%) up in 5 equal steps of 5% each. This would result in 75%, 80%, 85%, 90% and 95% sparsity. At each step we will perform a full round of training, validating and testing to see the performance of the VAE under data sparseness.\n"
   ]
  },
  {
   "cell_type": "code",
   "execution_count": null,
   "id": "a121463b",
   "metadata": {
    "colab": {
     "base_uri": "https://localhost:8080/"
    },
    "id": "3HxfLMhv4B3j",
    "outputId": "4e0bfc0d-760c-4fda-f4ad-27ea4e302bed"
   },
   "outputs": [],
   "source": [
    "VERBOSE = False\n",
    "\n",
    "\n",
    "def _print(message):\n",
    "    if VERBOSE:\n",
    "        print(message)\n",
    "\n",
    "\n",
    "def load_dataset(fp):\n",
    "    df = pd.DataFrame()\n",
    "    try:\n",
    "        df[[\"userID\", \"itemID\", \"rating\", \"timestamp\"]] = pd.read_json(\n",
    "            fp)[[\"reviewerID\", \"asin\", \"overall\", \"unixReviewTime\"]]\n",
    "    except:\n",
    "        df = pd.read_json(fp)\n",
    "    return df\n",
    "\n",
    "\n",
    "def filter_on_minimal_ratings(df):\n",
    "    # Keep users who rated at least 3 products\n",
    "    df = min_rating_filter_pandas(df, min_rating=3, filter_by=\"user\")\n",
    "\n",
    "    # Keep products that were rated by at least 1 user\n",
    "    df = min_rating_filter_pandas(df, min_rating=1, filter_by=\"item\")\n",
    "    df.reset_index(drop=True, inplace=True)\n",
    "    return df\n",
    "\n",
    "\n",
    "def filter_to_sparsity(df, sparsity_percentage, verbose=False):\n",
    "    # Obtain both usercount and itemcount after filtering\n",
    "    usercount = df[['userID']].groupby('userID', as_index=False).size()\n",
    "    itemcount = df[['itemID']].groupby('itemID', as_index=False).size()\n",
    "\n",
    "    sparsity = 1 - (df.shape[0] / (usercount.shape[0] * itemcount.shape[0]))\n",
    "\n",
    "    _print(f\"After filtering, there are {df.shape[0]} ratings from {usercount.shape[0]} users on {itemcount.shape[0]}\" +\n",
    "           f\" products (sparsity: {sparsity * 100:.3f})\")\n",
    "\n",
    "    drop_item_ratings = int(-((1-sparsity_percentage) *\n",
    "                            (usercount.shape[0] * itemcount.shape[0]) - df.shape[0]))\n",
    "    _print(\n",
    "        f\"To obtain a sparsity of {sparsity_percentage * 100}% we need to drop {drop_item_ratings} ratings\")\n",
    "    # Only remove ratings where the item is present more than 1 time in the dataset. This way items won't be fully omitted from the dataset.\n",
    "    drop_indices = np.random.choice(df[df.itemID.isin(\n",
    "        (df.groupby('itemID').count() > 1).index)].index, size=drop_item_ratings)\n",
    "    # Future work: make sure stratified subsampling to make sure you won't drop products completely\n",
    "    df.drop(drop_indices, inplace=True)\n",
    "\n",
    "    sparsity = 1 - (df.shape[0] / (usercount.shape[0] * itemcount.shape[0]))\n",
    "    _print(f\"After dropping cells, there are {df.shape[0]} ratings from {usercount.shape[0]} users on {itemcount.shape[0]}\" +\n",
    "           f\" products (sparsity: {sparsity * 100:.3f})\")\n",
    "    return df\n",
    "\n",
    "\n",
    "def split_dataframe(df, val_percentage=0.1, test_percentage=0.2):\n",
    "    unique_users = sorted(df.userID.unique())\n",
    "    np.random.seed(SEED)\n",
    "    unique_users = np.random.permutation(unique_users)\n",
    "\n",
    "    # Create train/validation/test users\n",
    "    # The order of splitting is val, test and then training to solve the rounding error for int() on line 5, 6\n",
    "    n_users = len(unique_users)\n",
    "    _print(f\"Number of unique users: {n_users}\")\n",
    "    HELDOUT_USERS_VAL = int(val_percentage * n_users)\n",
    "    HELDOUT_USERS_TEST = int(test_percentage * n_users)\n",
    "\n",
    "    val_users = unique_users[:HELDOUT_USERS_VAL]\n",
    "    _print(f\"\\nNumber of validation users: {len(val_users)}\")\n",
    "\n",
    "    test_users = unique_users[HELDOUT_USERS_VAL:(\n",
    "        HELDOUT_USERS_VAL+HELDOUT_USERS_TEST)]\n",
    "    _print(f\"\\nNumber of test users: {len(test_users)}\")\n",
    "\n",
    "    train_users = unique_users[(HELDOUT_USERS_VAL+HELDOUT_USERS_TEST):]\n",
    "    _print(f\"\\nNumber of training users: {len(train_users)}\")\n",
    "\n",
    "    # For training set keep only users that are in train_users list\n",
    "    train_set = df.loc[df['userID'].isin(train_users)]\n",
    "    _print(f\"Number of training observations: {train_set.shape[0]}\")\n",
    "\n",
    "    # For validation set keep only users that are in val_users list\n",
    "    val_set = df.loc[df['userID'].isin(val_users)]\n",
    "    _print(f\"\\nNumber of validation observations: {val_set.shape[0]}\")\n",
    "\n",
    "    # For test set keep only users that are in test_users list\n",
    "    test_set = df.loc[df['userID'].isin(test_users)]\n",
    "    _print(f\"\\nNumber of test observations: {test_set.shape[0]}\")\n",
    "\n",
    "    # Obtain list of unique products used in training set\n",
    "    unique_train_items = pd.unique(train_set['itemID'])\n",
    "    _print(\n",
    "        f\"Number of unique items that rated in training set {unique_train_items.size}\")\n",
    "\n",
    "    # For validation set keep only products that used in training set\n",
    "    val_set = val_set.loc[val_set['itemID'].isin(unique_train_items)]\n",
    "    _print(\n",
    "        f\"Number of validation observations after filtering: {val_set.shape[0]}\")\n",
    "\n",
    "    # For test set keep only products that used in training set\n",
    "    test_set = test_set.loc[test_set['itemID'].isin(unique_train_items)]\n",
    "    _print(\n",
    "        f\"\\nNumber of test observations after filtering: {test_set.shape[0]}\")\n",
    "    return train_set, val_set, test_set\n",
    "\n",
    "\n",
    "def create_matrix(train_set, val_set, test_set):\n",
    "    # Instantiate the sparse matrix generation for train, validation and test sets\n",
    "    # use list of unique items from training set for all sets\n",
    "    unique_train_items = pd.unique(train_set['itemID'])\n",
    "    am_train = AffinityMatrix(df=train_set, items_list=unique_train_items)\n",
    "    am_val = AffinityMatrix(df=val_set, items_list=unique_train_items)\n",
    "    am_test = AffinityMatrix(df=test_set, items_list=unique_train_items)\n",
    "\n",
    "    # Obtain the sparse matrix for train, validation and test sets\n",
    "    train_data, _, _ = am_train.gen_affinity_matrix()\n",
    "    _print(train_data.shape)\n",
    "\n",
    "    val_data, val_map_users, val_map_items = am_val.gen_affinity_matrix()\n",
    "    _print(val_data.shape)\n",
    "\n",
    "    test_data, test_map_users, test_map_items = am_test.gen_affinity_matrix()\n",
    "    _print(test_data.shape)\n",
    "\n",
    "    # Split validation and test data into training and testing parts\n",
    "    val_data_tr, val_data_te = numpy_stratified_split(\n",
    "        val_data, ratio=0.75, seed=SEED)\n",
    "    test_data_tr, test_data_te = numpy_stratified_split(\n",
    "        test_data, ratio=0.75, seed=SEED)\n",
    "    return train_data, am_val, val_data, val_data_tr, val_data_te, am_test, test_data, test_data_tr, test_data_te\n",
    "\n",
    "\n",
    "def data_loading_pipeline(fp, sparsity_percentage=None, with_writing=False):\n",
    "    \"\"\"\n",
    "    fp: str = Filepointer to desired user-item-ratings json.\n",
    "    sparsity_percentage: float = value between 0-1.\n",
    "    \"\"\"\n",
    "    df = load_dataset(fp)\n",
    "    df = filter_on_minimal_ratings(df)\n",
    "    df = filter_to_sparsity(df, sparsity_percentage)\n",
    "    train_set, val_set, test_set = split_dataframe(df)\n",
    "    train_data, am_val, val_data, val_data_tr, val_data_te_ratings, am_test, test_data, test_data_tr, test_data_te_ratings = create_matrix(\n",
    "        train_set, val_set, test_set)\n",
    "    return train_data, am_val, val_data, val_data_tr, val_data_te_ratings, am_test, test_data, test_data_tr, test_data_te_ratings\n",
    "\n",
    "\n",
    "data_loading_pipeline(\"../data/AMAZON_FASHION_5.json\", 0.75)"
   ]
  },
  {
   "cell_type": "code",
   "execution_count": null,
   "id": "961dc793",
   "metadata": {},
   "outputs": [],
   "source": [
    "metrics_at_sparsity_levels = dict()"
   ]
  },
  {
   "cell_type": "markdown",
   "id": "78bdf165",
   "metadata": {},
   "source": [
    "### Training with 75% sparsity"
   ]
  },
  {
   "cell_type": "code",
   "execution_count": null,
   "id": "b7fc81cb",
   "metadata": {},
   "outputs": [],
   "source": [
    "def train(train_data, val_data, val_data_tr, val_data_te_ratings, am_val):\n",
    "    model_with_anneal = StandardRealValueVAE(\n",
    "        min_rating=1,\n",
    "        max_rating=5,\n",
    "        # Number of unique users in the training set\n",
    "        n_users=train_data.shape[0],\n",
    "        # Number of unique items in the training set\n",
    "        original_dim=train_data.shape[1],\n",
    "        intermediate_dim=INTERMEDIATE_DIM,\n",
    "        latent_dim=LATENT_DIM,\n",
    "        n_epochs=EPOCHS,\n",
    "        batch_size=BATCH_SIZE,\n",
    "        k=TOP_K,\n",
    "        verbose=0,\n",
    "        seed=SEED,\n",
    "        save_path=WEIGHTS_PATH,\n",
    "        drop_encoder=0.5,\n",
    "        drop_decoder=0.5,\n",
    "        annealing=True,\n",
    "        anneal_cap=1.0)\n",
    "    with Timer() as t:\n",
    "        model_with_anneal.fit(x_train=train_data,\n",
    "                              x_valid=val_data,\n",
    "                              x_val_tr=val_data_tr,\n",
    "                              x_val_te=val_data_te_ratings,  # with the original ratings\n",
    "                              mapper=am_val)\n",
    "    print(\"Took {} seconds for training.\".format(t))\n",
    "    return model_with_anneal\n",
    "\n",
    "\n",
    "def tune(optimal_beta, train_data, val_data, val_data_tr, val_data_te_ratings, am_val):\n",
    "    model_optimal_beta = StandardRealValueVAE(\n",
    "        min_rating=1,\n",
    "        max_rating=5,\n",
    "        # Number of unique users in the training set\n",
    "        n_users=train_data.shape[0],\n",
    "        # Number of unique items in the training set\n",
    "        original_dim=train_data.shape[1],\n",
    "        intermediate_dim=INTERMEDIATE_DIM,\n",
    "        latent_dim=LATENT_DIM,\n",
    "        n_epochs=EPOCHS,\n",
    "        batch_size=BATCH_SIZE,\n",
    "        k=TOP_K,\n",
    "        verbose=0,\n",
    "        seed=SEED,\n",
    "        save_path=WEIGHTS_PATH,\n",
    "        drop_encoder=0.5,\n",
    "        drop_decoder=0.5,\n",
    "        annealing=True,\n",
    "        anneal_cap=optimal_beta)\n",
    "\n",
    "    with Timer() as t:\n",
    "        model_optimal_beta.fit(x_train=train_data,\n",
    "                               x_valid=val_data,\n",
    "                               x_val_tr=val_data_tr,\n",
    "                               x_val_te=val_data_te_ratings,  # with the original ratings\n",
    "                               mapper=am_val\n",
    "                               )\n",
    "        print(\"Took {} seconds for training.\".format(t))\n",
    "        return model_optimal_beta\n",
    "\n",
    "\n",
    "def evaluate(model_optimal_beta, test_data_tr, test_data_te_ratings, am_test, eval_k):\n",
    "    with Timer() as t:\n",
    "        # Model prediction on the training part of test set\n",
    "        top_k = model_optimal_beta.recommend_k_items(x=test_data_tr,\n",
    "                                                     k=eval_k,\n",
    "                                                     remove_seen=True)\n",
    "        # Convert sparse matrix back to df\n",
    "        top_k_df = am_test.map_back_sparse(top_k, kind='prediction')\n",
    "        # use test_data_te_, with the original ratings\n",
    "        test_df = am_test.map_back_sparse(test_data_te_ratings, kind='ratings')\n",
    "\n",
    "    print(\"Took {} seconds for prediction.\".format(t))\n",
    "\n",
    "    # Use the ranking metrics for evaluation\n",
    "    eval_map = map_at_k(test_df, top_k_df,\n",
    "                        col_prediction='prediction', k=eval_k)\n",
    "    eval_ndcg = ndcg_at_k(\n",
    "        test_df, top_k_df, col_prediction='prediction', k=eval_k)\n",
    "    eval_precision = precision_at_k(\n",
    "        test_df, top_k_df, col_prediction='prediction', k=eval_k)\n",
    "    eval_recall = recall_at_k(\n",
    "        test_df, top_k_df, col_prediction='prediction', k=eval_k)\n",
    "\n",
    "    return eval_map, eval_ndcg, eval_precision, eval_recall\n",
    "\n",
    "\n",
    "def train_tune_eval_pipeline(sparsity_percentage, run_n_times=20):\n",
    "    maps, ndcgs, precisions, recalls = np.zeros(run_n_times), np.zeros(\n",
    "        run_n_times), np.zeros(run_n_times), np.zeros(run_n_times)\n",
    "\n",
    "    eval_k = TOP_K\n",
    "    for i in range(run_n_times):\n",
    "        SEED = i\n",
    "        VERBOSE = False\n",
    "        if i == 0:\n",
    "            VERBOSE = True  # Print data messages once\n",
    "\n",
    "        train_data, am_val, val_data, val_data_tr, val_data_te_ratings, am_test, test_data, test_data_tr, test_data_te_ratings = data_loading_pipeline(\n",
    "            \"../data/AMAZON_FASHION_5.json\", sparsity_percentage)\n",
    "\n",
    "        model_with_anneal = train(\n",
    "            train_data, val_data, val_data_tr, val_data_te_ratings, am_val)\n",
    "\n",
    "        model_optimal_beta = tune(model_with_anneal.get_optimal_beta(\n",
    "        ), train_data, val_data, val_data_tr, val_data_te_ratings, am_val)\n",
    "\n",
    "        eval_map, eval_ndcg, eval_precision, eval_recall = evaluate(\n",
    "            model_optimal_beta, test_data_tr, test_data_te_ratings, am_test, eval_k)\n",
    "\n",
    "        maps[i] = eval_map\n",
    "        ndcgs[i] = eval_ndcg\n",
    "        precisions[i] = eval_precision\n",
    "        recalls[i] = eval_recall\n",
    "\n",
    "    model_with_anneal.display_metrics()\n",
    "    model_optimal_beta.display_metrics()\n",
    "    print(f\"mean MAP@{eval_k}:\\t\\t{maps.mean():.5f}\",\n",
    "          f\"mean NDCG@{eval_k}:\\t{ndcgs.mean():.5f}\",\n",
    "          f\"mean Precision@{eval_k}:\\t{precisions.mean():.5f}\",\n",
    "          f\"mean Recall@{eval_k}: \\t{recalls.mean():.5f}\", sep='\\n')\n",
    "    return maps, ndcgs, precisions, recalls"
   ]
  },
  {
   "cell_type": "code",
   "execution_count": null,
   "id": "1c0664c8",
   "metadata": {},
   "outputs": [],
   "source": [
    "sparsity_percentage = 0.75\n",
    "maps, ndcgs, precisions, recalls = train_tune_eval_pipeline(\n",
    "    sparsity_percentage, run_n_times=20)"
   ]
  },
  {
   "cell_type": "code",
   "execution_count": null,
   "id": "93f39fc4",
   "metadata": {},
   "outputs": [],
   "source": [
    "# maps, ndcgs, precisions, recalls = train_tune_eval_pipeline(sparsity_percentage, run_n_times=20)\n",
    "metrics_at_sparsity_levels[str(sparsity_percentage)] = dict()\n",
    "metrics_at_sparsity_levels[str(sparsity_percentage)][\"map\"] = maps.tolist()\n",
    "metrics_at_sparsity_levels[str(sparsity_percentage)][\"ndcgs\"] = ndcgs.tolist()\n",
    "metrics_at_sparsity_levels[str(sparsity_percentage)\n",
    "                           ][\"precisions\"] = precisions.tolist()\n",
    "metrics_at_sparsity_levels[str(sparsity_percentage)\n",
    "                           ][\"recalls\"] = recalls.tolist()\n",
    "\n",
    "\n",
    "with open(\"../results/results_vae.json\", \"w\") as fp:\n",
    "    json.dump(metrics_at_sparsity_levels, fp)"
   ]
  },
  {
   "cell_type": "markdown",
   "id": "8ed99bcb",
   "metadata": {},
   "source": [
    "### Training with 80% sparsity"
   ]
  },
  {
   "cell_type": "code",
   "execution_count": null,
   "id": "ea8d829e",
   "metadata": {},
   "outputs": [],
   "source": [
    "sparsity_percentage = 0.80\n",
    "with open(\"../results/results_vae.json\", \"r\") as fp:\n",
    "    metrics_at_sparsity_levels = json.load(fp)"
   ]
  },
  {
   "cell_type": "code",
   "execution_count": null,
   "id": "36eeea0b",
   "metadata": {},
   "outputs": [],
   "source": [
    "maps, ndcgs, precisions, recalls = train_tune_eval_pipeline(\n",
    "    sparsity_percentage)\n",
    "metrics_at_sparsity_levels[str(sparsity_percentage)] = dict()\n",
    "metrics_at_sparsity_levels[str(sparsity_percentage)][\"map\"] = maps.tolist()\n",
    "metrics_at_sparsity_levels[str(sparsity_percentage)][\"ndcgs\"] = ndcgs.tolist()\n",
    "metrics_at_sparsity_levels[str(sparsity_percentage)\n",
    "                           ][\"precisions\"] = precisions.tolist()\n",
    "metrics_at_sparsity_levels[str(sparsity_percentage)\n",
    "                           ][\"recalls\"] = recalls.tolist()\n",
    "\n",
    "\n",
    "with open(\"../results/results_vae.json\", \"w\") as fp:\n",
    "    json.dump(metrics_at_sparsity_levels, fp)"
   ]
  },
  {
   "cell_type": "markdown",
   "id": "0da6ef56",
   "metadata": {},
   "source": [
    "### Training with 85% sparsity"
   ]
  },
  {
   "cell_type": "code",
   "execution_count": null,
   "id": "6d639468",
   "metadata": {},
   "outputs": [],
   "source": [
    "sparsity_percentage = 0.85\n",
    "\n",
    "with open(\"../results/results_vae.json\", \"r\") as fp:\n",
    "    metrics_at_sparsity_levels = json.load(fp)"
   ]
  },
  {
   "cell_type": "code",
   "execution_count": null,
   "id": "c00f5c4d",
   "metadata": {},
   "outputs": [],
   "source": [
    "maps, ndcgs, precisions, recalls = train_tune_eval_pipeline(\n",
    "    sparsity_percentage)\n",
    "metrics_at_sparsity_levels[str(sparsity_percentage)] = dict()\n",
    "metrics_at_sparsity_levels[str(sparsity_percentage)][\"map\"] = maps.tolist()\n",
    "metrics_at_sparsity_levels[str(sparsity_percentage)][\"ndcgs\"] = ndcgs.tolist()\n",
    "metrics_at_sparsity_levels[str(sparsity_percentage)\n",
    "                           ][\"precisions\"] = precisions.tolist()\n",
    "metrics_at_sparsity_levels[str(sparsity_percentage)\n",
    "                           ][\"recalls\"] = recalls.tolist()\n",
    "\n",
    "\n",
    "with open(\"../results/results_vae.json\", \"w\") as fp:\n",
    "    json.dump(metrics_at_sparsity_levels, fp)"
   ]
  },
  {
   "cell_type": "markdown",
   "id": "cbdb2ba5",
   "metadata": {},
   "source": [
    "### Training with 90% sparsity"
   ]
  },
  {
   "cell_type": "code",
   "execution_count": null,
   "id": "34728bdd",
   "metadata": {},
   "outputs": [],
   "source": [
    "sparsity_percentage = 0.90\n",
    "\n",
    "with open(\"../results/results_vae.json\", \"r\") as fp:\n",
    "    metrics_at_sparsity_levels = json.load(fp)"
   ]
  },
  {
   "cell_type": "code",
   "execution_count": null,
   "id": "ebd49701",
   "metadata": {},
   "outputs": [],
   "source": [
    "maps, ndcgs, precisions, recalls = train_tune_eval_pipeline(\n",
    "    sparsity_percentage)\n",
    "metrics_at_sparsity_levels[str(sparsity_percentage)] = dict()\n",
    "metrics_at_sparsity_levels[str(sparsity_percentage)][\"map\"] = maps.tolist()\n",
    "metrics_at_sparsity_levels[str(sparsity_percentage)][\"ndcgs\"] = ndcgs.tolist()\n",
    "metrics_at_sparsity_levels[str(sparsity_percentage)\n",
    "                           ][\"precisions\"] = precisions.tolist()\n",
    "metrics_at_sparsity_levels[str(sparsity_percentage)\n",
    "                           ][\"recalls\"] = recalls.tolist()\n",
    "\n",
    "with open(\"../results/results_vae.json\", \"w\") as fp:\n",
    "    json.dump(metrics_at_sparsity_levels, fp)"
   ]
  },
  {
   "cell_type": "markdown",
   "id": "fbd2447c",
   "metadata": {},
   "source": [
    "### Training with 95% sparsity"
   ]
  },
  {
   "cell_type": "code",
   "execution_count": null,
   "id": "5e0d6760",
   "metadata": {},
   "outputs": [],
   "source": [
    "sparsity_percentage = 0.95\n",
    "with open(\"../results/results_vae.json\", \"r\") as fp:\n",
    "    metrics_at_sparsity_levels = json.load(fp)"
   ]
  },
  {
   "cell_type": "code",
   "execution_count": null,
   "id": "fa978b42",
   "metadata": {},
   "outputs": [],
   "source": [
    "maps, ndcgs, precisions, recalls = train_tune_eval_pipeline(\n",
    "    sparsity_percentage)\n",
    "metrics_at_sparsity_levels[str(sparsity_percentage)] = dict()\n",
    "metrics_at_sparsity_levels[str(sparsity_percentage)][\"map\"] = maps.tolist()\n",
    "metrics_at_sparsity_levels[str(sparsity_percentage)][\"ndcgs\"] = ndcgs.tolist()\n",
    "metrics_at_sparsity_levels[str(sparsity_percentage)\n",
    "                           ][\"precisions\"] = precisions.tolist()\n",
    "metrics_at_sparsity_levels[str(sparsity_percentage)\n",
    "                           ][\"recalls\"] = recalls.tolist()\n",
    "\n",
    "with open(\"../results/results_vae.json\", \"w\") as fp:\n",
    "    json.dump(metrics_at_sparsity_levels, fp)"
   ]
  },
  {
   "cell_type": "markdown",
   "id": "c7407e8c",
   "metadata": {},
   "source": [
    "# All results are plotted in [this notebook](Plot%20results.ipynb)"
   ]
  },
  {
   "cell_type": "markdown",
   "id": "f50aced5",
   "metadata": {
    "id": "Niu0b4U1PUwQ"
   },
   "source": [
    "# 6 References"
   ]
  },
  {
   "cell_type": "markdown",
   "id": "967450da",
   "metadata": {
    "id": "A51MUkNVPSX0"
   },
   "source": [
    "[Liang, Dawen, et al, 2018] [Liang, Dawen, et al. \"Variational autoencoders for collaborative filtering.\" Proceedings of the 2018 World Wide Web Conference. 2018.](https://dl.acm.org/doi/pdf/10.1145/3178876.3186150?casa_token=zul5haircsAAAAAA:iIKn7y-xWwSeqaP-MmmyUaJoJuNZX9Fx1aXeFJwkwtMpVDCrPMW3kZjuYo1LKhSuMeUMNf1mbP2o)\n",
    "\n",
    "[Kingma et al, 2013] [Kingma, Diederik P., and Max Welling. \"Auto-encoding variational bayes.\"  (2013).](https://arxiv.org/pdf/1312.6114.pdf)\n",
    "\n",
    "[Burgess et al, 2018] [Burgess, Christopher P., et al. \"Understanding disentangling in $\\beta $-VAE.\" (2018)](https://arxiv.org/pdf/1804.03599.pdf)\n",
    "\n",
    "[Higgins et al, 2016] [Higgins, Irina, et al. \"beta-vae: Learning basic visual concepts with a constrained variational framework.\" (2016).](https://openreview.net/pdf?id=Sy2fzU9gl)\n",
    "\n",
    "\n",
    "[Bowman et al, 2015] [Samuel R. Bowman, Luke Vilnis, Oriol Vinyals, Andrew M. Dai, Rafal Jozefowicz,\n",
    "and Samy Bengio. 2015. Generating sentences from a continuous space. (2015).](https://arxiv.org/pdf/1511.06349.pdf)\n"
   ]
  }
 ],
 "metadata": {
  "jupytext": {
   "encoding": "# -*- coding: utf-8 -*-"
  },
  "kernelspec": {
   "display_name": "Python 3",
   "language": "python",
   "name": "python3"
  },
  "language_info": {
   "codemirror_mode": {
    "name": "ipython",
    "version": 3
   },
   "file_extension": ".py",
   "mimetype": "text/x-python",
   "name": "python",
   "nbconvert_exporter": "python",
   "pygments_lexer": "ipython3",
   "version": "3.7.11"
  }
 },
 "nbformat": 4,
 "nbformat_minor": 5
}
