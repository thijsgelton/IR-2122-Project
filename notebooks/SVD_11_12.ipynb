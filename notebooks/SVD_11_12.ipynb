{
 "cells": [
  {
   "cell_type": "markdown",
   "id": "01fc4644",
   "metadata": {},
   "source": [
    "# SVD implementation"
   ]
  },
  {
   "cell_type": "code",
   "execution_count": 10,
   "id": "4dac0c10",
   "metadata": {},
   "outputs": [],
   "source": [
    "import surprise\n",
    "from surprise import SVD\n",
    "from surprise import Dataset\n",
    "from surprise import accuracy\n",
    "from surprise import Reader\n",
    "from surprise.model_selection import cross_validate\n",
    "from surprise.model_selection import GridSearchCV\n",
    "from surprise.model_selection import KFold\n",
    "from collections import defaultdict\n",
    "\n",
    "import random\n",
    "import pandas as pd\n",
    "import numpy as np\n",
    "import matplotlib.pyplot as plt\n",
    "import seaborn as sns\n",
    "sns.set()"
   ]
  },
  {
   "cell_type": "code",
   "execution_count": 11,
   "id": "d4665dc2",
   "metadata": {},
   "outputs": [],
   "source": [
    "my_seed = 0\n",
    "random.seed(my_seed)\n",
    "np.random.seed(my_seed)"
   ]
  },
  {
   "cell_type": "code",
   "execution_count": 12,
   "id": "a472d0eb",
   "metadata": {},
   "outputs": [],
   "source": [
    "def _print(message, verbose):\n",
    "    if verbose:\n",
    "        print(message)\n",
    "        \n",
    "def load_dataset(data_f):\n",
    "    df = pd.DataFrame()\n",
    "    try:\n",
    "        df[[\"userID\", \"itemID\", \"rating\"]] = pd.read_json(data_f)[[\"userID\", \"itemID\", \"rating\"]]\n",
    "    except:\n",
    "        df = pd.read_json(data_f)\n",
    "        df.drop_duplicates(subset=[\"userID\", \"itemID\"], inplace=True)\n",
    "    return df\n",
    "\n",
    "def filter_to_sparsity(df, sparsity_percentage, verbose = False):\n",
    "    # Obtain both usercount and itemcount after filtering\n",
    "    usercount = df[['userID']].groupby('userID', as_index = False).size()\n",
    "    itemcount = df[['itemID']].groupby('itemID', as_index = False).size()\n",
    "\n",
    "    sparsity = 1 - (df.shape[0] / (usercount.shape[0] * itemcount.shape[0]))\n",
    "\n",
    "    _print(f\"After filtering, there are {df.shape[0]} ratings from {usercount.shape[0]} users on {itemcount.shape[0]}\" + \n",
    "           f\" products (sparsity: {sparsity * 100:.3f})\", verbose)\n",
    "    \n",
    "    drop_item_ratings = int(-((1-sparsity_percentage) * (usercount.shape[0] * itemcount.shape[0]) - df.shape[0]))\n",
    "    print(f\"To obtain a sparsity of {sparsity_percentage * 100}% we need to drop {drop_item_ratings} ratings\")\n",
    "    drop_indices = np.random.choice(df.index, size=drop_item_ratings)\n",
    "    df.drop(drop_indices, inplace=True)\n",
    "\n",
    "    sparsity = 1 - (df.shape[0] / (usercount.shape[0] * itemcount.shape[0]))\n",
    "    _print(f\"After dropping cells, there are {df.shape[0]} ratings from {usercount.shape[0]} users on {itemcount.shape[0]}\" + \n",
    "           f\" products (sparsity: {sparsity * 100:.3f})\", verbose)\n",
    "    return df\n",
    "\n",
    "def build_data(df):\n",
    "    reader = Reader(rating_scale=(1,5))\n",
    "    data = Dataset.load_from_df(df, reader)\n",
    "    return data"
   ]
  },
  {
   "cell_type": "code",
   "execution_count": 13,
   "id": "dc9b4d92",
   "metadata": {},
   "outputs": [],
   "source": [
    "def data_loading_pipeline(fp, sparsity_percentage=None, with_writing=False):\n",
    "    \"\"\"\n",
    "    fp: str = Filepointer to desired user-item-ratings json.\n",
    "    sparsity_percentage: float = value between 0-1.\n",
    "    \"\"\"\n",
    "    df = load_dataset(fp)\n",
    "    df = filter_to_sparsity(df, sparsity_percentage)\n",
    "    data = build_data(df)\n",
    "    \n",
    "    return data"
   ]
  },
  {
   "cell_type": "markdown",
   "id": "2452efad",
   "metadata": {},
   "source": [
    "### Precision and recall"
   ]
  },
  {
   "cell_type": "code",
   "execution_count": 14,
   "id": "67486760",
   "metadata": {},
   "outputs": [],
   "source": [
    "def precision_recall_at_k(predictions, k=10, threshold=3.5):\n",
    "    \"\"\"Return precision and recall at k metrics for each user\"\"\"\n",
    "    # First map the predictions to each user.\n",
    "    user_est_true = defaultdict(list)\n",
    "    for uid, _, true_r, est, _ in predictions:\n",
    "        user_est_true[uid].append((est, true_r))\n",
    "    \n",
    "    precisions = dict()\n",
    "    recalls = dict()\n",
    "    for uid, user_ratings in user_est_true.items():\n",
    "        # Sort user ratings by estimated value\n",
    "        user_ratings.sort(key=lambda x: x[0], reverse=True)\n",
    "        \n",
    "        # Number of relevant items\n",
    "        n_rel = sum((true_r >= threshold) for (_, true_r) in user_ratings)\n",
    "        \n",
    "        # Number of recommended items in top k\n",
    "        n_rec_k = sum((est >= threshold) for (est, _) in user_ratings[:k])\n",
    "\n",
    "        # Number of relevant and recommended items in top k\n",
    "        n_rel_and_rec_k = sum(((true_r >= threshold) and (est >= threshold))\n",
    "                              for (est, true_r) in user_ratings[:k])\n",
    "    \n",
    "        # Precision@K: Proportion of recommended items that are relevant\n",
    "        # When n_rec_k is 0, Precision is undefined. We here set it to 0.\n",
    "\n",
    "        precisions[uid] = n_rel_and_rec_k / n_rec_k if n_rec_k != 0 else 0\n",
    "\n",
    "        # Recall@K: Proportion of relevant items that are recommended\n",
    "        # When n_rel is 0, Recall is undefined. We here set it to 0.\n",
    "\n",
    "        recalls[uid] = n_rel_and_rec_k / n_rel if n_rel != 0 else 0\n",
    "\n",
    "    return precisions, recalls"
   ]
  },
  {
   "cell_type": "code",
   "execution_count": 15,
   "id": "a6c3c869",
   "metadata": {},
   "outputs": [],
   "source": [
    "def DCG(query_relevancy_labels, k):\n",
    "    # Use log with base 2\n",
    "    value=min(k,len(query_relevancy_labels))\n",
    "    sum1=0\n",
    "    for i in range(value):\n",
    "      sum1=sum1+((query_relevancy_labels[i])/(np.log2(2+i)))\n",
    "\n",
    "    return sum1\n",
    "\n",
    "def NDCG(query_relevancy_labels, k):\n",
    "    sorted_list= np.sort(query_relevancy_labels)[::-1]\n",
    "    dcg1 = DCG(query_relevancy_labels, k)\n",
    "    dcg2 = DCG(sorted_list, k)\n",
    "    if dcg2 == 0:\n",
    "      return 0\n",
    "    else:\n",
    "      return dcg1/dcg2"
   ]
  },
  {
   "cell_type": "code",
   "execution_count": 16,
   "id": "f8ac785f",
   "metadata": {},
   "outputs": [],
   "source": [
    "def ndcg_at_k(predictions, k=10, threshold=3.5):\n",
    "    \"\"\"Return precision and recall at k metrics for each user\"\"\"\n",
    "\n",
    "    # First map the predictions to each user.\n",
    "    user_est_true = defaultdict(list)\n",
    "    for uid, _, true_r, est, _ in predictions:\n",
    "        user_est_true[uid].append((est, true_r))\n",
    "\n",
    "    dcg = dict()\n",
    "    ndcg = dict()\n",
    "    for uid, user_ratings in user_est_true.items():\n",
    "        rel=[]\n",
    "\n",
    "        # Sort user ratings by estimated value\n",
    "        user_ratings.sort(key=lambda x: x[0], reverse=True)\n",
    "\n",
    "        # Number of relevant items\n",
    "        n_rel = sum((true_r >= threshold) for (_, true_r) in user_ratings)\n",
    "\n",
    "        for _, true_r in user_ratings:\n",
    "          if true_r>=threshold:\n",
    "            rel.append(true_r)\n",
    "\n",
    "        # Number of recommended items in top k\n",
    "        n_rec_k = sum((est >= threshold) for (est, _) in user_ratings[:k])\n",
    "\n",
    "        # Number of relevant and recommended items in top k\n",
    "        n_rel_and_rec_k = sum(((true_r >= threshold) and (est >= threshold))\n",
    "                              for (est, true_r) in user_ratings[:k])\n",
    "\n",
    "        # Precision@K: Proportion of recommended items that are relevant\n",
    "        # When n_rec_k is 0, Precision is undefined. We here set it to 0.\n",
    "        #print(rel)\n",
    "\n",
    "        ndcg[uid] = NDCG(rel, k)\n",
    "\n",
    "        # Recall@K: Proportion of relevant items that are recommended\n",
    "        # When n_rel is 0, Recall is undefined. We here set it to 0.\n",
    "\n",
    "        #recalls[uid] = n_rel_and_rec_k / n_rel if n_rel != 0 else 0\n",
    "\n",
    "    return ndcg"
   ]
  },
  {
   "cell_type": "markdown",
   "id": "1561a4b3",
   "metadata": {},
   "source": [
    "### Simulation"
   ]
  },
  {
   "cell_type": "code",
   "execution_count": 17,
   "id": "26ba65bf",
   "metadata": {},
   "outputs": [],
   "source": [
    "results = {}\n",
    "spt = [0.75, 0.8 , 0.85, 0.9 , 0.95]"
   ]
  },
  {
   "cell_type": "code",
   "execution_count": 18,
   "id": "f68a39ab",
   "metadata": {},
   "outputs": [
    {
     "name": "stdout",
     "output_type": "stream",
     "text": [
      "To obtain a sparsity of 75.0% we need to drop 391 ratings\n",
      "Biased accuracy on A,  RMSE: 0.0990\n",
      "Unbiased accuracy on B, RMSE: 0.1489\n",
      "To obtain a sparsity of 80.0% we need to drop 914 ratings\n",
      "Biased accuracy on A,  RMSE: 0.0806\n",
      "Unbiased accuracy on B, RMSE: 0.2052\n",
      "To obtain a sparsity of 85.0% we need to drop 1438 ratings\n",
      "Biased accuracy on A,  RMSE: 0.0909\n",
      "Unbiased accuracy on B, RMSE: 0.1054\n",
      "To obtain a sparsity of 90.0% we need to drop 1962 ratings\n",
      "Biased accuracy on A,  RMSE: 0.0850\n",
      "Unbiased accuracy on B, RMSE: 0.4163\n",
      "To obtain a sparsity of 95.0% we need to drop 2486 ratings\n",
      "Biased accuracy on A,  RMSE: 0.0835\n",
      "Unbiased accuracy on B, RMSE: 0.3028\n",
      "{0.75: [0.8305647840531561, 0.8289036544850499, 0.8305647840531561], 0.8: [0.8185328185328186, 0.806949806949807, 0.8262548262548263], 0.85: [0.8140495867768595, 0.8140495867768595, 0.8140495867768595], 0.9: [0.7822222222222223, 0.7785185185185186, 0.8088888888888889], 0.95: [0.8084577114427861, 0.8084577114427861, 0.8208955223880597]}\n"
     ]
    }
   ],
   "source": [
    "for spar in spt:\n",
    "    data = data_loading_pipeline(\"../data/AMAZON_FASHION_5.71.268.json\",round(spar,2))\n",
    "    \n",
    "    raw_ratings = data.raw_ratings\n",
    "    random.shuffle(raw_ratings)\n",
    "    #A = 80%, B=20%\n",
    "    threshold = int(.8 * len(raw_ratings))\n",
    "    A_raw_ratings = raw_ratings[:threshold]\n",
    "    B_raw_ratings = raw_ratings[threshold:]\n",
    "    data.raw_ratings = A_raw_ratings\n",
    "    \n",
    "    param_grid = {'n_epochs': [20,30,40,50], 'lr_all': [0.005,0.05],'reg_all': [0.1, 0.4]}\n",
    "    gs = GridSearchCV(SVD, param_grid, measures=['rmse'], cv=5)\n",
    "    gs.fit(data)\n",
    "    \n",
    "    svd = gs.best_estimator['rmse']\n",
    "    trainset = data.build_full_trainset()\n",
    "    svd.fit(trainset)\n",
    "    \n",
    "    predictions = svd.test(trainset.build_testset())\n",
    "    print('Biased accuracy on A,', end= '  ')\n",
    "    accuracy.rmse(predictions)\n",
    "    \n",
    "    testset = data.construct_testset(B_raw_ratings)\n",
    "    predictions = svd.test(testset)\n",
    "    print('Unbiased accuracy on B,', end= ' ')\n",
    "    accuracy.rmse(predictions)\n",
    "    \n",
    "    precisions, recalls = precision_recall_at_k(predictions, k=100, threshold=4)\n",
    "    ndcg_val = ndcg_at_k(predictions, k=100, threshold=4)\n",
    "    precisionk=(sum(prec for prec in precisions.values()) / len(precisions))\n",
    "    recallk=(sum(rec for rec in recalls.values()) / len(recalls))\n",
    "    ndcgk=(sum(nd for nd in ndcg_val.values()) / len(ndcg_val))\n",
    "    results[round(spar,2)]= [precisionk , recallk, ndcgk]\n",
    "print(results)"
   ]
  },
  {
   "cell_type": "code",
   "execution_count": 19,
   "id": "5b375066",
   "metadata": {},
   "outputs": [
    {
     "name": "stdout",
     "output_type": "stream",
     "text": [
      "[0.8305647840531561, 0.8185328185328186, 0.8140495867768595, 0.7822222222222223, 0.8084577114427861] [0.8289036544850499, 0.806949806949807, 0.8140495867768595, 0.7785185185185186, 0.8084577114427861] [0.8305647840531561, 0.8262548262548263, 0.8140495867768595, 0.8088888888888889, 0.8208955223880597]\n"
     ]
    }
   ],
   "source": [
    "r_pres = []\n",
    "r_recl = []\n",
    "r_ndcg = []\n",
    "for i in results:\n",
    "    r_pres.append(results[i][0])\n",
    "    r_recl.append(results[i][1])\n",
    "    r_ndcg.append(results[i][2])\n",
    "print(r_pres, r_recl, r_ndcg)"
   ]
  },
  {
   "cell_type": "code",
   "execution_count": 22,
   "id": "83687a00",
   "metadata": {},
   "outputs": [
    {
     "data": {
      "image/png": "[encoded data removed]",
      "text/plain": [
       "<Figure size 432x288 with 1 Axes>"
      ]
     },
     "metadata": {},
     "output_type": "display_data"
    }
   ],
   "source": [
    "sns.set(style='whitegrid')\n",
    "plt.plot(spt,r_pres,label=\"precision@10\", marker = \"o\")\n",
    "plt.plot(spt,r_recl,label=\"recall@10\", marker = \"o\")\n",
    "plt.plot(spt,r_ndcg,label=\"ndcg@10\", marker = \"o\")\n",
    "\n",
    "plt.title(\"Metrics as function of Sparsity for SVD\")\n",
    "plt.xlabel(\"Sparsity %\")\n",
    "plt.legend()\n",
    "#plt.savefig(\\\"../metrics_over_sparsity.png\\\")\n",
    "\n",
    "plt.show()"
   ]
  },
  {
   "cell_type": "code",
   "execution_count": null,
   "id": "7bd6dfa2",
   "metadata": {},
   "outputs": [],
   "source": []
  }
 ],
 "metadata": {
  "kernelspec": {
   "display_name": "Python 3 (ipykernel)",
   "language": "python",
   "name": "python3"
  },
  "language_info": {
   "codemirror_mode": {
    "name": "ipython",
    "version": 3
   },
   "file_extension": ".py",
   "mimetype": "text/x-python",
   "name": "python",
   "nbconvert_exporter": "python",
   "pygments_lexer": "ipython3",
   "version": "3.7.11"
  }
 },
 "nbformat": 4,
 "nbformat_minor": 5
}
