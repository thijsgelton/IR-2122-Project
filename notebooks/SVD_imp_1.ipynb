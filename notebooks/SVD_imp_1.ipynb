{
 "cells": [
  {
   "cell_type": "markdown",
   "id": "83af784a",
   "metadata": {},
   "source": [
    "# SVD implementation\n",
    "\n"
   ]
  },
  {
   "cell_type": "code",
<<<<<<< Updated upstream
   "execution_count": 1,
   "id": "d7748d5d",
   "metadata": {},
   "outputs": [],
   "source": [
    "%store -r df"
   ]
  },
  {
   "cell_type": "code",
   "execution_count": 2,
=======
   "execution_count": 49,
>>>>>>> Stashed changes
   "id": "d18a355b",
   "metadata": {},
   "outputs": [],
   "source": [
    "import surprise\n",
    "from surprise import SVD\n",
    "from surprise import Dataset\n",
    "from surprise import accuracy\n",
    "from surprise.model_selection import cross_validate\n",
    "from surprise.model_selection import GridSearchCV\n",
    "from surprise.model_selection import KFold\n",
    "\n",
    "import random\n",
    "import pandas as pd\n",
    "import numpy as np\n",
    "import matplotlib.pyplot as plt\n",
    "import seaborn as sns\n",
    "sns.set()"
   ]
  },
  {
   "cell_type": "code",
   "execution_count": 4,
   "id": "11bddd94",
   "metadata": {},
   "outputs": [],
   "source": [
    "my_seed = 0\n",
    "random.seed(my_seed)\n",
    "np.random.seed(my_seed)"
   ]
  },
  {
   "cell_type": "markdown",
   "id": "3ec846f8",
   "metadata": {},
<<<<<<< Updated upstream
   "outputs": [],
   "source": [
    "dataset = pd.DataFrame()\n",
    "dataset[[\"userID\", \"itemID\", \"rating\"]] = df[[\"reviewerID\",\"asin\",\"overall\"]]"
=======
   "source": [
    "### ---------------------------------------------------------------------------\n",
    "### NEW MODEL"
>>>>>>> Stashed changes
   ]
  },
  {
   "cell_type": "code",
   "execution_count": 5,
   "id": "dbe4b040",
   "metadata": {},
   "outputs": [],
   "source": [
<<<<<<< Updated upstream
    "reader = surprise.Reader(rating_scale=(1,5))\n",
    "data = Dataset.load_from_df(dataset, reader)\n",
    "raw_ratings = data.raw_ratings\n",
    "random.shuffle(raw_ratings)"
=======
    "def _print(message, verbose):\n",
    "    if verbose:\n",
    "        print(message)"
>>>>>>> Stashed changes
   ]
  },
  {
   "cell_type": "code",
   "execution_count": 6,
<<<<<<< Updated upstream
   "id": "2d5236d5",
   "metadata": {},
   "outputs": [
    {
     "name": "stdout",
     "output_type": "stream",
     "text": [
      "Ratings min is 1, max 5\n"
     ]
    }
   ],
   "source": [
    "min_r = dataset['rating'].min()\n",
    "max_r = dataset['rating'].max()\n",
    "print('Ratings min is {0}, max {1}'.format(min_r,max_r))"
   ]
  },
  {
   "cell_type": "code",
   "execution_count": 7,
   "id": "c2c0f533",
   "metadata": {},
   "outputs": [],
   "source": [
    "#loading the data to surprise\n",
    "reader = surprise.Reader(rating_scale=(1,5))\n",
    "data = Dataset.load_from_df(dataset, reader)"
=======
   "id": "7a8eda6a",
   "metadata": {},
   "outputs": [],
   "source": [
    "#\"../data/AMAZON_FASHION_5.71.268.json\"\n",
    "def load_dataset(data_f):\n",
    "    df = pd.DataFrame()\n",
    "    try:\n",
    "        df[[\"userID\", \"itemID\", \"rating\"]] = pd.read_json(data_f)[[\"userID\", \"itemID\", \"rating\"]]\n",
    "    except:\n",
    "        df = pd.read_json(data_f)\n",
    "    df.drop_duplicates(subset=[\"userID\", \"itemID\"], inplace=True)\n",
    "    return df"
>>>>>>> Stashed changes
   ]
  },
  {
   "cell_type": "code",
   "execution_count": 8,
   "id": "9e0ebfe9",
   "metadata": {},
   "outputs": [],
   "source": [
    "def filter_to_sparsity(df, sparsity_percentage, verbose = False):\n",
    "    # Obtain both usercount and itemcount after filtering\n",
    "    usercount = df[['userID']].groupby('userID', as_index = False).size()\n",
    "    itemcount = df[['itemID']].groupby('itemID', as_index = False).size()\n",
    "\n",
    "    sparsity = 1 - (df.shape[0] / (usercount.shape[0] * itemcount.shape[0]))\n",
    "\n",
    "    _print(f\"After filtering, there are {df.shape[0]} ratings from {usercount.shape[0]} users on {itemcount.shape[0]}\" + \n",
    "           f\" products (sparsity: {sparsity * 100:.3f})\", verbose)\n",
    "    \n",
    "    drop_item_ratings = int(-((1-sparsity_percentage) * (usercount.shape[0] * itemcount.shape[0]) - df.shape[0]))\n",
    "    print(f\"To obtain a sparsity of {sparsity_percentage * 100}% we need to drop {drop_item_ratings} ratings\")\n",
    "    drop_indices = np.random.choice(df.index, size=drop_item_ratings)\n",
    "    df.drop(drop_indices, inplace=True)\n",
    "\n",
    "    sparsity = 1 - (df.shape[0] / (usercount.shape[0] * itemcount.shape[0]))\n",
    "    _print(f\"After dropping cells, there are {df.shape[0]} ratings from {usercount.shape[0]} users on {itemcount.shape[0]}\" + \n",
    "           f\" products (sparsity: {sparsity * 100:.3f})\", verbose)\n",
    "    return df"
   ]
  },
  {
   "cell_type": "code",
   "execution_count": 9,
   "id": "b94a3806",
   "metadata": {},
<<<<<<< Updated upstream
   "outputs": [
    {
     "data": {
      "text/plain": [
       "3.4749775367139284"
      ]
     },
     "execution_count": 9,
     "metadata": {},
     "output_type": "execute_result"
    }
   ],
=======
   "outputs": [],
>>>>>>> Stashed changes
   "source": [
    "def build_data(df):\n",
    "    reader = Reader(rating_scale=(1,5))\n",
    "    data = Dataset.load_from_df(df, reader)\n",
    "    return data"
   ]
  },
  {
   "cell_type": "code",
   "execution_count": 10,
<<<<<<< Updated upstream
   "id": "2617e75e",
   "metadata": {},
   "outputs": [
    {
     "data": {
      "text/plain": [
       "array(['B000K2PJ4K', 'B000YFSR4W', 'B000YFSR5G', 'B0012DR1LU',\n",
       "       'B0014F7B98', 'B0014F8TIU', 'B0017LD0BM', 'B0017LGD34',\n",
       "       'B001IKJOLW', 'B001LNSY2Q', 'B003M6060S', 'B0058YEJ5K',\n",
       "       'B005AGO4LU', 'B0092UF54A', 'B009MA34NY', 'B00G8Q7JZ4',\n",
       "       'B00GKF5BAS', 'B00I0VHS10', 'B00LKWYX2I', 'B00MLYE8PQ',\n",
       "       'B00ND9047Y', 'B00RLSCLJM', 'B00ZUA6AJK', 'B010RRWKT4',\n",
       "       'B014IBJKNO', 'B01595OS62', 'B016XAJLVO', 'B01H7KY678'],\n",
       "      dtype=object)"
      ]
     },
     "execution_count": 10,
     "metadata": {},
     "output_type": "execute_result"
    }
   ],
   "source": [
    "itemIDs = dataset['itemID'].unique()\n",
    "itemIDs_A3HX4X3TIABWOV = dataset.loc[dataset['userID'] == 'A3HX4X3TIABWOV', 'itemID']\n",
    "itemIDs_to_pred = np.setdiff1d(itemIDs, itemIDs_A3HX4X3TIABWOV)\n",
    "itemIDs_to_pred"
   ]
  },
  {
   "cell_type": "code",
   "execution_count": 11,
   "id": "c6a94a6e",
=======
   "id": "66fd787a",
>>>>>>> Stashed changes
   "metadata": {},
   "outputs": [],
   "source": [
    "def data_loading_pipeline(fp, sparsity_percentage=None, with_writing=False):\n",
    "    \"\"\"\n",
    "    fp: str = Filepointer to desired user-item-ratings json.\n",
    "    sparsity_percentage: float = value between 0-1.\n",
    "    \"\"\"\n",
    "    df = load_dataset(fp)\n",
    "    #df = filter_on_minimal_ratings(df)\n",
    "    df = filter_to_sparsity(df, sparsity_percentage)\n",
    "    data = build_data(df)\n",
    "    \n",
    "    return data"
   ]
  },
  {
   "cell_type": "markdown",
   "id": "0bb83feb",
   "metadata": {},
<<<<<<< Updated upstream
   "outputs": [
    {
     "name": "stdout",
     "output_type": "stream",
     "text": [
      "Top item for user A3HX4X3TIABWOV has iid B005AGO4LU with predicted rating 4.269615495988389\n"
     ]
    }
   ],
=======
>>>>>>> Stashed changes
   "source": [
    "### Precision and recall"
   ]
  },
  {
   "cell_type": "code",
   "execution_count": 11,
   "id": "f4e52654",
   "metadata": {},
   "outputs": [],
   "source": [
    "def precision_recall_at_k(predictions, k=10, threshold=3.5):\n",
    "    \"\"\"Return precision and recall at k metrics for each user\"\"\"\n",
    "\n",
    "    # First map the predictions to each user.\n",
    "    user_est_true = defaultdict(list)\n",
    "    for uid, _, true_r, est, _ in predictions:\n",
    "        user_est_true[uid].append((est, true_r))\n",
    "\n",
    "    precisions = dict()\n",
    "    recalls = dict()\n",
    "    for uid, user_ratings in user_est_true.items():\n",
    "\n",
    "        # Sort user ratings by estimated value\n",
    "        user_ratings.sort(key=lambda x: x[0], reverse=True)\n",
    "\n",
    "        # Number of relevant items\n",
    "        n_rel = sum((true_r >= threshold) for (_, true_r) in user_ratings)\n",
    "\n",
    "        # Number of recommended items in top k\n",
    "        n_rec_k = sum((est >= threshold) for (est, _) in user_ratings[:k])\n",
    "\n",
    "        # Number of relevant and recommended items in top k\n",
    "        n_rel_and_rec_k = sum(((true_r >= threshold) and (est >= threshold))\n",
    "                              for (est, true_r) in user_ratings[:k])\n",
    "\n",
    "        # Precision@K: Proportion of recommended items that are relevant\n",
    "        # When n_rec_k is 0, Precision is undefined. We here set it to 0.\n",
    "\n",
    "        precisions[uid] = n_rel_and_rec_k / n_rec_k if n_rec_k != 0 else 0\n",
    "\n",
    "        # Recall@K: Proportion of relevant items that are recommended\n",
    "        # When n_rel is 0, Recall is undefined. We here set it to 0.\n",
    "\n",
    "        recalls[uid] = n_rel_and_rec_k / n_rel if n_rel != 0 else 0\n",
    "\n",
    "    return precisions, recalls"
   ]
  },
  {
   "cell_type": "code",
<<<<<<< Updated upstream
   "execution_count": 13,
   "id": "a059601f",
   "metadata": {},
   "outputs": [],
   "source": [
    "dataset = pd.DataFrame()\n",
    "dataset[[\"userID\", \"itemID\", \"rating\"]] = df[[\"reviewerID\",\"asin\",\"overall\"]]"
=======
   "execution_count": 15,
   "id": "458d5ca0",
   "metadata": {},
   "outputs": [],
   "source": [
    "def DCG(query_relevancy_labels, k):\n",
    "    # Use log with base 2\n",
    "    value=min(k,len(query_relevancy_labels))\n",
    "    sum1=0\n",
    "    for i in range(value):\n",
    "      sum1=sum1+((query_relevancy_labels[i])/(np.log2(2+i)))\n",
    "\n",
    "    return sum1\n",
    "\n",
    "def NDCG(query_relevancy_labels, k):\n",
    "    sorted_list= np.sort(query_relevancy_labels)[::-1]\n",
    "    dcg1 = DCG(query_relevancy_labels, k)\n",
    "    dcg2 = DCG(sorted_list, k)\n",
    "    if dcg2 == 0:\n",
    "      return 0\n",
    "    else:\n",
    "      return dcg1/dcg2"
>>>>>>> Stashed changes
   ]
  },
  {
   "cell_type": "code",
<<<<<<< Updated upstream
   "execution_count": 14,
   "id": "dbfcdb4a",
   "metadata": {},
   "outputs": [],
   "source": [
    "reader = surprise.Reader(rating_scale=(3,5))\n",
    "data = Dataset.load_from_df(dataset, reader)\n",
    "raw_ratings = data.raw_ratings\n",
    "random.shuffle(raw_ratings)"
   ]
  },
  {
   "cell_type": "code",
   "execution_count": 15,
   "id": "e3ef78ff",
=======
   "execution_count": 12,
   "id": "85eb39aa",
   "metadata": {},
   "outputs": [],
   "source": [
    "def ndcg_at_k(predictions, k=10, threshold=3.5):\n",
    "    \"\"\"Return precision and recall at k metrics for each user\"\"\"\n",
    "\n",
    "    # First map the predictions to each user.\n",
    "    user_est_true = defaultdict(list)\n",
    "    for uid, _, true_r, est, _ in predictions:\n",
    "        user_est_true[uid].append((est, true_r))\n",
    "\n",
    "    dcg = dict()\n",
    "    ndcg = dict()\n",
    "    for uid, user_ratings in user_est_true.items():\n",
    "        rel=[]\n",
    "\n",
    "        # Sort user ratings by estimated value\n",
    "        user_ratings.sort(key=lambda x: x[0], reverse=True)\n",
    "\n",
    "        # Number of relevant items\n",
    "        n_rel = sum((true_r >= threshold) for (_, true_r) in user_ratings)\n",
    "\n",
    "        for _, true_r in user_ratings:\n",
    "          if true_r>=threshold:\n",
    "            rel.append(true_r)\n",
    "\n",
    "        # Number of recommended items in top k\n",
    "        n_rec_k = sum((est >= threshold) for (est, _) in user_ratings[:k])\n",
    "\n",
    "        # Number of relevant and recommended items in top k\n",
    "        n_rel_and_rec_k = sum(((true_r >= threshold) and (est >= threshold))\n",
    "                              for (est, true_r) in user_ratings[:k])\n",
    "\n",
    "        # Precision@K: Proportion of recommended items that are relevant\n",
    "        # When n_rec_k is 0, Precision is undefined. We here set it to 0.\n",
    "        #print(rel)\n",
    "\n",
    "        ndcg[uid] = NDCG(rel, k)\n",
    "\n",
    "        # Recall@K: Proportion of relevant items that are recommended\n",
    "        # When n_rel is 0, Recall is undefined. We here set it to 0.\n",
    "\n",
    "        #recalls[uid] = n_rel_and_rec_k / n_rel if n_rel != 0 else 0\n",
    "\n",
    "    return ndcg"
   ]
  },
  {
   "cell_type": "markdown",
   "id": "9318d511",
>>>>>>> Stashed changes
   "metadata": {},
   "source": [
    "### Experiment"
   ]
  },
  {
   "cell_type": "code",
<<<<<<< Updated upstream
   "execution_count": 16,
   "id": "096c0678",
=======
   "execution_count": 35,
   "id": "bddd4757",
>>>>>>> Stashed changes
   "metadata": {},
   "outputs": [],
   "source": [
    "results = {}\n",
    "spt = [0.75, 0.8 , 0.85, 0.9 , 0.95]"
   ]
  },
  {
   "cell_type": "code",
<<<<<<< Updated upstream
   "execution_count": 17,
   "id": "5caa7a12",
=======
   "execution_count": 40,
   "id": "c37fb18f",
>>>>>>> Stashed changes
   "metadata": {},
   "outputs": [
    {
     "name": "stdout",
     "output_type": "stream",
     "text": [
<<<<<<< Updated upstream
      "0.4511813901918623\n",
      "{'n_epochs': 50, 'lr_all': 0.05, 'reg_all': 0.1}\n"
=======
      "To obtain a sparsity of 75.0% we need to drop 391 ratings\n",
      "Biased accuracy on A,  RMSE: 0.0824\n",
      "Unbiased accuracy on B, RMSE: 0.1346\n",
      "To obtain a sparsity of 80.0% we need to drop 914 ratings\n",
      "Biased accuracy on A,  RMSE: 0.0800\n",
      "Unbiased accuracy on B, RMSE: 0.1513\n",
      "To obtain a sparsity of 85.0% we need to drop 1438 ratings\n",
      "Biased accuracy on A,  RMSE: 0.0840\n",
      "Unbiased accuracy on B, RMSE: 0.0948\n",
      "To obtain a sparsity of 90.0% we need to drop 1962 ratings\n",
      "Biased accuracy on A,  RMSE: 0.0842\n",
      "Unbiased accuracy on B, RMSE: 0.1974\n",
      "To obtain a sparsity of 95.0% we need to drop 2486 ratings\n",
      "Biased accuracy on A,  RMSE: 0.0843\n",
      "Unbiased accuracy on B, RMSE: 0.2232\n",
      "{0.75: [0.8205980066445183, 0.8145071982281286, 0.8272425249169435], 0.8: [0.8327402135231317, 0.8297746144721234, 0.8434163701067615], 0.85: [0.8442622950819673, 0.8442622950819673, 0.8524590163934426], 0.9: [0.8371040723981901, 0.832579185520362, 0.8597285067873304], 0.95: [0.8137254901960784, 0.8075980392156863, 0.8235294117647058]}\n"
>>>>>>> Stashed changes
     ]
    }
   ],
   "source": [
    "for spar in spt:\n",
    "    data = data_loading_pipeline(\"../data/AMAZON_FASHION_5.71.268.json\",round(spar,2))\n",
    "\n",
<<<<<<< Updated upstream
    "print(gs.best_score['rmse'])\n",
    "print(gs.best_params['rmse'])"
   ]
  },
  {
   "cell_type": "code",
   "execution_count": 22,
   "id": "abed8b10",
   "metadata": {},
   "outputs": [
    {
     "data": {
      "text/plain": [
       "<surprise.prediction_algorithms.matrix_factorization.SVD at 0x1ec2d7a97c8>"
      ]
     },
     "execution_count": 22,
     "metadata": {},
     "output_type": "execute_result"
    }
   ],
   "source": [
    "svd = gs.best_estimator['rmse']\n",
    "trainset = data.build_full_trainset()\n",
    "svd.fit(trainset)"
=======
    "    raw_ratings = data.raw_ratings\n",
    "    random.shuffle(raw_ratings)\n",
    "    #A = 80%, B=20%\n",
    "    threshold = int(.8 * len(raw_ratings))\n",
    "    A_raw_ratings = raw_ratings[:threshold]\n",
    "    B_raw_ratings = raw_ratings[threshold:]\n",
    "    data.raw_ratings = A_raw_ratings\n",
    "\n",
    "    param_grid = {'n_epochs': [20,30,40,50], 'lr_all': [0.005,0.05],\n",
    "                  'reg_all': [0.1, 0.4]}\n",
    "    gs = GridSearchCV(SVD, param_grid, measures=['rmse'], cv=5)\n",
    "    gs.fit(data)\n",
    "\n",
    "    svd = gs.best_estimator['rmse']\n",
    "    trainset = data.build_full_trainset()\n",
    "    svd.fit(trainset)\n",
    "\n",
    "    predictions = svd.test(trainset.build_testset())\n",
    "    print('Biased accuracy on A,', end= '  ')\n",
    "    accuracy.rmse(predictions)\n",
    "\n",
    "    testset = data.construct_testset(B_raw_ratings)\n",
    "    predictions = svd.test(testset)\n",
    "    print('Unbiased accuracy on B,', end= ' ')\n",
    "    accuracy.rmse(predictions)\n",
    "\n",
    "    precisions, recalls = precision_recall_at_k(predictions, k=100, threshold=4)\n",
    "    ndcg_val = ndcg_at_k(predictions, k=100, threshold=4)\n",
    "    precisionk=(sum(prec for prec in precisions.values()) / len(precisions))\n",
    "    recallk=(sum(rec for rec in recalls.values()) / len(recalls))\n",
    "    ndcgk=(sum(nd for nd in ndcg_val.values()) / len(ndcg_val))\n",
    "    results[round(spar,2)]= [precisionk , recallk, ndcgk]\n",
    "print(results)"
>>>>>>> Stashed changes
   ]
  },
  {
   "cell_type": "code",
<<<<<<< Updated upstream
   "execution_count": 19,
   "id": "69c1d3a8",
=======
   "execution_count": 44,
   "id": "52107312",
>>>>>>> Stashed changes
   "metadata": {},
   "outputs": [
    {
     "name": "stdout",
     "output_type": "stream",
     "text": [
<<<<<<< Updated upstream
      "Biased accuracy on A,  RMSE: 0.4231\n",
      "Unbiased accuracy on B, RMSE: 0.4486\n"
     ]
    },
    {
     "data": {
      "text/plain": [
       "0.44858386126275074"
      ]
     },
     "execution_count": 19,
     "metadata": {},
     "output_type": "execute_result"
=======
      "[0.8205980066445183, 0.8327402135231317, 0.8442622950819673, 0.8371040723981901, 0.8137254901960784] [0.8145071982281286, 0.8297746144721234, 0.8442622950819673, 0.832579185520362, 0.8075980392156863] [0.8272425249169435, 0.8434163701067615, 0.8524590163934426, 0.8597285067873304, 0.8235294117647058]\n"
     ]
>>>>>>> Stashed changes
    }
   ],
   "source": [
    "r_pres = []\n",
    "r_rec = []\n",
    "r_ndcg = []\n",
    "for i in results:\n",
    "    r_pres.append(results[i][0])\n",
    "    r_rec.append(results[i][1])\n",
    "    r_ndcg.append(results[i][2])\n",
    "print(r_pres, r_rec, r_ndcg)"
   ]
  },
  {
   "cell_type": "code",
<<<<<<< Updated upstream
   "execution_count": 23,
   "id": "f4e52654",
=======
   "execution_count": 51,
   "id": "d6f57e1e",
>>>>>>> Stashed changes
   "metadata": {},
   "outputs": [
    {
     "data": {
      "image/png": "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\n",
      "text/plain": [
       "<Figure size 432x288 with 1 Axes>"
      ]
     },
<<<<<<< Updated upstream
     "execution_count": 23,
=======
>>>>>>> Stashed changes
     "metadata": {},
     "output_type": "display_data"
    }
   ],
   "source": [
    "sns.set(style='whitegrid')\n",
    "\n",
    "plt.plot(spt,r_pres,label=\"precision@10\", marker = \"o\")\n",
    "plt.plot(spt,r_rec,label=\"recall@10\", marker = \"o\")\n",
    "plt.plot(spt,r_ndcg,label=\"ndcg@10\", marker = \"o\")\n",
    "\n",
<<<<<<< Updated upstream
    "    # Precision and recall can then be averaged over all users\n",
    "    print(sum(prec for prec in precisions.values()) / len(precisions))\n",
    "    print(sum(rec for rec in recalls.values()) / len(recalls))\n",
    "    \"\"\""
   ]
  },
  {
   "cell_type": "code",
   "execution_count": 24,
   "id": "5487e287",
   "metadata": {},
   "outputs": [
    {
     "ename": "NameError",
     "evalue": "name 'defaultdict' is not defined",
     "output_type": "error",
     "traceback": [
      "\u001b[1;31m---------------------------------------------------------------------------\u001b[0m",
      "\u001b[1;31mNameError\u001b[0m                                 Traceback (most recent call last)",
      "\u001b[1;32m~\\AppData\\Local\\Temp/ipykernel_3412/2566993992.py\u001b[0m in \u001b[0;36m<module>\u001b[1;34m\u001b[0m\n\u001b[1;32m----> 1\u001b[1;33m \u001b[0mprecision_recall_at_k\u001b[0m\u001b[1;33m(\u001b[0m\u001b[0mpredictions\u001b[0m\u001b[1;33m)\u001b[0m\u001b[1;33m\u001b[0m\u001b[1;33m\u001b[0m\u001b[0m\n\u001b[0m",
      "\u001b[1;32m~\\AppData\\Local\\Temp/ipykernel_3412/1979179823.py\u001b[0m in \u001b[0;36mprecision_recall_at_k\u001b[1;34m(predictions, k, threshold)\u001b[0m\n\u001b[0;32m      3\u001b[0m \u001b[1;33m\u001b[0m\u001b[0m\n\u001b[0;32m      4\u001b[0m     \u001b[1;31m# First map the predictions to each user.\u001b[0m\u001b[1;33m\u001b[0m\u001b[1;33m\u001b[0m\u001b[1;33m\u001b[0m\u001b[0m\n\u001b[1;32m----> 5\u001b[1;33m     \u001b[0muser_est_true\u001b[0m \u001b[1;33m=\u001b[0m \u001b[0mdefaultdict\u001b[0m\u001b[1;33m(\u001b[0m\u001b[0mlist\u001b[0m\u001b[1;33m)\u001b[0m\u001b[1;33m\u001b[0m\u001b[1;33m\u001b[0m\u001b[0m\n\u001b[0m\u001b[0;32m      6\u001b[0m     \u001b[1;32mfor\u001b[0m \u001b[0muid\u001b[0m\u001b[1;33m,\u001b[0m \u001b[0m_\u001b[0m\u001b[1;33m,\u001b[0m \u001b[0mtrue_r\u001b[0m\u001b[1;33m,\u001b[0m \u001b[0mest\u001b[0m\u001b[1;33m,\u001b[0m \u001b[0m_\u001b[0m \u001b[1;32min\u001b[0m \u001b[0mpredictions\u001b[0m\u001b[1;33m:\u001b[0m\u001b[1;33m\u001b[0m\u001b[1;33m\u001b[0m\u001b[0m\n\u001b[0;32m      7\u001b[0m         \u001b[0muser_est_true\u001b[0m\u001b[1;33m[\u001b[0m\u001b[0muid\u001b[0m\u001b[1;33m]\u001b[0m\u001b[1;33m.\u001b[0m\u001b[0mappend\u001b[0m\u001b[1;33m(\u001b[0m\u001b[1;33m(\u001b[0m\u001b[0mest\u001b[0m\u001b[1;33m,\u001b[0m \u001b[0mtrue_r\u001b[0m\u001b[1;33m)\u001b[0m\u001b[1;33m)\u001b[0m\u001b[1;33m\u001b[0m\u001b[1;33m\u001b[0m\u001b[0m\n",
      "\u001b[1;31mNameError\u001b[0m: name 'defaultdict' is not defined"
     ]
    }
   ],
   "source": [
    "precision_recall_at_k(predictions)"
=======
    "plt.title(\"Metrics as function of Sparsity for SVD\")\n",
    "plt.xlabel(\"Sparsity %\")\n",
    "plt.legend()\n",
    "plt.savefig(\"../metrics_over_sparsity.png\")\n",
    "plt.show()"
>>>>>>> Stashed changes
   ]
  },
  {
   "cell_type": "code",
   "execution_count": null,
   "id": "a65538b6",
   "metadata": {},
   "outputs": [],
   "source": []
  }
 ],
 "metadata": {
  "kernelspec": {
   "display_name": "Python 3 (ipykernel)",
   "language": "python",
   "name": "python3"
  },
  "language_info": {
   "codemirror_mode": {
    "name": "ipython",
    "version": 3
   },
   "file_extension": ".py",
   "mimetype": "text/x-python",
   "name": "python",
   "nbconvert_exporter": "python",
   "pygments_lexer": "ipython3",
   "version": "3.7.11"
  }
 },
 "nbformat": 4,
 "nbformat_minor": 5
}
