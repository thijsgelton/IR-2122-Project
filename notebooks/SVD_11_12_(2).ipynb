{
  "cells": [
    {
      "cell_type": "markdown",
      "id": "01fc4644",
      "metadata": {
        "id": "01fc4644"
      },
      "source": [
        "# SVD implementation"
      ]
    },
    {
      "cell_type": "code",
      "execution_count": 1,
      "id": "638495e8",
      "metadata": {
        "colab": {
          "base_uri": "https://localhost:8080/"
        },
        "id": "638495e8",
        "outputId": "b0c1f1a5-1c66-4944-ce4d-8a21f6109478"
      },
      "outputs": [
        {
          "output_type": "stream",
          "name": "stdout",
          "text": [
            "Requirement already satisfied: surprise in /usr/local/lib/python3.7/dist-packages (0.1)\n",
            "Requirement already satisfied: scikit-surprise in /usr/local/lib/python3.7/dist-packages (from surprise) (1.1.1)\n",
            "Requirement already satisfied: joblib>=0.11 in /usr/local/lib/python3.7/dist-packages (from scikit-surprise->surprise) (1.1.0)\n",
            "Requirement already satisfied: scipy>=1.0.0 in /usr/local/lib/python3.7/dist-packages (from scikit-surprise->surprise) (1.4.1)\n",
            "Requirement already satisfied: six>=1.10.0 in /usr/local/lib/python3.7/dist-packages (from scikit-surprise->surprise) (1.15.0)\n",
            "Requirement already satisfied: numpy>=1.11.2 in /usr/local/lib/python3.7/dist-packages (from scikit-surprise->surprise) (1.21.4)\n",
            "Requirement already satisfied: numpy in /usr/local/lib/python3.7/dist-packages (1.21.4)\n",
            "Requirement already satisfied: recommenders[examples] in /usr/local/lib/python3.7/dist-packages (0.7.0)\n",
            "Requirement already satisfied: scikit-surprise<=1.1.1,>=0.19.1 in /usr/local/lib/python3.7/dist-packages (from recommenders[examples]) (1.1.1)\n",
            "Requirement already satisfied: retrying>=1.3.3 in /usr/local/lib/python3.7/dist-packages (from recommenders[examples]) (1.3.3)\n",
            "Requirement already satisfied: pymanopt<1,>=0.2.5 in /usr/local/lib/python3.7/dist-packages (from recommenders[examples]) (0.2.5)\n",
            "Requirement already satisfied: seaborn<1,>=0.8.1 in /usr/local/lib/python3.7/dist-packages (from recommenders[examples]) (0.11.2)\n",
            "Requirement already satisfied: nltk<4,>=3.4 in /usr/local/lib/python3.7/dist-packages (from recommenders[examples]) (3.6.5)\n",
            "Requirement already satisfied: requests<3,>=2.0.0 in /usr/local/lib/python3.7/dist-packages (from recommenders[examples]) (2.23.0)\n",
            "Requirement already satisfied: transformers<5,>=2.5.0 in /usr/local/lib/python3.7/dist-packages (from recommenders[examples]) (4.13.0)\n",
            "Requirement already satisfied: lightfm<2,>=1.15 in /usr/local/lib/python3.7/dist-packages (from recommenders[examples]) (1.16)\n",
            "Requirement already satisfied: pyyaml<6,>=5.4.1 in /usr/local/lib/python3.7/dist-packages (from recommenders[examples]) (5.4.1)\n",
            "Requirement already satisfied: scikit-learn<1,>=0.22.1 in /usr/local/lib/python3.7/dist-packages (from recommenders[examples]) (0.24.2)\n",
            "Requirement already satisfied: numpy>=1.14 in /usr/local/lib/python3.7/dist-packages (from recommenders[examples]) (1.21.4)\n",
            "Requirement already satisfied: lightgbm>=2.2.1 in /usr/local/lib/python3.7/dist-packages (from recommenders[examples]) (2.2.3)\n",
            "Requirement already satisfied: tqdm<5,>=4.31.1 in /usr/local/lib/python3.7/dist-packages (from recommenders[examples]) (4.62.3)\n",
            "Requirement already satisfied: jinja2<3,>=2 in /usr/local/lib/python3.7/dist-packages (from recommenders[examples]) (2.11.3)\n",
            "Requirement already satisfied: pandas<2,>1.0.3 in /usr/local/lib/python3.7/dist-packages (from recommenders[examples]) (1.1.5)\n",
            "Requirement already satisfied: numba<1,>=0.38.1 in /usr/local/lib/python3.7/dist-packages (from recommenders[examples]) (0.51.2)\n",
            "Requirement already satisfied: bottleneck<2,>=1.2.1 in /usr/local/lib/python3.7/dist-packages (from recommenders[examples]) (1.3.2)\n",
            "Requirement already satisfied: scipy<2,>=1.0.0 in /usr/local/lib/python3.7/dist-packages (from recommenders[examples]) (1.4.1)\n",
            "Requirement already satisfied: memory-profiler<1,>=0.54.0 in /usr/local/lib/python3.7/dist-packages (from recommenders[examples]) (0.59.0)\n",
            "Requirement already satisfied: pydocumentdb>=2.3.3<3 in /usr/local/lib/python3.7/dist-packages (from recommenders[examples]) (2.3.5)\n",
            "Requirement already satisfied: cornac<2,>=1.1.2 in /usr/local/lib/python3.7/dist-packages (from recommenders[examples]) (1.14.1)\n",
            "Requirement already satisfied: matplotlib<4,>=2.2.2 in /usr/local/lib/python3.7/dist-packages (from recommenders[examples]) (3.2.2)\n",
            "Requirement already satisfied: category-encoders<2,>=1.3.0 in /usr/local/lib/python3.7/dist-packages (from recommenders[examples]) (1.3.0)\n",
            "Requirement already satisfied: azure.mgmt.cosmosdb<1,>=0.8.0 in /usr/local/lib/python3.7/dist-packages (from recommenders[examples]) (0.16.0)\n",
            "Requirement already satisfied: hyperopt<1,>=0.1.2 in /usr/local/lib/python3.7/dist-packages (from recommenders[examples]) (0.1.2)\n",
            "Requirement already satisfied: locust<2,>=1 in /usr/local/lib/python3.7/dist-packages (from recommenders[examples]) (1.6.0)\n",
            "Requirement already satisfied: papermill<3,>=2.1.2 in /usr/local/lib/python3.7/dist-packages (from recommenders[examples]) (2.3.3)\n",
            "Requirement already satisfied: scrapbook<1.0.0,>=0.5.0 in /usr/local/lib/python3.7/dist-packages (from recommenders[examples]) (0.5.0)\n",
            "Requirement already satisfied: ipykernel<5,>=4.6.1 in /usr/local/lib/python3.7/dist-packages (from recommenders[examples]) (4.10.1)\n",
            "Requirement already satisfied: jupyter<2,>=1 in /usr/local/lib/python3.7/dist-packages (from recommenders[examples]) (1.0.0)\n",
            "Requirement already satisfied: msrest>=0.5.0 in /usr/local/lib/python3.7/dist-packages (from azure.mgmt.cosmosdb<1,>=0.8.0->recommenders[examples]) (0.6.21)\n",
            "Requirement already satisfied: azure-common~=1.1 in /usr/local/lib/python3.7/dist-packages (from azure.mgmt.cosmosdb<1,>=0.8.0->recommenders[examples]) (1.1.27)\n",
            "Requirement already satisfied: msrestazure<2.0.0,>=0.4.32 in /usr/local/lib/python3.7/dist-packages (from azure.mgmt.cosmosdb<1,>=0.8.0->recommenders[examples]) (0.6.4)\n",
            "Requirement already satisfied: patsy>=0.4.1 in /usr/local/lib/python3.7/dist-packages (from category-encoders<2,>=1.3.0->recommenders[examples]) (0.5.2)\n",
            "Requirement already satisfied: statsmodels>=0.6.1 in /usr/local/lib/python3.7/dist-packages (from category-encoders<2,>=1.3.0->recommenders[examples]) (0.10.2)\n",
            "Requirement already satisfied: powerlaw in /usr/local/lib/python3.7/dist-packages (from cornac<2,>=1.1.2->recommenders[examples]) (1.5)\n",
            "Requirement already satisfied: future in /usr/local/lib/python3.7/dist-packages (from hyperopt<1,>=0.1.2->recommenders[examples]) (0.16.0)\n",
            "Requirement already satisfied: networkx in /usr/local/lib/python3.7/dist-packages (from hyperopt<1,>=0.1.2->recommenders[examples]) (2.6.3)\n",
            "Requirement already satisfied: pymongo in /usr/local/lib/python3.7/dist-packages (from hyperopt<1,>=0.1.2->recommenders[examples]) (3.12.1)\n",
            "Requirement already satisfied: six in /usr/local/lib/python3.7/dist-packages (from hyperopt<1,>=0.1.2->recommenders[examples]) (1.15.0)\n",
            "Requirement already satisfied: tornado>=4.0 in /usr/local/lib/python3.7/dist-packages (from ipykernel<5,>=4.6.1->recommenders[examples]) (5.1.1)\n",
            "Requirement already satisfied: ipython>=4.0.0 in /usr/local/lib/python3.7/dist-packages (from ipykernel<5,>=4.6.1->recommenders[examples]) (5.5.0)\n",
            "Requirement already satisfied: jupyter-client in /usr/local/lib/python3.7/dist-packages (from ipykernel<5,>=4.6.1->recommenders[examples]) (7.1.0)\n",
            "Requirement already satisfied: traitlets>=4.1.0 in /usr/local/lib/python3.7/dist-packages (from ipykernel<5,>=4.6.1->recommenders[examples]) (5.1.1)\n",
            "Requirement already satisfied: pexpect in /usr/local/lib/python3.7/dist-packages (from ipython>=4.0.0->ipykernel<5,>=4.6.1->recommenders[examples]) (4.8.0)\n",
            "Requirement already satisfied: pickleshare in /usr/local/lib/python3.7/dist-packages (from ipython>=4.0.0->ipykernel<5,>=4.6.1->recommenders[examples]) (0.7.5)\n",
            "Requirement already satisfied: prompt-toolkit<2.0.0,>=1.0.4 in /usr/local/lib/python3.7/dist-packages (from ipython>=4.0.0->ipykernel<5,>=4.6.1->recommenders[examples]) (1.0.18)\n",
            "Requirement already satisfied: pygments in /usr/local/lib/python3.7/dist-packages (from ipython>=4.0.0->ipykernel<5,>=4.6.1->recommenders[examples]) (2.6.1)\n",
            "Requirement already satisfied: setuptools>=18.5 in /usr/local/lib/python3.7/dist-packages (from ipython>=4.0.0->ipykernel<5,>=4.6.1->recommenders[examples]) (57.4.0)\n",
            "Requirement already satisfied: simplegeneric>0.8 in /usr/local/lib/python3.7/dist-packages (from ipython>=4.0.0->ipykernel<5,>=4.6.1->recommenders[examples]) (0.8.1)\n",
            "Requirement already satisfied: decorator in /usr/local/lib/python3.7/dist-packages (from ipython>=4.0.0->ipykernel<5,>=4.6.1->recommenders[examples]) (4.4.2)\n",
            "Requirement already satisfied: MarkupSafe>=0.23 in /usr/local/lib/python3.7/dist-packages (from jinja2<3,>=2->recommenders[examples]) (2.0.1)\n",
            "Requirement already satisfied: qtconsole in /usr/local/lib/python3.7/dist-packages (from jupyter<2,>=1->recommenders[examples]) (5.2.1)\n",
            "Requirement already satisfied: jupyter-console in /usr/local/lib/python3.7/dist-packages (from jupyter<2,>=1->recommenders[examples]) (5.2.0)\n",
            "Requirement already satisfied: ipywidgets in /usr/local/lib/python3.7/dist-packages (from jupyter<2,>=1->recommenders[examples]) (7.6.5)\n",
            "Requirement already satisfied: notebook in /usr/local/lib/python3.7/dist-packages (from jupyter<2,>=1->recommenders[examples]) (5.3.1)\n",
            "Requirement already satisfied: nbconvert in /usr/local/lib/python3.7/dist-packages (from jupyter<2,>=1->recommenders[examples]) (5.6.1)\n",
            "Requirement already satisfied: pyzmq>=16.0.2 in /usr/local/lib/python3.7/dist-packages (from locust<2,>=1->recommenders[examples]) (22.3.0)\n",
            "Requirement already satisfied: Werkzeug>=1.0.1 in /usr/local/lib/python3.7/dist-packages (from locust<2,>=1->recommenders[examples]) (1.0.1)\n",
            "Requirement already satisfied: Flask-Cors>=3.0.10 in /usr/local/lib/python3.7/dist-packages (from locust<2,>=1->recommenders[examples]) (3.0.10)\n",
            "Requirement already satisfied: msgpack>=0.6.2 in /usr/local/lib/python3.7/dist-packages (from locust<2,>=1->recommenders[examples]) (1.0.3)\n",
            "Requirement already satisfied: psutil>=5.6.7 in /usr/local/lib/python3.7/dist-packages (from locust<2,>=1->recommenders[examples]) (5.8.0)\n",
            "Requirement already satisfied: Flask-BasicAuth>=0.2.0 in /usr/local/lib/python3.7/dist-packages (from locust<2,>=1->recommenders[examples]) (0.2.0)\n",
            "Requirement already satisfied: ConfigArgParse>=1.0 in /usr/local/lib/python3.7/dist-packages (from locust<2,>=1->recommenders[examples]) (1.5.3)\n",
            "Requirement already satisfied: gevent>=20.9.0 in /usr/local/lib/python3.7/dist-packages (from locust<2,>=1->recommenders[examples]) (21.12.0)\n",
            "Requirement already satisfied: flask==1.1.2 in /usr/local/lib/python3.7/dist-packages (from locust<2,>=1->recommenders[examples]) (1.1.2)\n",
            "Requirement already satisfied: geventhttpclient>=1.4.4 in /usr/local/lib/python3.7/dist-packages (from locust<2,>=1->recommenders[examples]) (1.5.3)\n",
            "Requirement already satisfied: click>=5.1 in /usr/local/lib/python3.7/dist-packages (from flask==1.1.2->locust<2,>=1->recommenders[examples]) (7.1.2)\n",
            "Requirement already satisfied: itsdangerous>=0.24 in /usr/local/lib/python3.7/dist-packages (from flask==1.1.2->locust<2,>=1->recommenders[examples]) (1.1.0)\n",
            "Requirement already satisfied: zope.interface in /usr/local/lib/python3.7/dist-packages (from gevent>=20.9.0->locust<2,>=1->recommenders[examples]) (5.4.0)\n",
            "Requirement already satisfied: zope.event in /usr/local/lib/python3.7/dist-packages (from gevent>=20.9.0->locust<2,>=1->recommenders[examples]) (4.5.0)\n",
            "Requirement already satisfied: greenlet<2.0,>=1.1.0 in /usr/local/lib/python3.7/dist-packages (from gevent>=20.9.0->locust<2,>=1->recommenders[examples]) (1.1.2)\n",
            "Requirement already satisfied: brotli in /usr/local/lib/python3.7/dist-packages (from geventhttpclient>=1.4.4->locust<2,>=1->recommenders[examples]) (1.0.9)\n",
            "Requirement already satisfied: certifi in /usr/local/lib/python3.7/dist-packages (from geventhttpclient>=1.4.4->locust<2,>=1->recommenders[examples]) (2021.10.8)\n",
            "Requirement already satisfied: python-dateutil>=2.1 in /usr/local/lib/python3.7/dist-packages (from matplotlib<4,>=2.2.2->recommenders[examples]) (2.8.2)\n",
            "Requirement already satisfied: pyparsing!=2.0.4,!=2.1.2,!=2.1.6,>=2.0.1 in /usr/local/lib/python3.7/dist-packages (from matplotlib<4,>=2.2.2->recommenders[examples]) (3.0.6)\n",
            "Requirement already satisfied: cycler>=0.10 in /usr/local/lib/python3.7/dist-packages (from matplotlib<4,>=2.2.2->recommenders[examples]) (0.11.0)\n",
            "Requirement already satisfied: kiwisolver>=1.0.1 in /usr/local/lib/python3.7/dist-packages (from matplotlib<4,>=2.2.2->recommenders[examples]) (1.3.2)\n",
            "Requirement already satisfied: isodate>=0.6.0 in /usr/local/lib/python3.7/dist-packages (from msrest>=0.5.0->azure.mgmt.cosmosdb<1,>=0.8.0->recommenders[examples]) (0.6.1)\n",
            "Requirement already satisfied: requests-oauthlib>=0.5.0 in /usr/local/lib/python3.7/dist-packages (from msrest>=0.5.0->azure.mgmt.cosmosdb<1,>=0.8.0->recommenders[examples]) (1.3.0)\n",
            "Requirement already satisfied: adal<2.0.0,>=0.6.0 in /usr/local/lib/python3.7/dist-packages (from msrestazure<2.0.0,>=0.4.32->azure.mgmt.cosmosdb<1,>=0.8.0->recommenders[examples]) (1.2.7)\n",
            "Requirement already satisfied: PyJWT<3,>=1.0.0 in /usr/local/lib/python3.7/dist-packages (from adal<2.0.0,>=0.6.0->msrestazure<2.0.0,>=0.4.32->azure.mgmt.cosmosdb<1,>=0.8.0->recommenders[examples]) (2.3.0)\n",
            "Requirement already satisfied: cryptography>=1.1.0 in /usr/local/lib/python3.7/dist-packages (from adal<2.0.0,>=0.6.0->msrestazure<2.0.0,>=0.4.32->azure.mgmt.cosmosdb<1,>=0.8.0->recommenders[examples]) (36.0.0)\n",
            "Requirement already satisfied: cffi>=1.12 in /usr/local/lib/python3.7/dist-packages (from cryptography>=1.1.0->adal<2.0.0,>=0.6.0->msrestazure<2.0.0,>=0.4.32->azure.mgmt.cosmosdb<1,>=0.8.0->recommenders[examples]) (1.15.0)\n",
            "Requirement already satisfied: pycparser in /usr/local/lib/python3.7/dist-packages (from cffi>=1.12->cryptography>=1.1.0->adal<2.0.0,>=0.6.0->msrestazure<2.0.0,>=0.4.32->azure.mgmt.cosmosdb<1,>=0.8.0->recommenders[examples]) (2.21)\n",
            "Requirement already satisfied: regex>=2021.8.3 in /usr/local/lib/python3.7/dist-packages (from nltk<4,>=3.4->recommenders[examples]) (2021.11.10)\n",
            "Requirement already satisfied: joblib in /usr/local/lib/python3.7/dist-packages (from nltk<4,>=3.4->recommenders[examples]) (1.1.0)\n",
            "Requirement already satisfied: llvmlite<0.35,>=0.34.0.dev0 in /usr/local/lib/python3.7/dist-packages (from numba<1,>=0.38.1->recommenders[examples]) (0.34.0)\n",
            "Requirement already satisfied: pytz>=2017.2 in /usr/local/lib/python3.7/dist-packages (from pandas<2,>1.0.3->recommenders[examples]) (2018.9)\n",
            "Requirement already satisfied: nbformat>=5.1.2 in /usr/local/lib/python3.7/dist-packages (from papermill<3,>=2.1.2->recommenders[examples]) (5.1.3)\n",
            "Requirement already satisfied: black in /usr/local/lib/python3.7/dist-packages (from papermill<3,>=2.1.2->recommenders[examples]) (21.12b0)\n",
            "Requirement already satisfied: nbclient>=0.2.0 in /usr/local/lib/python3.7/dist-packages (from papermill<3,>=2.1.2->recommenders[examples]) (0.5.9)\n",
            "Requirement already satisfied: entrypoints in /usr/local/lib/python3.7/dist-packages (from papermill<3,>=2.1.2->recommenders[examples]) (0.3)\n",
            "Requirement already satisfied: ansiwrap in /usr/local/lib/python3.7/dist-packages (from papermill<3,>=2.1.2->recommenders[examples]) (0.8.4)\n",
            "Requirement already satisfied: tenacity in /usr/local/lib/python3.7/dist-packages (from papermill<3,>=2.1.2->recommenders[examples]) (8.0.1)\n",
            "Requirement already satisfied: nest-asyncio in /usr/local/lib/python3.7/dist-packages (from nbclient>=0.2.0->papermill<3,>=2.1.2->recommenders[examples]) (1.5.4)\n",
            "Requirement already satisfied: jupyter-core>=4.6.0 in /usr/local/lib/python3.7/dist-packages (from jupyter-client->ipykernel<5,>=4.6.1->recommenders[examples]) (4.9.1)\n",
            "Requirement already satisfied: ipython-genutils in /usr/local/lib/python3.7/dist-packages (from nbformat>=5.1.2->papermill<3,>=2.1.2->recommenders[examples]) (0.2.0)\n",
            "Requirement already satisfied: jsonschema!=2.5.0,>=2.4 in /usr/local/lib/python3.7/dist-packages (from nbformat>=5.1.2->papermill<3,>=2.1.2->recommenders[examples]) (2.6.0)\n",
            "Requirement already satisfied: wcwidth in /usr/local/lib/python3.7/dist-packages (from prompt-toolkit<2.0.0,>=1.0.4->ipython>=4.0.0->ipykernel<5,>=4.6.1->recommenders[examples]) (0.2.5)\n",
            "Requirement already satisfied: idna<3,>=2.5 in /usr/local/lib/python3.7/dist-packages (from requests<3,>=2.0.0->recommenders[examples]) (2.10)\n",
            "Requirement already satisfied: chardet<4,>=3.0.2 in /usr/local/lib/python3.7/dist-packages (from requests<3,>=2.0.0->recommenders[examples]) (3.0.4)\n",
            "Requirement already satisfied: urllib3!=1.25.0,!=1.25.1,<1.26,>=1.21.1 in /usr/local/lib/python3.7/dist-packages (from requests<3,>=2.0.0->recommenders[examples]) (1.24.3)\n",
            "Requirement already satisfied: oauthlib>=3.0.0 in /usr/local/lib/python3.7/dist-packages (from requests-oauthlib>=0.5.0->msrest>=0.5.0->azure.mgmt.cosmosdb<1,>=0.8.0->recommenders[examples]) (3.1.1)\n",
            "Requirement already satisfied: threadpoolctl>=2.0.0 in /usr/local/lib/python3.7/dist-packages (from scikit-learn<1,>=0.22.1->recommenders[examples]) (3.0.0)\n",
            "Requirement already satisfied: pyarrow in /usr/local/lib/python3.7/dist-packages (from scrapbook<1.0.0,>=0.5.0->recommenders[examples]) (3.0.0)\n",
            "Requirement already satisfied: sacremoses in /usr/local/lib/python3.7/dist-packages (from transformers<5,>=2.5.0->recommenders[examples]) (0.0.46)\n",
            "Requirement already satisfied: huggingface-hub<1.0,>=0.1.0 in /usr/local/lib/python3.7/dist-packages (from transformers<5,>=2.5.0->recommenders[examples]) (0.2.1)\n",
            "Requirement already satisfied: importlib-metadata in /usr/local/lib/python3.7/dist-packages (from transformers<5,>=2.5.0->recommenders[examples]) (4.8.2)\n",
            "Requirement already satisfied: filelock in /usr/local/lib/python3.7/dist-packages (from transformers<5,>=2.5.0->recommenders[examples]) (3.4.0)\n",
            "Requirement already satisfied: packaging>=20.0 in /usr/local/lib/python3.7/dist-packages (from transformers<5,>=2.5.0->recommenders[examples]) (21.3)\n",
            "Requirement already satisfied: tokenizers<0.11,>=0.10.1 in /usr/local/lib/python3.7/dist-packages (from transformers<5,>=2.5.0->recommenders[examples]) (0.10.3)\n",
            "Requirement already satisfied: typing-extensions>=3.7.4.3 in /usr/local/lib/python3.7/dist-packages (from huggingface-hub<1.0,>=0.1.0->transformers<5,>=2.5.0->recommenders[examples]) (3.10.0.2)\n",
            "Requirement already satisfied: textwrap3>=0.9.2 in /usr/local/lib/python3.7/dist-packages (from ansiwrap->papermill<3,>=2.1.2->recommenders[examples]) (0.9.2)\n",
            "Requirement already satisfied: tomli<2.0.0,>=0.2.6 in /usr/local/lib/python3.7/dist-packages (from black->papermill<3,>=2.1.2->recommenders[examples]) (1.2.2)\n",
            "Requirement already satisfied: pathspec<1,>=0.9.0 in /usr/local/lib/python3.7/dist-packages (from black->papermill<3,>=2.1.2->recommenders[examples]) (0.9.0)\n",
            "Requirement already satisfied: mypy-extensions>=0.4.3 in /usr/local/lib/python3.7/dist-packages (from black->papermill<3,>=2.1.2->recommenders[examples]) (0.4.3)\n",
            "Requirement already satisfied: platformdirs>=2 in /usr/local/lib/python3.7/dist-packages (from black->papermill<3,>=2.1.2->recommenders[examples]) (2.4.0)\n",
            "Requirement already satisfied: typed-ast>=1.4.2 in /usr/local/lib/python3.7/dist-packages (from black->papermill<3,>=2.1.2->recommenders[examples]) (1.5.1)\n",
            "Requirement already satisfied: zipp>=0.5 in /usr/local/lib/python3.7/dist-packages (from importlib-metadata->transformers<5,>=2.5.0->recommenders[examples]) (3.6.0)\n",
            "Requirement already satisfied: widgetsnbextension~=3.5.0 in /usr/local/lib/python3.7/dist-packages (from ipywidgets->jupyter<2,>=1->recommenders[examples]) (3.5.2)\n",
            "Requirement already satisfied: jupyterlab-widgets>=1.0.0 in /usr/local/lib/python3.7/dist-packages (from ipywidgets->jupyter<2,>=1->recommenders[examples]) (1.0.2)\n",
            "Requirement already satisfied: terminado>=0.8.1 in /usr/local/lib/python3.7/dist-packages (from notebook->jupyter<2,>=1->recommenders[examples]) (0.12.1)\n",
            "Requirement already satisfied: Send2Trash in /usr/local/lib/python3.7/dist-packages (from notebook->jupyter<2,>=1->recommenders[examples]) (1.8.0)\n",
            "Requirement already satisfied: ptyprocess in /usr/local/lib/python3.7/dist-packages (from terminado>=0.8.1->notebook->jupyter<2,>=1->recommenders[examples]) (0.7.0)\n",
            "Requirement already satisfied: defusedxml in /usr/local/lib/python3.7/dist-packages (from nbconvert->jupyter<2,>=1->recommenders[examples]) (0.7.1)\n",
            "Requirement already satisfied: bleach in /usr/local/lib/python3.7/dist-packages (from nbconvert->jupyter<2,>=1->recommenders[examples]) (4.1.0)\n",
            "Requirement already satisfied: testpath in /usr/local/lib/python3.7/dist-packages (from nbconvert->jupyter<2,>=1->recommenders[examples]) (0.5.0)\n",
            "Requirement already satisfied: pandocfilters>=1.4.1 in /usr/local/lib/python3.7/dist-packages (from nbconvert->jupyter<2,>=1->recommenders[examples]) (1.5.0)\n",
            "Requirement already satisfied: mistune<2,>=0.8.1 in /usr/local/lib/python3.7/dist-packages (from nbconvert->jupyter<2,>=1->recommenders[examples]) (0.8.4)\n",
            "Requirement already satisfied: webencodings in /usr/local/lib/python3.7/dist-packages (from bleach->nbconvert->jupyter<2,>=1->recommenders[examples]) (0.5.1)\n",
            "Requirement already satisfied: mpmath in /usr/local/lib/python3.7/dist-packages (from powerlaw->cornac<2,>=1.1.2->recommenders[examples]) (1.2.1)\n",
            "Requirement already satisfied: qtpy in /usr/local/lib/python3.7/dist-packages (from qtconsole->jupyter<2,>=1->recommenders[examples]) (1.11.2)\n"
          ]
        }
      ],
      "source": [
        "!pip3 install surprise\n",
        "!pip install --upgrade numpy\n",
        "!pip install recommenders[examples]"
      ]
    },
    {
      "cell_type": "code",
      "execution_count": 2,
      "id": "4dac0c10",
      "metadata": {
        "id": "4dac0c10"
      },
      "outputs": [],
      "source": [
        "import surprise\n",
        "from surprise import SVD\n",
        "from surprise import Dataset, accuracy, Reader\n",
        "\n",
        "from surprise.model_selection import cross_validate, KFold, GridSearchCV\n",
        "from collections import defaultdict\n",
        "from recommenders.evaluation.python_evaluation import (rmse, mae, rsquared, exp_var, map_at_k, ndcg_at_k, precision_at_k, \n",
        "                                                     recall_at_k, get_top_k_items)\n",
        "from recommenders.models.surprise.surprise_utils import predict, compute_ranking_predictions\n",
        "from recommenders.datasets.python_splitters import python_random_split\n",
        "from recommenders.utils.timer import Timer\n",
        "\n",
        "import random\n",
        "import pandas as pd\n",
        "import numpy as np\n",
        "import matplotlib.pyplot as plt\n",
        "import seaborn as sns\n",
        "sns.set()"
      ]
    },
    {
      "cell_type": "code",
      "execution_count": 3,
      "id": "d4665dc2",
      "metadata": {
        "id": "d4665dc2",
        "outputId": "f025541d-8aaf-4192-d362-d68665f2bc08",
        "colab": {
          "base_uri": "https://localhost:8080/",
          "height": 35
        }
      },
      "outputs": [
        {
          "output_type": "execute_result",
          "data": {
            "application/vnd.google.colaboratory.intrinsic+json": {
              "type": "string"
            },
            "text/plain": [
              "'my_seed = 0\\nrandom.seed(my_seed)\\nnp.random.seed(my_seed)'"
            ]
          },
          "metadata": {},
          "execution_count": 3
        }
      ],
      "source": [
        "\"\"\"my_seed = 0\n",
        "random.seed(my_seed)\n",
        "np.random.seed(my_seed)\"\"\""
      ]
    },
    {
      "cell_type": "code",
      "execution_count": 3,
      "id": "a472d0eb",
      "metadata": {
        "id": "a472d0eb"
      },
      "outputs": [],
      "source": [
        "def _print(message, verbose):\n",
        "    if verbose:\n",
        "        print(message)\n",
        "        \n",
        "def load_dataset(data_f):\n",
        "    df = pd.DataFrame()\n",
        "    try:\n",
        "        df[[\"userID\", \"itemID\", \"rating\"]] = pd.read_json(data_f)[[\"userID\", \"itemID\", \"rating\"]]\n",
        "    except:\n",
        "        df = pd.read_json(data_f)\n",
        "    return df\n",
        "\n",
        "def filter_on_minimal_ratings(df):\n",
        "    # Divide into preferred and non-preferred/not-seen\n",
        "    df_preferred = df[df['rating'] > 3.5]\n",
        "    df_low_rating = df[df['rating'] <= 3.5]\n",
        "\n",
        "    # Keep users who clicked on at least 3 products\n",
        "    df = min_rating_filter_pandas(df_preferred, min_rating=3, filter_by=\"user\")\n",
        "\n",
        "    # Keep products that were clicked on by at least on 1 user\n",
        "    df = min_rating_filter_pandas(df, min_rating=1, filter_by=\"item\")\n",
        "    df.reset_index(drop=True, inplace=True)\n",
        "    return df, df_low_rating\n",
        "\n",
        "def filter_to_sparsity(df, sparsity_percentage, verbose = False):\n",
        "    # Obtain both usercount and itemcount after filtering\n",
        "    usercount = df[['userID']].groupby('userID', as_index = False).size()\n",
        "    itemcount = df[['itemID']].groupby('itemID', as_index = False).size()\n",
        "\n",
        "    sparsity = 1 - (df.shape[0] / (usercount.shape[0] * itemcount.shape[0]))\n",
        "\n",
        "    _print(f\"After filtering, there are {df.shape[0]} ratings from {usercount.shape[0]} users on {itemcount.shape[0]}\" + \n",
        "           f\" products (sparsity: {sparsity * 100:.3f})\", verbose)\n",
        "    \n",
        "    drop_item_ratings = int(-((1-sparsity_percentage) * (usercount.shape[0] * itemcount.shape[0]) - df.shape[0]))\n",
        "    print(f\"To obtain a sparsity of {sparsity_percentage * 100}% we need to drop {drop_item_ratings} ratings\")\n",
        "    drop_indices = np.random.choice(df.index, size=drop_item_ratings)\n",
        "    df.drop(drop_indices, inplace=True)\n",
        "\n",
        "    sparsity = 1 - (df.shape[0] / (usercount.shape[0] * itemcount.shape[0]))\n",
        "    _print(f\"After dropping cells, there are {df.shape[0]} ratings from {usercount.shape[0]} users on {itemcount.shape[0]}\" + \n",
        "           f\" products (sparsity: {sparsity * 100:.3f})\", verbose)\n",
        "    return df\n",
        "\n",
        "def split_dataframe(df, val_percentage=0.1, test_percentage=0.2):\n",
        "    unique_users = sorted(df.userID.unique())\n",
        "    np.random.seed(SEED)\n",
        "    unique_users = np.random.permutation(unique_users)\n",
        "    \n",
        "    # Create train/validation/test users \n",
        "    # The order of splitting is val, test and then training to solve the rounding error for int() on line 5, 6\n",
        "    n_users = len(unique_users)\n",
        "    _print(f\"Number of unique users: {n_users}\")\n",
        "    HELDOUT_USERS_VAL = int(val_percentage * n_users)\n",
        "    HELDOUT_USERS_TEST = int(test_percentage * n_users)\n",
        "\n",
        "    val_users = unique_users[:HELDOUT_USERS_VAL]\n",
        "    _print(f\"\\nNumber of validation users: {len(val_users)}\")\n",
        "\n",
        "    test_users = unique_users[HELDOUT_USERS_VAL:(HELDOUT_USERS_VAL+HELDOUT_USERS_TEST)]\n",
        "    _print(f\"\\nNumber of test users: {len(test_users)}\")\n",
        "\n",
        "    train_users = unique_users[(HELDOUT_USERS_VAL+HELDOUT_USERS_TEST):]\n",
        "    _print(f\"\\nNumber of training users: {len(train_users)}\")\n",
        "    \n",
        "    # For training set keep only users that are in train_users list\n",
        "    train_set = df.loc[df['userID'].isin(train_users)]\n",
        "    _print(f\"Number of training observations: {train_set.shape[0]}\")\n",
        "\n",
        "    # For validation set keep only users that are in val_users list\n",
        "    val_set = df.loc[df['userID'].isin(val_users)]\n",
        "    _print(f\"\\nNumber of validation observations: {val_set.shape[0]}\")\n",
        "\n",
        "    # For test set keep only users that are in test_users list\n",
        "    test_set = df.loc[df['userID'].isin(test_users)]\n",
        "    _print(f\"\\nNumber of test observations: {test_set.shape[0]}\")\n",
        "\n",
        "    # Obtain list of unique movies used in training set\n",
        "    unique_train_items = pd.unique(train_set['itemID'])\n",
        "    _print(f\"Number of unique items that rated in training set {unique_train_items.size}\")\n",
        "    \n",
        "    # For validation set keep only movies that used in training set\n",
        "    val_set = val_set.loc[val_set['itemID'].isin(unique_train_items)]\n",
        "    _print(f\"Number of validation observations after filtering: {val_set.shape[0]}\")\n",
        "\n",
        "    # For test set keep only movies that used in training set\n",
        "    test_set = test_set.loc[test_set['itemID'].isin(unique_train_items)]\n",
        "    _print(f\"\\nNumber of test observations after filtering: {test_set.shape[0]}\")\n",
        "    return train_set, val_set, test_set\n",
        "    \n",
        "\n",
        "def build_data(df):\n",
        "    reader = Reader(rating_scale=(1,5))\n",
        "    data = Dataset.load_from_df(df, reader)\n",
        "    return data"
      ]
    },
    {
      "cell_type": "code",
      "execution_count": 4,
      "id": "dc9b4d92",
      "metadata": {
        "id": "dc9b4d92"
      },
      "outputs": [],
      "source": [
        "def data_loading_pipeline(fp, sparsity_percentage=None):\n",
        "    \"\"\"\n",
        "    fp: str = Filepointer to desired user-item-ratings json.\n",
        "    sparsity_percentage: float = value between 0-1.\n",
        "\n",
        "    output: trainset and testset \n",
        "    \"\"\"\n",
        "    df = load_dataset(fp)\n",
        "    df = filter_to_sparsity(df, sparsity_percentage)\n",
        "    train, test = python_random_split(df, 0.8)\n",
        "\n",
        "    return train, test"
      ]
    },
    {
      "cell_type": "markdown",
      "id": "1561a4b3",
      "metadata": {
        "id": "1561a4b3"
      },
      "source": [
        "### Simulation"
      ]
    },
    {
      "cell_type": "code",
      "execution_count": 5,
      "id": "26ba65bf",
      "metadata": {
        "id": "26ba65bf"
      },
      "outputs": [],
      "source": [
        "\"\"\"Results dic will contain the values of the metric at different sparcities, the arrays\n",
        "correspond to precision, recall and ndcg, respectively\"\"\"\n",
        "results = {0.75: [[], [], [], [], [], [], [], []],\n",
        "           0.80: [[], [], [], [], [], [], [], []],\n",
        "           0.85: [[], [], [], [], [], [], [], []],\n",
        "           0.90: [[], [], [], [], [], [], [], []], \n",
        "           0.95: [[], [], [], [], [], [], [], []]}\n",
        "spt = [0.75, 0.8 , 0.85, 0.9 , 0.95]"
      ]
    },
    {
      "cell_type": "code",
      "execution_count": 6,
      "id": "f68a39ab",
      "metadata": {
        "colab": {
          "base_uri": "https://localhost:8080/"
        },
        "id": "f68a39ab",
        "outputId": "75c9f9e6-265f-4c80-cc96-4afb48fb9fe8",
        "scrolled": true
      },
      "outputs": [
        {
          "output_type": "stream",
          "name": "stdout",
          "text": [
            "To obtain a sparsity of 75.0% we need to drop 391 ratings\n",
            "Took 0.0871385790005661 seconds for prediction.\n",
            "Took 0.09129716400002508 seconds for prediction.\n",
            "Took 0.07966611099982401 seconds for prediction.\n",
            "Took 0.09758747600062634 seconds for prediction.\n",
            "Took 0.1187791920001473 seconds for prediction.\n",
            "Took 0.08727068999996845 seconds for prediction.\n",
            "Took 0.07747423599994363 seconds for prediction.\n",
            "Took 0.08506371099974785 seconds for prediction.\n",
            "Took 0.18230299199967703 seconds for prediction.\n",
            "Took 0.09847872299997107 seconds for prediction.\n",
            "Took 0.07866759699936665 seconds for prediction.\n",
            "Took 0.1285982180006613 seconds for prediction.\n",
            "Took 0.07740665399978752 seconds for prediction.\n",
            "Took 0.09072172100059106 seconds for prediction.\n",
            "Took 0.07829777499955526 seconds for prediction.\n",
            "Took 0.07881110899961641 seconds for prediction.\n",
            "Took 0.0787580579999485 seconds for prediction.\n",
            "Took 0.08302098400054092 seconds for prediction.\n",
            "Took 0.09902737799984607 seconds for prediction.\n",
            "Took 0.0885954129998936 seconds for prediction.\n",
            "{0.75: [[0.13084745762711866, 0.13118644067796612, 0.13186440677966105, 0.1328813559322034, 0.13152542372881357, 0.12847457627118647, 0.12881355932203392, 0.13016949152542376, 0.1369491525423729, 0.1338983050847458, 0.13186440677966105, 0.13254237288135592, 0.13016949152542376, 0.13152542372881357, 0.13152542372881357, 0.13186440677966105, 0.13084745762711866, 0.13254237288135595, 0.1338983050847458, 0.1328813559322034], [0.7368361581920905, 0.7313559322033898, 0.7480225988700565, 0.7406779661016949, 0.7384180790960452, 0.7215819209039548, 0.7259887005649717, 0.7331638418079095, 0.7740112994350282, 0.7487005649717514, 0.7370056497175141, 0.745593220338983, 0.730225988700565, 0.7357062146892656, 0.7390960451977401, 0.7410734463276837, 0.7305084745762712, 0.7402259887005649, 0.7466101694915255, 0.7503954802259887], [0.5991463429419942, 0.6097879007747286, 0.6021700631758276, 0.6017810009369184, 0.5893041186862678, 0.5879468817560584, 0.5998052818528534, 0.6058057483018444, 0.6055319598616037, 0.5812162667331955, 0.6055755635809238, 0.5836253445256071, 0.6094031294589455, 0.5877218514596413, 0.5973397873679466, 0.599194241068136, 0.5974482539753664, 0.6044204399762201, 0.6036334253423079, 0.6089790803141673], [0.5463857501569366, 0.5614949331898484, 0.5465859564164649, 0.5473896959913909, 0.5310828625235405, 0.5352526679221594, 0.5489101874271365, 0.5556320957761636, 0.5426150121065375, 0.5183718948973185, 0.5535904851582817, 0.521642879562371, 0.5588868711326338, 0.5309587480943413, 0.5434293785310734, 0.5435133620303112, 0.5442963635548381, 0.5485558245897229, 0.5461598735539414, 0.5537795713388932], [0.09021168283342659, 0.09430139904037764, 0.09463700212346239, 0.09297293340894486, 0.09187068776812435, 0.09430604555191617, 0.09022845959399307, 0.09330826029391238, 0.08723653333098155, 0.09204974196626448, 0.09477845696104643, 0.09157959732536505, 0.09172223019897426, 0.0965523093046099, 0.09102023991338924, 0.08870094807720685, 0.09547310388915349, 0.09552466619758794, 0.09737818464858616, 0.09323995752296764], [0.06289386187666815, 0.0642246910389244, 0.06572910838129847, 0.06308114421792428, 0.06473999257873272, 0.06408814495692536, 0.06181294790621103, 0.06507117919662143, 0.061850488804800964, 0.06388469310425067, 0.06446151797443159, 0.06542916622789677, 0.062469908582827145, 0.0668232028627534, 0.0649222521380795, 0.06147325029625198, 0.06527792017099188, 0.06620898707386093, 0.06756806099972484, 0.06368742889180712], [0.9910937271866462, 0.9902678969863499, 0.990198503836158, 0.9905401664942676, 0.9907631400108852, 0.990266937903166, 0.9910904142609678, 0.9904718055878915, 0.9916714916916176, 0.9907271000005816, 0.9901691811568442, 0.9908215808930705, 0.990792968324114, 0.9897977548138325, 0.9909333598901797, 0.9913895281937439, 0.9900245496957947, 0.990013771872109, 0.9896224753525427, 0.9904857499885462], [0.9910972238122631, 0.9902746376143698, 0.9902050378472362, 0.9905479826972811, 0.9907736183959428, 0.9902771379422295, 0.9910904282134881, 0.9904912458887698, 0.9916896816795421, 0.9907281140348393, 0.9901714100719615, 0.9908355506809778, 0.9907944970345913, 0.989816703880606, 0.9909378403551925, 0.9913988617857139, 0.9900366567708867, 0.9900178508841343, 0.9896454690150673, 0.9904874970709295]], 0.8: [[], [], [], [], [], [], [], []], 0.85: [[], [], [], [], [], [], [], []], 0.9: [[], [], [], [], [], [], [], []], 0.95: [[], [], [], [], [], [], [], []]}\n",
            "To obtain a sparsity of 80.0% we need to drop 914 ratings\n",
            "Took 0.08410293199995067 seconds for prediction.\n",
            "Took 0.08093387000008079 seconds for prediction.\n",
            "Took 0.14614029099993786 seconds for prediction.\n",
            "Took 0.07931564299997262 seconds for prediction.\n",
            "Took 0.14968669800055068 seconds for prediction.\n",
            "Took 0.08132502800071961 seconds for prediction.\n",
            "Took 0.14931926100052806 seconds for prediction.\n",
            "Took 0.07958251299987751 seconds for prediction.\n",
            "Took 0.07985143099995184 seconds for prediction.\n",
            "Took 0.08322997400046006 seconds for prediction.\n",
            "Took 0.08758359399962501 seconds for prediction.\n",
            "Took 0.08771217100002104 seconds for prediction.\n",
            "Took 0.08834131999992678 seconds for prediction.\n",
            "Took 0.096791244999622 seconds for prediction.\n",
            "Took 0.079415128000619 seconds for prediction.\n",
            "Took 0.08245962599994527 seconds for prediction.\n",
            "Took 0.08510620000015479 seconds for prediction.\n",
            "Took 0.07886113899985503 seconds for prediction.\n",
            "Took 0.08446991800065007 seconds for prediction.\n",
            "Took 0.17919720400004735 seconds for prediction.\n",
            "{0.75: [[0.13084745762711866, 0.13118644067796612, 0.13186440677966105, 0.1328813559322034, 0.13152542372881357, 0.12847457627118647, 0.12881355932203392, 0.13016949152542376, 0.1369491525423729, 0.1338983050847458, 0.13186440677966105, 0.13254237288135592, 0.13016949152542376, 0.13152542372881357, 0.13152542372881357, 0.13186440677966105, 0.13084745762711866, 0.13254237288135595, 0.1338983050847458, 0.1328813559322034], [0.7368361581920905, 0.7313559322033898, 0.7480225988700565, 0.7406779661016949, 0.7384180790960452, 0.7215819209039548, 0.7259887005649717, 0.7331638418079095, 0.7740112994350282, 0.7487005649717514, 0.7370056497175141, 0.745593220338983, 0.730225988700565, 0.7357062146892656, 0.7390960451977401, 0.7410734463276837, 0.7305084745762712, 0.7402259887005649, 0.7466101694915255, 0.7503954802259887], [0.5991463429419942, 0.6097879007747286, 0.6021700631758276, 0.6017810009369184, 0.5893041186862678, 0.5879468817560584, 0.5998052818528534, 0.6058057483018444, 0.6055319598616037, 0.5812162667331955, 0.6055755635809238, 0.5836253445256071, 0.6094031294589455, 0.5877218514596413, 0.5973397873679466, 0.599194241068136, 0.5974482539753664, 0.6044204399762201, 0.6036334253423079, 0.6089790803141673], [0.5463857501569366, 0.5614949331898484, 0.5465859564164649, 0.5473896959913909, 0.5310828625235405, 0.5352526679221594, 0.5489101874271365, 0.5556320957761636, 0.5426150121065375, 0.5183718948973185, 0.5535904851582817, 0.521642879562371, 0.5588868711326338, 0.5309587480943413, 0.5434293785310734, 0.5435133620303112, 0.5442963635548381, 0.5485558245897229, 0.5461598735539414, 0.5537795713388932], [0.09021168283342659, 0.09430139904037764, 0.09463700212346239, 0.09297293340894486, 0.09187068776812435, 0.09430604555191617, 0.09022845959399307, 0.09330826029391238, 0.08723653333098155, 0.09204974196626448, 0.09477845696104643, 0.09157959732536505, 0.09172223019897426, 0.0965523093046099, 0.09102023991338924, 0.08870094807720685, 0.09547310388915349, 0.09552466619758794, 0.09737818464858616, 0.09323995752296764], [0.06289386187666815, 0.0642246910389244, 0.06572910838129847, 0.06308114421792428, 0.06473999257873272, 0.06408814495692536, 0.06181294790621103, 0.06507117919662143, 0.061850488804800964, 0.06388469310425067, 0.06446151797443159, 0.06542916622789677, 0.062469908582827145, 0.0668232028627534, 0.0649222521380795, 0.06147325029625198, 0.06527792017099188, 0.06620898707386093, 0.06756806099972484, 0.06368742889180712], [0.9910937271866462, 0.9902678969863499, 0.990198503836158, 0.9905401664942676, 0.9907631400108852, 0.990266937903166, 0.9910904142609678, 0.9904718055878915, 0.9916714916916176, 0.9907271000005816, 0.9901691811568442, 0.9908215808930705, 0.990792968324114, 0.9897977548138325, 0.9909333598901797, 0.9913895281937439, 0.9900245496957947, 0.990013771872109, 0.9896224753525427, 0.9904857499885462], [0.9910972238122631, 0.9902746376143698, 0.9902050378472362, 0.9905479826972811, 0.9907736183959428, 0.9902771379422295, 0.9910904282134881, 0.9904912458887698, 0.9916896816795421, 0.9907281140348393, 0.9901714100719615, 0.9908355506809778, 0.9907944970345913, 0.989816703880606, 0.9909378403551925, 0.9913988617857139, 0.9900366567708867, 0.9900178508841343, 0.9896454690150673, 0.9904874970709295]], 0.8: [[0.11573033707865171, 0.11498127340823971, 0.11498127340823974, 0.11498127340823974, 0.11423220973782776, 0.11498127340823971, 0.11610486891385768, 0.1164794007490637, 0.11797752808988769, 0.1168539325842697, 0.11423220973782776, 0.11423220973782774, 0.1161048689138577, 0.11535580524344571, 0.11535580524344571, 0.1157303370786517, 0.11535580524344571, 0.11498127340823971, 0.11498127340823971, 0.11498127340823971], [0.7125468164794008, 0.7097378277153558, 0.7100499375780274, 0.7072409488139825, 0.7072409488139825, 0.7103620474406991, 0.7159800249687891, 0.7184769038701623, 0.7294007490636704, 0.7219101123595506, 0.7066167290886392, 0.7038077403245944, 0.7178526841448191, 0.7147315855181025, 0.7147315855181025, 0.7203495630461922, 0.7125468164794008, 0.7103620474406992, 0.7122347066167292, 0.7078651685393258], [0.511485563042517, 0.5196459510256323, 0.5186332168119291, 0.4863090536953383, 0.5134057410553842, 0.5385445843870789, 0.5214877667213671, 0.5311387773782252, 0.5259869388066536, 0.5087037053431245, 0.5077278998507112, 0.5262097613468434, 0.5177254037505755, 0.5217530271169543, 0.5372558237361768, 0.5129013385543084, 0.506528055292286, 0.511167080861778, 0.5121842598759643, 0.4909515526006116], [0.4317802152071815, 0.44354229831757924, 0.4443615867070923, 0.39901294017398886, 0.43830925628678435, 0.47019058518122187, 0.44494084774983644, 0.45652265025860533, 0.44605131482472304, 0.42571393892554943, 0.4307116104868914, 0.45190243346610387, 0.4394511820541783, 0.4455405445573985, 0.46632706141133107, 0.43371336424707213, 0.42616347621029266, 0.4347480827537007, 0.43496224956899115, 0.40712457642232924], [0.19860390157257107, 0.19311819896828547, 0.204215170835661, 0.20593033357999327, 0.1945122208975474, 0.19439735047822979, 0.1969071743210742, 0.1955592495301137, 0.1995237904921417, 0.19466169964905808, 0.19130977988691425, 0.19748870489241793, 0.1906918595399714, 0.18869164330506377, 0.20108173808987873, 0.1977149936590764, 0.184001421511186, 0.1939479488721307, 0.20419742452819764, 0.19788062921590335], [0.1080752554776585, 0.10760437123346832, 0.11300551649887917, 0.11540233616233414, 0.10685793087294916, 0.10647430249690952, 0.1073738240950874, 0.10561567894748528, 0.10656475163832396, 0.1048715194761802, 0.10307502968754981, 0.10718382282712402, 0.11100571563562739, 0.10182614480675907, 0.10824545224129073, 0.10826048232849618, 0.10199978465262433, 0.10890472407744038, 0.11062671387180584, 0.10976264660234249], [0.961232970384633, 0.9633449868922219, 0.959011410071069, 0.9583200086554744, 0.9628138891790721, 0.9628577971949037, 0.9618925354722134, 0.9624124777627615, 0.9608730182544393, 0.9627567136535008, 0.9640282705649205, 0.9616671157587108, 0.9642602688084412, 0.9650061031289685, 0.9602595999114397, 0.9615792193826056, 0.966724136778991, 0.9630293270208761, 0.9590185335821286, 0.9615148184696839], [0.9613126980353655, 0.9633983858823423, 0.9590678752991213, 0.9583934349555971, 0.9628856731423665, 0.9629417549910501, 0.9619336373214142, 0.9625723635234944, 0.9609311604610512, 0.9628485410384422, 0.9641095386167007, 0.9617298260976077, 0.9643469471206836, 0.9650800331606683, 0.9603825216070085, 0.9616233246525543, 0.9668277051620241, 0.9630441913347875, 0.9591279975940998, 0.961621860826376]], 0.85: [[], [], [], [], [], [], [], []], 0.9: [[], [], [], [], [], [], [], []], 0.95: [[], [], [], [], [], [], [], []]}\n",
            "To obtain a sparsity of 85.0% we need to drop 1438 ratings\n",
            "Took 0.08777978599937342 seconds for prediction.\n",
            "Took 0.07970441299949016 seconds for prediction.\n",
            "Took 0.0757163029993535 seconds for prediction.\n",
            "Took 0.15285421000044153 seconds for prediction.\n",
            "Took 0.07476691100055177 seconds for prediction.\n",
            "Took 0.08087231900026381 seconds for prediction.\n",
            "Took 0.09265738700014481 seconds for prediction.\n",
            "Took 0.07661431299948163 seconds for prediction.\n",
            "Took 0.0866931159998785 seconds for prediction.\n",
            "Took 0.07437015600044106 seconds for prediction.\n",
            "Took 0.07569644300019718 seconds for prediction.\n",
            "Took 0.0733797480006615 seconds for prediction.\n",
            "Took 0.07985806699980458 seconds for prediction.\n",
            "Took 0.08239188700008526 seconds for prediction.\n",
            "Took 0.08411150600022665 seconds for prediction.\n",
            "Took 0.08405151300030411 seconds for prediction.\n",
            "Took 0.07786718199986353 seconds for prediction.\n",
            "Took 0.07662557099956757 seconds for prediction.\n",
            "Took 0.13771254499988572 seconds for prediction.\n",
            "Took 0.1226732160002939 seconds for prediction.\n",
            "{0.75: [[0.13084745762711866, 0.13118644067796612, 0.13186440677966105, 0.1328813559322034, 0.13152542372881357, 0.12847457627118647, 0.12881355932203392, 0.13016949152542376, 0.1369491525423729, 0.1338983050847458, 0.13186440677966105, 0.13254237288135592, 0.13016949152542376, 0.13152542372881357, 0.13152542372881357, 0.13186440677966105, 0.13084745762711866, 0.13254237288135595, 0.1338983050847458, 0.1328813559322034], [0.7368361581920905, 0.7313559322033898, 0.7480225988700565, 0.7406779661016949, 0.7384180790960452, 0.7215819209039548, 0.7259887005649717, 0.7331638418079095, 0.7740112994350282, 0.7487005649717514, 0.7370056497175141, 0.745593220338983, 0.730225988700565, 0.7357062146892656, 0.7390960451977401, 0.7410734463276837, 0.7305084745762712, 0.7402259887005649, 0.7466101694915255, 0.7503954802259887], [0.5991463429419942, 0.6097879007747286, 0.6021700631758276, 0.6017810009369184, 0.5893041186862678, 0.5879468817560584, 0.5998052818528534, 0.6058057483018444, 0.6055319598616037, 0.5812162667331955, 0.6055755635809238, 0.5836253445256071, 0.6094031294589455, 0.5877218514596413, 0.5973397873679466, 0.599194241068136, 0.5974482539753664, 0.6044204399762201, 0.6036334253423079, 0.6089790803141673], [0.5463857501569366, 0.5614949331898484, 0.5465859564164649, 0.5473896959913909, 0.5310828625235405, 0.5352526679221594, 0.5489101874271365, 0.5556320957761636, 0.5426150121065375, 0.5183718948973185, 0.5535904851582817, 0.521642879562371, 0.5588868711326338, 0.5309587480943413, 0.5434293785310734, 0.5435133620303112, 0.5442963635548381, 0.5485558245897229, 0.5461598735539414, 0.5537795713388932], [0.09021168283342659, 0.09430139904037764, 0.09463700212346239, 0.09297293340894486, 0.09187068776812435, 0.09430604555191617, 0.09022845959399307, 0.09330826029391238, 0.08723653333098155, 0.09204974196626448, 0.09477845696104643, 0.09157959732536505, 0.09172223019897426, 0.0965523093046099, 0.09102023991338924, 0.08870094807720685, 0.09547310388915349, 0.09552466619758794, 0.09737818464858616, 0.09323995752296764], [0.06289386187666815, 0.0642246910389244, 0.06572910838129847, 0.06308114421792428, 0.06473999257873272, 0.06408814495692536, 0.06181294790621103, 0.06507117919662143, 0.061850488804800964, 0.06388469310425067, 0.06446151797443159, 0.06542916622789677, 0.062469908582827145, 0.0668232028627534, 0.0649222521380795, 0.06147325029625198, 0.06527792017099188, 0.06620898707386093, 0.06756806099972484, 0.06368742889180712], [0.9910937271866462, 0.9902678969863499, 0.990198503836158, 0.9905401664942676, 0.9907631400108852, 0.990266937903166, 0.9910904142609678, 0.9904718055878915, 0.9916714916916176, 0.9907271000005816, 0.9901691811568442, 0.9908215808930705, 0.990792968324114, 0.9897977548138325, 0.9909333598901797, 0.9913895281937439, 0.9900245496957947, 0.990013771872109, 0.9896224753525427, 0.9904857499885462], [0.9910972238122631, 0.9902746376143698, 0.9902050378472362, 0.9905479826972811, 0.9907736183959428, 0.9902771379422295, 0.9910904282134881, 0.9904912458887698, 0.9916896816795421, 0.9907281140348393, 0.9901714100719615, 0.9908355506809778, 0.9907944970345913, 0.989816703880606, 0.9909378403551925, 0.9913988617857139, 0.9900366567708867, 0.9900178508841343, 0.9896454690150673, 0.9904874970709295]], 0.8: [[0.11573033707865171, 0.11498127340823971, 0.11498127340823974, 0.11498127340823974, 0.11423220973782776, 0.11498127340823971, 0.11610486891385768, 0.1164794007490637, 0.11797752808988769, 0.1168539325842697, 0.11423220973782776, 0.11423220973782774, 0.1161048689138577, 0.11535580524344571, 0.11535580524344571, 0.1157303370786517, 0.11535580524344571, 0.11498127340823971, 0.11498127340823971, 0.11498127340823971], [0.7125468164794008, 0.7097378277153558, 0.7100499375780274, 0.7072409488139825, 0.7072409488139825, 0.7103620474406991, 0.7159800249687891, 0.7184769038701623, 0.7294007490636704, 0.7219101123595506, 0.7066167290886392, 0.7038077403245944, 0.7178526841448191, 0.7147315855181025, 0.7147315855181025, 0.7203495630461922, 0.7125468164794008, 0.7103620474406992, 0.7122347066167292, 0.7078651685393258], [0.511485563042517, 0.5196459510256323, 0.5186332168119291, 0.4863090536953383, 0.5134057410553842, 0.5385445843870789, 0.5214877667213671, 0.5311387773782252, 0.5259869388066536, 0.5087037053431245, 0.5077278998507112, 0.5262097613468434, 0.5177254037505755, 0.5217530271169543, 0.5372558237361768, 0.5129013385543084, 0.506528055292286, 0.511167080861778, 0.5121842598759643, 0.4909515526006116], [0.4317802152071815, 0.44354229831757924, 0.4443615867070923, 0.39901294017398886, 0.43830925628678435, 0.47019058518122187, 0.44494084774983644, 0.45652265025860533, 0.44605131482472304, 0.42571393892554943, 0.4307116104868914, 0.45190243346610387, 0.4394511820541783, 0.4455405445573985, 0.46632706141133107, 0.43371336424707213, 0.42616347621029266, 0.4347480827537007, 0.43496224956899115, 0.40712457642232924], [0.19860390157257107, 0.19311819896828547, 0.204215170835661, 0.20593033357999327, 0.1945122208975474, 0.19439735047822979, 0.1969071743210742, 0.1955592495301137, 0.1995237904921417, 0.19466169964905808, 0.19130977988691425, 0.19748870489241793, 0.1906918595399714, 0.18869164330506377, 0.20108173808987873, 0.1977149936590764, 0.184001421511186, 0.1939479488721307, 0.20419742452819764, 0.19788062921590335], [0.1080752554776585, 0.10760437123346832, 0.11300551649887917, 0.11540233616233414, 0.10685793087294916, 0.10647430249690952, 0.1073738240950874, 0.10561567894748528, 0.10656475163832396, 0.1048715194761802, 0.10307502968754981, 0.10718382282712402, 0.11100571563562739, 0.10182614480675907, 0.10824545224129073, 0.10826048232849618, 0.10199978465262433, 0.10890472407744038, 0.11062671387180584, 0.10976264660234249], [0.961232970384633, 0.9633449868922219, 0.959011410071069, 0.9583200086554744, 0.9628138891790721, 0.9628577971949037, 0.9618925354722134, 0.9624124777627615, 0.9608730182544393, 0.9627567136535008, 0.9640282705649205, 0.9616671157587108, 0.9642602688084412, 0.9650061031289685, 0.9602595999114397, 0.9615792193826056, 0.966724136778991, 0.9630293270208761, 0.9590185335821286, 0.9615148184696839], [0.9613126980353655, 0.9633983858823423, 0.9590678752991213, 0.9583934349555971, 0.9628856731423665, 0.9629417549910501, 0.9619336373214142, 0.9625723635234944, 0.9609311604610512, 0.9628485410384422, 0.9641095386167007, 0.9617298260976077, 0.9643469471206836, 0.9650800331606683, 0.9603825216070085, 0.9616233246525543, 0.9668277051620241, 0.9630441913347875, 0.9591279975940998, 0.961621860826376]], 0.85: [[0.11214574898785426, 0.11376518218623483, 0.11174089068825911, 0.11255060728744941, 0.11417004048582997, 0.11214574898785426, 0.10971659919028341, 0.10728744939271255, 0.11133603238866398, 0.11417004048582997, 0.11740890688259109, 0.11457489878542512, 0.10931174089068826, 0.11457489878542511, 0.1105263157894737, 0.11012145748987856, 0.11133603238866396, 0.11457489878542512, 0.11174089068825911, 0.11012145748987856], [0.7537112010796222, 0.766531713900135, 0.7557354925775978, 0.7564102564102565, 0.7719298245614036, 0.7516869095816464, 0.7307692307692307, 0.7199730094466937, 0.7537112010796222, 0.7692307692307693, 0.7874493927125507, 0.7699055330634278, 0.7375168690958164, 0.7739541160593792, 0.7388663967611336, 0.7361673414304993, 0.7530364372469636, 0.7685560053981108, 0.7537112010796221, 0.7381916329284751], [0.4753873496371472, 0.5008432645691513, 0.4928734310414633, 0.4954356717600162, 0.4671072933029231, 0.5002390292325621, 0.49075367257836044, 0.4803547167652629, 0.4733554531754443, 0.4991085949958727, 0.5010314114592261, 0.5034087120238742, 0.47056492873046224, 0.5002244275535566, 0.4627219463938736, 0.5148378358339613, 0.49126282191497606, 0.48846904551800613, 0.48001504884838275, 0.4808190774022477], [0.37485835314782684, 0.4023255253518412, 0.39466186834607886, 0.39912521688837477, 0.3567355889724311, 0.4074325771694193, 0.3998291669344301, 0.38687450463766254, 0.3706365272154746, 0.3978683353683354, 0.3961736606473448, 0.4056372234003812, 0.3691989053831159, 0.4001756528072318, 0.3618142578668894, 0.430322601375233, 0.39468462823725986, 0.3849923955187113, 0.3797921620290041, 0.38330923462502414], [0.23614971702349966, 0.2299649935307919, 0.22202298092277897, 0.22068805206558528, 0.23017675934120022, 0.21961214818125124, 0.22495135130421182, 0.23397442819122294, 0.23761910045743218, 0.2383071150885044, 0.22878717871419646, 0.2268317906058132, 0.22755880962357705, 0.2212796961865463, 0.22559470428789727, 0.2174514480031579, 0.23095118616471771, 0.22646923275408154, 0.21279957670249372, 0.22473221775850416], [0.15109153690122862, 0.14967864449708093, 0.1409675670482042, 0.14235910453129377, 0.14824547678729344, 0.140306872605741, 0.14328256593876612, 0.14836570299567348, 0.15014047122073573, 0.1528250478882131, 0.1450166843655401, 0.14333993926140265, 0.14535416964965134, 0.1395439391800543, 0.14331147866681018, 0.13459248020947726, 0.14837116797297026, 0.14700032918446926, 0.12860109395225605, 0.14170154303397114], [0.9457197692380016, 0.9485257192104404, 0.9520197302968432, 0.9525949652839699, 0.9484308742382654, 0.953056058980054, 0.9507457127305835, 0.9467151662055151, 0.9450421769749179, 0.9447234607828191, 0.9490516419794621, 0.949918806684917, 0.9495972615547204, 0.9523404476024898, 0.9504635787880974, 0.953975250414858, 0.9480832831320156, 0.95007877384717, 0.9559233736698868, 0.9508416268870022], [0.9457407951113244, 0.9485278736872416, 0.952019958047552, 0.9526013149972701, 0.9484321866326337, 0.953058712986488, 0.9507457797352605, 0.946723381633296, 0.9450788427892529, 0.9447531656642347, 0.9490729369066012, 0.9499480454136088, 0.9496074743937649, 0.9523647634957193, 0.9504713553170441, 0.954001141435506, 0.9480868358488487, 0.9500797723097338, 0.9559237038554456, 0.9508505088975301]], 0.9: [[], [], [], [], [], [], [], []], 0.95: [[], [], [], [], [], [], [], []]}\n",
            "To obtain a sparsity of 90.0% we need to drop 1962 ratings\n",
            "Took 0.07384573699982866 seconds for prediction.\n",
            "Took 0.14874481100014236 seconds for prediction.\n",
            "Took 0.08222486899921932 seconds for prediction.\n",
            "Took 0.07507616199927725 seconds for prediction.\n",
            "Took 0.1354747599998518 seconds for prediction.\n",
            "Took 0.08265576899975713 seconds for prediction.\n",
            "Took 0.0904196450001109 seconds for prediction.\n",
            "Took 0.06658559600055014 seconds for prediction.\n",
            "Took 0.06763764199968136 seconds for prediction.\n",
            "Took 0.07269820900000923 seconds for prediction.\n",
            "Took 0.06609951500013267 seconds for prediction.\n",
            "Took 0.07030334299997776 seconds for prediction.\n",
            "Took 0.07064171299953159 seconds for prediction.\n",
            "Took 0.1379588159998093 seconds for prediction.\n",
            "Took 0.06847988499976054 seconds for prediction.\n",
            "Took 0.06796916099938244 seconds for prediction.\n",
            "Took 0.06975425200016616 seconds for prediction.\n",
            "Took 0.07454934000088542 seconds for prediction.\n",
            "Took 0.09426265599995531 seconds for prediction.\n",
            "Took 0.08862612000029912 seconds for prediction.\n",
            "{0.75: [[0.13084745762711866, 0.13118644067796612, 0.13186440677966105, 0.1328813559322034, 0.13152542372881357, 0.12847457627118647, 0.12881355932203392, 0.13016949152542376, 0.1369491525423729, 0.1338983050847458, 0.13186440677966105, 0.13254237288135592, 0.13016949152542376, 0.13152542372881357, 0.13152542372881357, 0.13186440677966105, 0.13084745762711866, 0.13254237288135595, 0.1338983050847458, 0.1328813559322034], [0.7368361581920905, 0.7313559322033898, 0.7480225988700565, 0.7406779661016949, 0.7384180790960452, 0.7215819209039548, 0.7259887005649717, 0.7331638418079095, 0.7740112994350282, 0.7487005649717514, 0.7370056497175141, 0.745593220338983, 0.730225988700565, 0.7357062146892656, 0.7390960451977401, 0.7410734463276837, 0.7305084745762712, 0.7402259887005649, 0.7466101694915255, 0.7503954802259887], [0.5991463429419942, 0.6097879007747286, 0.6021700631758276, 0.6017810009369184, 0.5893041186862678, 0.5879468817560584, 0.5998052818528534, 0.6058057483018444, 0.6055319598616037, 0.5812162667331955, 0.6055755635809238, 0.5836253445256071, 0.6094031294589455, 0.5877218514596413, 0.5973397873679466, 0.599194241068136, 0.5974482539753664, 0.6044204399762201, 0.6036334253423079, 0.6089790803141673], [0.5463857501569366, 0.5614949331898484, 0.5465859564164649, 0.5473896959913909, 0.5310828625235405, 0.5352526679221594, 0.5489101874271365, 0.5556320957761636, 0.5426150121065375, 0.5183718948973185, 0.5535904851582817, 0.521642879562371, 0.5588868711326338, 0.5309587480943413, 0.5434293785310734, 0.5435133620303112, 0.5442963635548381, 0.5485558245897229, 0.5461598735539414, 0.5537795713388932], [0.09021168283342659, 0.09430139904037764, 0.09463700212346239, 0.09297293340894486, 0.09187068776812435, 0.09430604555191617, 0.09022845959399307, 0.09330826029391238, 0.08723653333098155, 0.09204974196626448, 0.09477845696104643, 0.09157959732536505, 0.09172223019897426, 0.0965523093046099, 0.09102023991338924, 0.08870094807720685, 0.09547310388915349, 0.09552466619758794, 0.09737818464858616, 0.09323995752296764], [0.06289386187666815, 0.0642246910389244, 0.06572910838129847, 0.06308114421792428, 0.06473999257873272, 0.06408814495692536, 0.06181294790621103, 0.06507117919662143, 0.061850488804800964, 0.06388469310425067, 0.06446151797443159, 0.06542916622789677, 0.062469908582827145, 0.0668232028627534, 0.0649222521380795, 0.06147325029625198, 0.06527792017099188, 0.06620898707386093, 0.06756806099972484, 0.06368742889180712], [0.9910937271866462, 0.9902678969863499, 0.990198503836158, 0.9905401664942676, 0.9907631400108852, 0.990266937903166, 0.9910904142609678, 0.9904718055878915, 0.9916714916916176, 0.9907271000005816, 0.9901691811568442, 0.9908215808930705, 0.990792968324114, 0.9897977548138325, 0.9909333598901797, 0.9913895281937439, 0.9900245496957947, 0.990013771872109, 0.9896224753525427, 0.9904857499885462], [0.9910972238122631, 0.9902746376143698, 0.9902050378472362, 0.9905479826972811, 0.9907736183959428, 0.9902771379422295, 0.9910904282134881, 0.9904912458887698, 0.9916896816795421, 0.9907281140348393, 0.9901714100719615, 0.9908355506809778, 0.9907944970345913, 0.989816703880606, 0.9909378403551925, 0.9913988617857139, 0.9900366567708867, 0.9900178508841343, 0.9896454690150673, 0.9904874970709295]], 0.8: [[0.11573033707865171, 0.11498127340823971, 0.11498127340823974, 0.11498127340823974, 0.11423220973782776, 0.11498127340823971, 0.11610486891385768, 0.1164794007490637, 0.11797752808988769, 0.1168539325842697, 0.11423220973782776, 0.11423220973782774, 0.1161048689138577, 0.11535580524344571, 0.11535580524344571, 0.1157303370786517, 0.11535580524344571, 0.11498127340823971, 0.11498127340823971, 0.11498127340823971], [0.7125468164794008, 0.7097378277153558, 0.7100499375780274, 0.7072409488139825, 0.7072409488139825, 0.7103620474406991, 0.7159800249687891, 0.7184769038701623, 0.7294007490636704, 0.7219101123595506, 0.7066167290886392, 0.7038077403245944, 0.7178526841448191, 0.7147315855181025, 0.7147315855181025, 0.7203495630461922, 0.7125468164794008, 0.7103620474406992, 0.7122347066167292, 0.7078651685393258], [0.511485563042517, 0.5196459510256323, 0.5186332168119291, 0.4863090536953383, 0.5134057410553842, 0.5385445843870789, 0.5214877667213671, 0.5311387773782252, 0.5259869388066536, 0.5087037053431245, 0.5077278998507112, 0.5262097613468434, 0.5177254037505755, 0.5217530271169543, 0.5372558237361768, 0.5129013385543084, 0.506528055292286, 0.511167080861778, 0.5121842598759643, 0.4909515526006116], [0.4317802152071815, 0.44354229831757924, 0.4443615867070923, 0.39901294017398886, 0.43830925628678435, 0.47019058518122187, 0.44494084774983644, 0.45652265025860533, 0.44605131482472304, 0.42571393892554943, 0.4307116104868914, 0.45190243346610387, 0.4394511820541783, 0.4455405445573985, 0.46632706141133107, 0.43371336424707213, 0.42616347621029266, 0.4347480827537007, 0.43496224956899115, 0.40712457642232924], [0.19860390157257107, 0.19311819896828547, 0.204215170835661, 0.20593033357999327, 0.1945122208975474, 0.19439735047822979, 0.1969071743210742, 0.1955592495301137, 0.1995237904921417, 0.19466169964905808, 0.19130977988691425, 0.19748870489241793, 0.1906918595399714, 0.18869164330506377, 0.20108173808987873, 0.1977149936590764, 0.184001421511186, 0.1939479488721307, 0.20419742452819764, 0.19788062921590335], [0.1080752554776585, 0.10760437123346832, 0.11300551649887917, 0.11540233616233414, 0.10685793087294916, 0.10647430249690952, 0.1073738240950874, 0.10561567894748528, 0.10656475163832396, 0.1048715194761802, 0.10307502968754981, 0.10718382282712402, 0.11100571563562739, 0.10182614480675907, 0.10824545224129073, 0.10826048232849618, 0.10199978465262433, 0.10890472407744038, 0.11062671387180584, 0.10976264660234249], [0.961232970384633, 0.9633449868922219, 0.959011410071069, 0.9583200086554744, 0.9628138891790721, 0.9628577971949037, 0.9618925354722134, 0.9624124777627615, 0.9608730182544393, 0.9627567136535008, 0.9640282705649205, 0.9616671157587108, 0.9642602688084412, 0.9650061031289685, 0.9602595999114397, 0.9615792193826056, 0.966724136778991, 0.9630293270208761, 0.9590185335821286, 0.9615148184696839], [0.9613126980353655, 0.9633983858823423, 0.9590678752991213, 0.9583934349555971, 0.9628856731423665, 0.9629417549910501, 0.9619336373214142, 0.9625723635234944, 0.9609311604610512, 0.9628485410384422, 0.9641095386167007, 0.9617298260976077, 0.9643469471206836, 0.9650800331606683, 0.9603825216070085, 0.9616233246525543, 0.9668277051620241, 0.9630441913347875, 0.9591279975940998, 0.961621860826376]], 0.85: [[0.11214574898785426, 0.11376518218623483, 0.11174089068825911, 0.11255060728744941, 0.11417004048582997, 0.11214574898785426, 0.10971659919028341, 0.10728744939271255, 0.11133603238866398, 0.11417004048582997, 0.11740890688259109, 0.11457489878542512, 0.10931174089068826, 0.11457489878542511, 0.1105263157894737, 0.11012145748987856, 0.11133603238866396, 0.11457489878542512, 0.11174089068825911, 0.11012145748987856], [0.7537112010796222, 0.766531713900135, 0.7557354925775978, 0.7564102564102565, 0.7719298245614036, 0.7516869095816464, 0.7307692307692307, 0.7199730094466937, 0.7537112010796222, 0.7692307692307693, 0.7874493927125507, 0.7699055330634278, 0.7375168690958164, 0.7739541160593792, 0.7388663967611336, 0.7361673414304993, 0.7530364372469636, 0.7685560053981108, 0.7537112010796221, 0.7381916329284751], [0.4753873496371472, 0.5008432645691513, 0.4928734310414633, 0.4954356717600162, 0.4671072933029231, 0.5002390292325621, 0.49075367257836044, 0.4803547167652629, 0.4733554531754443, 0.4991085949958727, 0.5010314114592261, 0.5034087120238742, 0.47056492873046224, 0.5002244275535566, 0.4627219463938736, 0.5148378358339613, 0.49126282191497606, 0.48846904551800613, 0.48001504884838275, 0.4808190774022477], [0.37485835314782684, 0.4023255253518412, 0.39466186834607886, 0.39912521688837477, 0.3567355889724311, 0.4074325771694193, 0.3998291669344301, 0.38687450463766254, 0.3706365272154746, 0.3978683353683354, 0.3961736606473448, 0.4056372234003812, 0.3691989053831159, 0.4001756528072318, 0.3618142578668894, 0.430322601375233, 0.39468462823725986, 0.3849923955187113, 0.3797921620290041, 0.38330923462502414], [0.23614971702349966, 0.2299649935307919, 0.22202298092277897, 0.22068805206558528, 0.23017675934120022, 0.21961214818125124, 0.22495135130421182, 0.23397442819122294, 0.23761910045743218, 0.2383071150885044, 0.22878717871419646, 0.2268317906058132, 0.22755880962357705, 0.2212796961865463, 0.22559470428789727, 0.2174514480031579, 0.23095118616471771, 0.22646923275408154, 0.21279957670249372, 0.22473221775850416], [0.15109153690122862, 0.14967864449708093, 0.1409675670482042, 0.14235910453129377, 0.14824547678729344, 0.140306872605741, 0.14328256593876612, 0.14836570299567348, 0.15014047122073573, 0.1528250478882131, 0.1450166843655401, 0.14333993926140265, 0.14535416964965134, 0.1395439391800543, 0.14331147866681018, 0.13459248020947726, 0.14837116797297026, 0.14700032918446926, 0.12860109395225605, 0.14170154303397114], [0.9457197692380016, 0.9485257192104404, 0.9520197302968432, 0.9525949652839699, 0.9484308742382654, 0.953056058980054, 0.9507457127305835, 0.9467151662055151, 0.9450421769749179, 0.9447234607828191, 0.9490516419794621, 0.949918806684917, 0.9495972615547204, 0.9523404476024898, 0.9504635787880974, 0.953975250414858, 0.9480832831320156, 0.95007877384717, 0.9559233736698868, 0.9508416268870022], [0.9457407951113244, 0.9485278736872416, 0.952019958047552, 0.9526013149972701, 0.9484321866326337, 0.953058712986488, 0.9507457797352605, 0.946723381633296, 0.9450788427892529, 0.9447531656642347, 0.9490729369066012, 0.9499480454136088, 0.9496074743937649, 0.9523647634957193, 0.9504713553170441, 0.954001141435506, 0.9480868358488487, 0.9500797723097338, 0.9559237038554456, 0.9508505088975301]], 0.9: [[0.10365296803652967, 0.09954337899543379, 0.10456621004566209, 0.10228310502283104, 0.09771689497716894, 0.10182648401826484, 0.10136986301369862, 0.10639269406392693, 0.09954337899543378, 0.10228310502283103, 0.10091324200913242, 0.09999999999999999, 0.10182648401826483, 0.10182648401826483, 0.10365296803652968, 0.09954337899543378, 0.10273972602739725, 0.09999999999999999, 0.10182648401826483, 0.10136986301369863], [0.7435312024353121, 0.7077625570776256, 0.7503805175038051, 0.7397260273972602, 0.702435312024353, 0.7245053272450533, 0.7229832572298325, 0.7625570776255708, 0.7070015220700151, 0.7321156773211567, 0.7245053272450532, 0.7115677321156773, 0.7229832572298325, 0.7343987823439877, 0.7389649923896499, 0.7127092846270927, 0.7351598173515982, 0.7146118721461188, 0.730593607305936, 0.7222222222222223], [0.41434959106173336, 0.398771513094167, 0.4441942927214441, 0.43320212040928385, 0.3882548526713817, 0.40165657550293, 0.4085750034629538, 0.46632080565146844, 0.4167706726627922, 0.41034375722473887, 0.41207203250353336, 0.425636147011572, 0.4127354414236294, 0.4160793552779583, 0.4443686476444081, 0.42254307966545884, 0.4114096615707943, 0.42729149861910976, 0.4267589501434342, 0.4472481152459631], [0.29861956705564, 0.2901889903602232, 0.33529722645019444, 0.32440657389287525, 0.275200526684545, 0.28846941364064654, 0.29864825686743496, 0.3614934406030297, 0.31160850184822786, 0.29706850523060574, 0.301196818148873, 0.32420499021526417, 0.3029725664999638, 0.3045589620932087, 0.34018808436616654, 0.31901636225266367, 0.2957178190911067, 0.3248194051847019, 0.32021136841342324, 0.3468767364886087], [0.39687367255404504, 0.4090832572009976, 0.4065079837374115, 0.4014662659287925, 0.4102500752719082, 0.4213042410116544, 0.4012777732106691, 0.408275038483324, 0.3953177122587706, 0.40059696755549984, 0.4005566473068314, 0.3922004856210736, 0.40603917301788667, 0.40680299481305787, 0.40535399883882317, 0.3986798911178475, 0.4204473584055718, 0.4074156943831365, 0.39562970707119466, 0.40716286028131116], [0.2077178001459009, 0.22250118533831828, 0.21226369068424458, 0.21150663405004477, 0.22853030016053316, 0.23292189502744196, 0.21531504236546775, 0.2180437013544095, 0.20613377055024376, 0.21181390029162844, 0.21021774288606188, 0.1998969309775579, 0.21780450024205258, 0.22035846187889133, 0.21413303934954223, 0.20418151727050085, 0.23757819817168194, 0.2155170462669946, 0.20860522671786272, 0.21482471278653847], [0.8126887310023697, 0.8009864088404031, 0.8034841948679019, 0.8083285433844368, 0.7998495066688375, 0.788918103299532, 0.8085084847419535, 0.8017720074479449, 0.8141545756706736, 0.8091577004421809, 0.8091961152199, 0.8170739400391075, 0.8039372024119315, 0.8031988603704278, 0.8045983397164944, 0.8109799002419545, 0.7897758609563321, 0.8026055964075645, 0.8138611120222728, 0.8028505184930731], [0.8130644119599555, 0.8019308440707026, 0.8034952150522754, 0.8086905765071015, 0.8007094104918432, 0.7895702278916762, 0.8093914160891713, 0.8020492680308255, 0.8146421905473596, 0.8095517435110293, 0.8096894840365195, 0.8175307401971784, 0.8042928770454284, 0.8039679714578079, 0.8047620836653926, 0.8112533869382186, 0.7903598670442543, 0.802958167122411, 0.8146761819903603, 0.8031583070467454]], 0.95: [[], [], [], [], [], [], [], []]}\n",
            "To obtain a sparsity of 95.0% we need to drop 2486 ratings\n",
            "Took 0.08099044299979141 seconds for prediction.\n",
            "Took 0.08250601800045843 seconds for prediction.\n",
            "Took 0.06988613500016072 seconds for prediction.\n",
            "Took 0.07484962899980019 seconds for prediction.\n",
            "Took 0.06550458699985029 seconds for prediction.\n",
            "Took 0.07733204799933446 seconds for prediction.\n",
            "Took 0.06896329099981813 seconds for prediction.\n",
            "Took 0.10769284500020149 seconds for prediction.\n",
            "Took 0.07716151399927185 seconds for prediction.\n",
            "Took 0.14613242999985232 seconds for prediction.\n",
            "Took 0.17909494400009862 seconds for prediction.\n",
            "Took 0.08772200900057214 seconds for prediction.\n",
            "Took 0.13140178499998 seconds for prediction.\n",
            "Took 0.08360751299915137 seconds for prediction.\n",
            "Took 0.07759500900010607 seconds for prediction.\n",
            "Took 0.07824114100003499 seconds for prediction.\n",
            "Took 0.07635717799985287 seconds for prediction.\n",
            "Took 0.06925482399947214 seconds for prediction.\n",
            "Took 0.07808060699971975 seconds for prediction.\n",
            "Took 0.11733257600008073 seconds for prediction.\n",
            "{0.75: [[0.13084745762711866, 0.13118644067796612, 0.13186440677966105, 0.1328813559322034, 0.13152542372881357, 0.12847457627118647, 0.12881355932203392, 0.13016949152542376, 0.1369491525423729, 0.1338983050847458, 0.13186440677966105, 0.13254237288135592, 0.13016949152542376, 0.13152542372881357, 0.13152542372881357, 0.13186440677966105, 0.13084745762711866, 0.13254237288135595, 0.1338983050847458, 0.1328813559322034], [0.7368361581920905, 0.7313559322033898, 0.7480225988700565, 0.7406779661016949, 0.7384180790960452, 0.7215819209039548, 0.7259887005649717, 0.7331638418079095, 0.7740112994350282, 0.7487005649717514, 0.7370056497175141, 0.745593220338983, 0.730225988700565, 0.7357062146892656, 0.7390960451977401, 0.7410734463276837, 0.7305084745762712, 0.7402259887005649, 0.7466101694915255, 0.7503954802259887], [0.5991463429419942, 0.6097879007747286, 0.6021700631758276, 0.6017810009369184, 0.5893041186862678, 0.5879468817560584, 0.5998052818528534, 0.6058057483018444, 0.6055319598616037, 0.5812162667331955, 0.6055755635809238, 0.5836253445256071, 0.6094031294589455, 0.5877218514596413, 0.5973397873679466, 0.599194241068136, 0.5974482539753664, 0.6044204399762201, 0.6036334253423079, 0.6089790803141673], [0.5463857501569366, 0.5614949331898484, 0.5465859564164649, 0.5473896959913909, 0.5310828625235405, 0.5352526679221594, 0.5489101874271365, 0.5556320957761636, 0.5426150121065375, 0.5183718948973185, 0.5535904851582817, 0.521642879562371, 0.5588868711326338, 0.5309587480943413, 0.5434293785310734, 0.5435133620303112, 0.5442963635548381, 0.5485558245897229, 0.5461598735539414, 0.5537795713388932], [0.09021168283342659, 0.09430139904037764, 0.09463700212346239, 0.09297293340894486, 0.09187068776812435, 0.09430604555191617, 0.09022845959399307, 0.09330826029391238, 0.08723653333098155, 0.09204974196626448, 0.09477845696104643, 0.09157959732536505, 0.09172223019897426, 0.0965523093046099, 0.09102023991338924, 0.08870094807720685, 0.09547310388915349, 0.09552466619758794, 0.09737818464858616, 0.09323995752296764], [0.06289386187666815, 0.0642246910389244, 0.06572910838129847, 0.06308114421792428, 0.06473999257873272, 0.06408814495692536, 0.06181294790621103, 0.06507117919662143, 0.061850488804800964, 0.06388469310425067, 0.06446151797443159, 0.06542916622789677, 0.062469908582827145, 0.0668232028627534, 0.0649222521380795, 0.06147325029625198, 0.06527792017099188, 0.06620898707386093, 0.06756806099972484, 0.06368742889180712], [0.9910937271866462, 0.9902678969863499, 0.990198503836158, 0.9905401664942676, 0.9907631400108852, 0.990266937903166, 0.9910904142609678, 0.9904718055878915, 0.9916714916916176, 0.9907271000005816, 0.9901691811568442, 0.9908215808930705, 0.990792968324114, 0.9897977548138325, 0.9909333598901797, 0.9913895281937439, 0.9900245496957947, 0.990013771872109, 0.9896224753525427, 0.9904857499885462], [0.9910972238122631, 0.9902746376143698, 0.9902050378472362, 0.9905479826972811, 0.9907736183959428, 0.9902771379422295, 0.9910904282134881, 0.9904912458887698, 0.9916896816795421, 0.9907281140348393, 0.9901714100719615, 0.9908355506809778, 0.9907944970345913, 0.989816703880606, 0.9909378403551925, 0.9913988617857139, 0.9900366567708867, 0.9900178508841343, 0.9896454690150673, 0.9904874970709295]], 0.8: [[0.11573033707865171, 0.11498127340823971, 0.11498127340823974, 0.11498127340823974, 0.11423220973782776, 0.11498127340823971, 0.11610486891385768, 0.1164794007490637, 0.11797752808988769, 0.1168539325842697, 0.11423220973782776, 0.11423220973782774, 0.1161048689138577, 0.11535580524344571, 0.11535580524344571, 0.1157303370786517, 0.11535580524344571, 0.11498127340823971, 0.11498127340823971, 0.11498127340823971], [0.7125468164794008, 0.7097378277153558, 0.7100499375780274, 0.7072409488139825, 0.7072409488139825, 0.7103620474406991, 0.7159800249687891, 0.7184769038701623, 0.7294007490636704, 0.7219101123595506, 0.7066167290886392, 0.7038077403245944, 0.7178526841448191, 0.7147315855181025, 0.7147315855181025, 0.7203495630461922, 0.7125468164794008, 0.7103620474406992, 0.7122347066167292, 0.7078651685393258], [0.511485563042517, 0.5196459510256323, 0.5186332168119291, 0.4863090536953383, 0.5134057410553842, 0.5385445843870789, 0.5214877667213671, 0.5311387773782252, 0.5259869388066536, 0.5087037053431245, 0.5077278998507112, 0.5262097613468434, 0.5177254037505755, 0.5217530271169543, 0.5372558237361768, 0.5129013385543084, 0.506528055292286, 0.511167080861778, 0.5121842598759643, 0.4909515526006116], [0.4317802152071815, 0.44354229831757924, 0.4443615867070923, 0.39901294017398886, 0.43830925628678435, 0.47019058518122187, 0.44494084774983644, 0.45652265025860533, 0.44605131482472304, 0.42571393892554943, 0.4307116104868914, 0.45190243346610387, 0.4394511820541783, 0.4455405445573985, 0.46632706141133107, 0.43371336424707213, 0.42616347621029266, 0.4347480827537007, 0.43496224956899115, 0.40712457642232924], [0.19860390157257107, 0.19311819896828547, 0.204215170835661, 0.20593033357999327, 0.1945122208975474, 0.19439735047822979, 0.1969071743210742, 0.1955592495301137, 0.1995237904921417, 0.19466169964905808, 0.19130977988691425, 0.19748870489241793, 0.1906918595399714, 0.18869164330506377, 0.20108173808987873, 0.1977149936590764, 0.184001421511186, 0.1939479488721307, 0.20419742452819764, 0.19788062921590335], [0.1080752554776585, 0.10760437123346832, 0.11300551649887917, 0.11540233616233414, 0.10685793087294916, 0.10647430249690952, 0.1073738240950874, 0.10561567894748528, 0.10656475163832396, 0.1048715194761802, 0.10307502968754981, 0.10718382282712402, 0.11100571563562739, 0.10182614480675907, 0.10824545224129073, 0.10826048232849618, 0.10199978465262433, 0.10890472407744038, 0.11062671387180584, 0.10976264660234249], [0.961232970384633, 0.9633449868922219, 0.959011410071069, 0.9583200086554744, 0.9628138891790721, 0.9628577971949037, 0.9618925354722134, 0.9624124777627615, 0.9608730182544393, 0.9627567136535008, 0.9640282705649205, 0.9616671157587108, 0.9642602688084412, 0.9650061031289685, 0.9602595999114397, 0.9615792193826056, 0.966724136778991, 0.9630293270208761, 0.9590185335821286, 0.9615148184696839], [0.9613126980353655, 0.9633983858823423, 0.9590678752991213, 0.9583934349555971, 0.9628856731423665, 0.9629417549910501, 0.9619336373214142, 0.9625723635234944, 0.9609311604610512, 0.9628485410384422, 0.9641095386167007, 0.9617298260976077, 0.9643469471206836, 0.9650800331606683, 0.9603825216070085, 0.9616233246525543, 0.9668277051620241, 0.9630441913347875, 0.9591279975940998, 0.961621860826376]], 0.85: [[0.11214574898785426, 0.11376518218623483, 0.11174089068825911, 0.11255060728744941, 0.11417004048582997, 0.11214574898785426, 0.10971659919028341, 0.10728744939271255, 0.11133603238866398, 0.11417004048582997, 0.11740890688259109, 0.11457489878542512, 0.10931174089068826, 0.11457489878542511, 0.1105263157894737, 0.11012145748987856, 0.11133603238866396, 0.11457489878542512, 0.11174089068825911, 0.11012145748987856], [0.7537112010796222, 0.766531713900135, 0.7557354925775978, 0.7564102564102565, 0.7719298245614036, 0.7516869095816464, 0.7307692307692307, 0.7199730094466937, 0.7537112010796222, 0.7692307692307693, 0.7874493927125507, 0.7699055330634278, 0.7375168690958164, 0.7739541160593792, 0.7388663967611336, 0.7361673414304993, 0.7530364372469636, 0.7685560053981108, 0.7537112010796221, 0.7381916329284751], [0.4753873496371472, 0.5008432645691513, 0.4928734310414633, 0.4954356717600162, 0.4671072933029231, 0.5002390292325621, 0.49075367257836044, 0.4803547167652629, 0.4733554531754443, 0.4991085949958727, 0.5010314114592261, 0.5034087120238742, 0.47056492873046224, 0.5002244275535566, 0.4627219463938736, 0.5148378358339613, 0.49126282191497606, 0.48846904551800613, 0.48001504884838275, 0.4808190774022477], [0.37485835314782684, 0.4023255253518412, 0.39466186834607886, 0.39912521688837477, 0.3567355889724311, 0.4074325771694193, 0.3998291669344301, 0.38687450463766254, 0.3706365272154746, 0.3978683353683354, 0.3961736606473448, 0.4056372234003812, 0.3691989053831159, 0.4001756528072318, 0.3618142578668894, 0.430322601375233, 0.39468462823725986, 0.3849923955187113, 0.3797921620290041, 0.38330923462502414], [0.23614971702349966, 0.2299649935307919, 0.22202298092277897, 0.22068805206558528, 0.23017675934120022, 0.21961214818125124, 0.22495135130421182, 0.23397442819122294, 0.23761910045743218, 0.2383071150885044, 0.22878717871419646, 0.2268317906058132, 0.22755880962357705, 0.2212796961865463, 0.22559470428789727, 0.2174514480031579, 0.23095118616471771, 0.22646923275408154, 0.21279957670249372, 0.22473221775850416], [0.15109153690122862, 0.14967864449708093, 0.1409675670482042, 0.14235910453129377, 0.14824547678729344, 0.140306872605741, 0.14328256593876612, 0.14836570299567348, 0.15014047122073573, 0.1528250478882131, 0.1450166843655401, 0.14333993926140265, 0.14535416964965134, 0.1395439391800543, 0.14331147866681018, 0.13459248020947726, 0.14837116797297026, 0.14700032918446926, 0.12860109395225605, 0.14170154303397114], [0.9457197692380016, 0.9485257192104404, 0.9520197302968432, 0.9525949652839699, 0.9484308742382654, 0.953056058980054, 0.9507457127305835, 0.9467151662055151, 0.9450421769749179, 0.9447234607828191, 0.9490516419794621, 0.949918806684917, 0.9495972615547204, 0.9523404476024898, 0.9504635787880974, 0.953975250414858, 0.9480832831320156, 0.95007877384717, 0.9559233736698868, 0.9508416268870022], [0.9457407951113244, 0.9485278736872416, 0.952019958047552, 0.9526013149972701, 0.9484321866326337, 0.953058712986488, 0.9507457797352605, 0.946723381633296, 0.9450788427892529, 0.9447531656642347, 0.9490729369066012, 0.9499480454136088, 0.9496074743937649, 0.9523647634957193, 0.9504713553170441, 0.954001141435506, 0.9480868358488487, 0.9500797723097338, 0.9559237038554456, 0.9508505088975301]], 0.9: [[0.10365296803652967, 0.09954337899543379, 0.10456621004566209, 0.10228310502283104, 0.09771689497716894, 0.10182648401826484, 0.10136986301369862, 0.10639269406392693, 0.09954337899543378, 0.10228310502283103, 0.10091324200913242, 0.09999999999999999, 0.10182648401826483, 0.10182648401826483, 0.10365296803652968, 0.09954337899543378, 0.10273972602739725, 0.09999999999999999, 0.10182648401826483, 0.10136986301369863], [0.7435312024353121, 0.7077625570776256, 0.7503805175038051, 0.7397260273972602, 0.702435312024353, 0.7245053272450533, 0.7229832572298325, 0.7625570776255708, 0.7070015220700151, 0.7321156773211567, 0.7245053272450532, 0.7115677321156773, 0.7229832572298325, 0.7343987823439877, 0.7389649923896499, 0.7127092846270927, 0.7351598173515982, 0.7146118721461188, 0.730593607305936, 0.7222222222222223], [0.41434959106173336, 0.398771513094167, 0.4441942927214441, 0.43320212040928385, 0.3882548526713817, 0.40165657550293, 0.4085750034629538, 0.46632080565146844, 0.4167706726627922, 0.41034375722473887, 0.41207203250353336, 0.425636147011572, 0.4127354414236294, 0.4160793552779583, 0.4443686476444081, 0.42254307966545884, 0.4114096615707943, 0.42729149861910976, 0.4267589501434342, 0.4472481152459631], [0.29861956705564, 0.2901889903602232, 0.33529722645019444, 0.32440657389287525, 0.275200526684545, 0.28846941364064654, 0.29864825686743496, 0.3614934406030297, 0.31160850184822786, 0.29706850523060574, 0.301196818148873, 0.32420499021526417, 0.3029725664999638, 0.3045589620932087, 0.34018808436616654, 0.31901636225266367, 0.2957178190911067, 0.3248194051847019, 0.32021136841342324, 0.3468767364886087], [0.39687367255404504, 0.4090832572009976, 0.4065079837374115, 0.4014662659287925, 0.4102500752719082, 0.4213042410116544, 0.4012777732106691, 0.408275038483324, 0.3953177122587706, 0.40059696755549984, 0.4005566473068314, 0.3922004856210736, 0.40603917301788667, 0.40680299481305787, 0.40535399883882317, 0.3986798911178475, 0.4204473584055718, 0.4074156943831365, 0.39562970707119466, 0.40716286028131116], [0.2077178001459009, 0.22250118533831828, 0.21226369068424458, 0.21150663405004477, 0.22853030016053316, 0.23292189502744196, 0.21531504236546775, 0.2180437013544095, 0.20613377055024376, 0.21181390029162844, 0.21021774288606188, 0.1998969309775579, 0.21780450024205258, 0.22035846187889133, 0.21413303934954223, 0.20418151727050085, 0.23757819817168194, 0.2155170462669946, 0.20860522671786272, 0.21482471278653847], [0.8126887310023697, 0.8009864088404031, 0.8034841948679019, 0.8083285433844368, 0.7998495066688375, 0.788918103299532, 0.8085084847419535, 0.8017720074479449, 0.8141545756706736, 0.8091577004421809, 0.8091961152199, 0.8170739400391075, 0.8039372024119315, 0.8031988603704278, 0.8045983397164944, 0.8109799002419545, 0.7897758609563321, 0.8026055964075645, 0.8138611120222728, 0.8028505184930731], [0.8130644119599555, 0.8019308440707026, 0.8034952150522754, 0.8086905765071015, 0.8007094104918432, 0.7895702278916762, 0.8093914160891713, 0.8020492680308255, 0.8146421905473596, 0.8095517435110293, 0.8096894840365195, 0.8175307401971784, 0.8042928770454284, 0.8039679714578079, 0.8047620836653926, 0.8112533869382186, 0.7903598670442543, 0.802958167122411, 0.8146761819903603, 0.8031583070467454]], 0.95: [[0.09214659685863871, 0.09267015706806281, 0.0869109947643979, 0.09005235602094239, 0.09214659685863873, 0.09109947643979056, 0.09214659685863875, 0.09057591623036648, 0.09162303664921466, 0.09162303664921466, 0.09109947643979056, 0.09109947643979056, 0.09424083769633508, 0.09267015706806284, 0.09371727748691099, 0.09528795811518323, 0.09371727748691097, 0.09528795811518323, 0.09109947643979056, 0.0869109947643979], [0.6884816753926701, 0.6736474694589877, 0.6431064572425829, 0.6666666666666666, 0.6910994764397905, 0.6719022687609074, 0.6797556719022688, 0.6649214659685864, 0.6832460732984293, 0.6719022687609074, 0.6762652705061083, 0.6972076788830717, 0.6972076788830717, 0.680628272251309, 0.6876090750436301, 0.6980802792321117, 0.700698080279232, 0.7041884816753927, 0.6771378708551484, 0.6544502617801047], [0.3715643682027261, 0.3376817291025052, 0.33721226983160585, 0.33411363655939236, 0.35742895792280743, 0.33508682017959074, 0.32872145733766867, 0.32477113066295593, 0.3504157488792227, 0.35327967514137015, 0.341956009381997, 0.35202827691446403, 0.3288835664948712, 0.36313326628816506, 0.34322310885601215, 0.3352544866107136, 0.32181056693971893, 0.3459777876190286, 0.34825419411897324, 0.3298836006834418], [0.2653231391451287, 0.22270907781378982, 0.2317397988863957, 0.22140156237014874, 0.24628937089670072, 0.22120972880135184, 0.21007576387157537, 0.21162982354081836, 0.23690580071470124, 0.24281662926950884, 0.22920614144436138, 0.23898584448322668, 0.2058020997811574, 0.25487132607551455, 0.2296787999667581, 0.2145731183689299, 0.19713842488711597, 0.22648792210310537, 0.2364885453890689, 0.22132226654477963], [0.41773993112964886, 0.43603049093789614, 0.4338140440694941, 0.40588982485069874, 0.4256481561252877, 0.43769584914766074, 0.4541584962850702, 0.455994630122301, 0.4479329279243744, 0.45588428739088593, 0.421029614780491, 0.4068509381798533, 0.47614278622499884, 0.45698033467248256, 0.4792238887444002, 0.45971619983805084, 0.4649821576891739, 0.4253503308481992, 0.41874504024144205, 0.40427048916911984], [0.27832361905078445, 0.28915079037021035, 0.2883808522667388, 0.27514887444279573, 0.29466074648924967, 0.28321866934781925, 0.30796114898204235, 0.31415323670677553, 0.2939200470189994, 0.30342008786972874, 0.2915443664608574, 0.2705428856211007, 0.3251023355248136, 0.29718670558010263, 0.3217472350170433, 0.31607173763218016, 0.3056410035546325, 0.29566704248170306, 0.2791466856185833, 0.2746221401073224], [0.832763287410041, 0.8177979076035853, 0.8196455529165539, 0.8421167823162794, 0.8263714441082461, 0.816403458295345, 0.8023328380291285, 0.8007312956336107, 0.8077149062801707, 0.8008277230532991, 0.8301189526707031, 0.8413681884178876, 0.7827328546480337, 0.7998688628234698, 0.779911901471384, 0.7974653861048693, 0.7927988234065577, 0.8266143343028167, 0.8319575547033751, 0.8433740492426578], [0.8353848627434225, 0.8199518743857804, 0.8206797091103482, 0.8440400890788727, 0.8282328599765776, 0.8192041323833151, 0.8049588484423185, 0.8027034442850387, 0.81112979432527, 0.8046520729733397, 0.8316275272105141, 0.8428305967797817, 0.7857462510438457, 0.8040065498216186, 0.7835241347232356, 0.8002224092913777, 0.7962888302420007, 0.8278297934655349, 0.8342970062626469, 0.8445178236361426]]}\n"
          ]
        }
      ],
      "source": [
        "for spar in spt:     \n",
        "    train, test = data_loading_pipeline(\"../data/AMAZON_FASHION_5.71.268.json\", spar)\n",
        "    \n",
        "    reader = Reader(rating_scale=(1,5))\n",
        "    train_set = Dataset.load_from_df(train[['userID', 'itemID', 'rating']], reader)\n",
        "\n",
        "    param_grid = {'n_factors':[100,150,200],'n_epochs': [20,30,40,50,60,70,80]}\n",
        "    gs = GridSearchCV(SVD, param_grid, measures=['rmse'], cv=5)\n",
        "    gs.fit(train_set)\n",
        "    \n",
        "    for inter in range(20):\n",
        "        np.random.seed(inter)\n",
        "\n",
        "        sim_options = {'name': 'pearson_baseline', 'user_based': False }\n",
        "\n",
        "        #svd = gs.best_estimator['rmse']\n",
        "        svd = SVD(n_factors =gs.best_params['rmse']['n_factors'],n_epochs=gs.best_params['rmse']['n_epochs'])\n",
        "        trainset = train_set.build_full_trainset()\n",
        "        svd.fit(trainset)\n",
        "\n",
        "        predictions = predict(svd, test, usercol='userID', itemcol='itemID')\n",
        "\n",
        "        with Timer() as test_time:\n",
        "            all_predictions = compute_ranking_predictions(svd, train, usercol='userID', itemcol='itemID', remove_seen=True)\n",
        "    \n",
        "        print(\"Took {} seconds for prediction.\".format(test_time.interval))\n",
        "\n",
        "        k=10\n",
        "\n",
        "        \n",
        "        precisions = precision_at_k(test, all_predictions, col_prediction='prediction', k=k)\n",
        "        recalls = recall_at_k(test, all_predictions, col_prediction='prediction', k=k)\n",
        "        ndcg_val = ndcg_at_k(test, all_predictions, col_prediction='prediction', k=k)\n",
        "        map_val = map_at_k(test, all_predictions, col_prediction='prediction', k=k)\n",
        "\n",
        "        results[round(spar,2)][0].append(precisions)\n",
        "        results[round(spar,2)][1].append(recalls)\n",
        "        results[round(spar,2)][2].append(ndcg_val)\n",
        "        results[round(spar,2)][3].append(map_val)\n",
        "        \n",
        "        eval_rmse = rmse(test, predictions)\n",
        "        eval_mae = mae(test, predictions)\n",
        "        eval_rsquared = rsquared(test, predictions)\n",
        "        eval_exp_var = exp_var(test, predictions)\n",
        "\n",
        "        results[round(spar,2)][4].append(eval_rmse)\n",
        "        results[round(spar,2)][5].append(eval_mae)\n",
        "        results[round(spar,2)][6].append(eval_rsquared)\n",
        "        results[round(spar,2)][7].append(eval_exp_var)\n",
        "\n",
        "    print(results)"
      ]
    },
    {
      "cell_type": "code",
      "execution_count": 7,
      "id": "5b375066",
      "metadata": {
        "colab": {
          "base_uri": "https://localhost:8080/"
        },
        "id": "5b375066",
        "outputId": "8e8fed0c-4271-4aa7-d9f4-880f5163a0fb"
      },
      "outputs": [
        {
          "output_type": "stream",
          "name": "stdout",
          "text": [
            "[0.13181355932203392, 0.11543071161048694, 0.11216599190283402, 0.10164383561643835, 0.09180628272251308] \n",
            " [0.7397598870056498, 0.7132022471910113, 0.7543522267206477, 0.7270357686453577, 0.6804101221640488] \n",
            " [0.5989918341045277, 0.515987275062673, 0.48844068663683854, 0.4214291056784377, 0.34203403288636147] \n",
            " [0.5439267206976953, 0.43855351074054266, 0.38982241929610356, 0.31303820576937014, 0.22823275921770683]\n"
          ]
        }
      ],
      "source": [
        "r_pres = []\n",
        "r_recl = []\n",
        "r_ndcg = []\n",
        "r_maps = []\n",
        "r_rmse = []\n",
        "r_mae = []\n",
        "r_rsquared = []\n",
        "r_expvar = []\n",
        "for i in results:\n",
        "    r_pres.append(np.mean(results[i][0]))\n",
        "    r_recl.append(np.mean(results[i][1]))\n",
        "    r_ndcg.append(np.mean(results[i][2]))\n",
        "    r_maps.append(np.mean(results[i][3]))\n",
        "    \n",
        "    r_rmse.append(np.mean(results[i][4]))\n",
        "    r_mae.append(np.mean(results[i][5]))\n",
        "    r_rsquared.append(np.mean(results[i][6]))\n",
        "    r_expvar.append(np.mean(results[i][7]))\n",
        "print(r_pres,'\\n', r_recl,'\\n', r_ndcg, '\\n', r_maps)"
      ]
    },
    {
      "cell_type": "code",
      "execution_count": 8,
      "id": "0641b4f8",
      "metadata": {
        "colab": {
          "base_uri": "https://localhost:8080/"
        },
        "id": "0641b4f8",
        "outputId": "eaad5ae3-523b-42d6-988d-2962e1e43dd0"
      },
      "outputs": [
        {
          "output_type": "execute_result",
          "data": {
            "text/plain": [
              "[0.9905571052069655,\n",
              " 0.9621301600463529,\n",
              " 0.9498923839251013,\n",
              " 0.8052962851122645,\n",
              " 0.8146458051719009]"
            ]
          },
          "metadata": {},
          "execution_count": 8
        }
      ],
      "source": [
        "r_rsquared"
      ]
    },
    {
      "cell_type": "code",
      "execution_count": 10,
      "id": "83687a00",
      "metadata": {
        "colab": {
          "base_uri": "https://localhost:8080/",
          "height": 301
        },
        "id": "83687a00",
        "outputId": "441f2591-e42a-409f-f2ea-1539b3854c97"
      },
      "outputs": [
        {
          "output_type": "display_data",
          "data": {
            "image/png": "[encoded data removed]",
            "text/plain": [
              "<Figure size 432x288 with 1 Axes>"
            ]
          },
          "metadata": {}
        }
      ],
      "source": [
        "sns.set(style='whitegrid')\n",
        "plt.plot(spt,r_pres,label=\"precision@10\", marker = \"o\")\n",
        "plt.plot(spt,r_recl,label=\"recall@10\", marker = \"o\")\n",
        "plt.plot(spt,r_ndcg,label=\"ndcg@10\", marker = \"o\")\n",
        "plt.plot(spt,r_maps,label=\"map@10\", marker = \"o\")\n",
        "plt.plot(spt,r_rmse,label=\"rmse\", marker = \"o\")\n",
        "plt.plot(spt,r_mae,label=\"mae\", marker = \"o\")\n",
        "plt.plot(spt,r_rsquared,label=\"rsquared\", marker = \"o\")\n",
        "plt.plot(spt,r_expvar,label=\"exp_var\", marker = \"o\")\n",
        "\n",
        "\n",
        "plt.title(\"Metrics as function of Sparsity for SVD\")\n",
        "plt.xlabel(\"Sparsity %\")\n",
        "plt.legend()\n",
        "plt.savefig(\"../results/metrics_over_sparsity_svd.png\")\n",
        "\n",
        "plt.show()"
      ]
    },
    {
      "cell_type": "code",
      "execution_count": 11,
      "id": "7bd6dfa2",
      "metadata": {
        "id": "7bd6dfa2"
      },
      "outputs": [],
      "source": [
        "import json\n",
        "\n",
        "with open(\"../results/results_svd.json\", \"w\") as op:\n",
        "    json.dump(results, op)"
      ]
    }
  ],
  "metadata": {
    "colab": {
      "collapsed_sections": [],
      "name": "SVD_11_12 (1).ipynb",
      "provenance": []
    },
    "kernelspec": {
      "display_name": "Python 3",
      "language": "python",
      "name": "python3"
    },
    "language_info": {
      "codemirror_mode": {
        "name": "ipython",
        "version": 3
      },
      "file_extension": ".py",
      "mimetype": "text/x-python",
      "name": "python",
      "nbconvert_exporter": "python",
      "pygments_lexer": "ipython3",
      "version": "3.7.11"
    }
  },
  "nbformat": 4,
  "nbformat_minor": 5
}