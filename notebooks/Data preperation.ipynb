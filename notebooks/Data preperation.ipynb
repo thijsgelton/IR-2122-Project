{
 "cells": [
  {
   "cell_type": "code",
   "execution_count": 1,
   "id": "d1511d0e-abff-4c34-b3fa-b06b07667f75",
   "metadata": {},
   "outputs": [],
   "source": [
    "import pandas as pd\n",
    "import json"
   ]
  },
  {
   "cell_type": "code",
   "execution_count": 2,
   "id": "b815ed8b-7299-45c2-bdfb-013bbf7e0bc9",
   "metadata": {},
   "outputs": [],
   "source": [
    "FILE = \"../data/AMAZON_FASHION_5.json\""
   ]
  },
  {
   "cell_type": "code",
   "execution_count": 3,
   "id": "81d35778-71f3-4c4b-978f-de989128a668",
   "metadata": {},
   "outputs": [],
   "source": [
    "df = pd.DataFrame()"
   ]
  },
  {
   "cell_type": "code",
   "execution_count": 62,
   "id": "ea7c9fd8-c8c1-49b4-8ac3-d365266bda20",
   "metadata": {},
   "outputs": [],
   "source": [
    "with open(FILE, 'r') as f:\n",
    "    for json_line in f.readlines():\n",
    "        line = json.loads(json_line)\n",
    "        if line.get(\"style\"):\n",
    "            for key, value in line.pop(\"style\").items():\n",
    "                line[f\"style.{key}\"] = value\n",
    "        df = df.append(line, ignore_index=True)"
   ]
  },
  {
   "cell_type": "code",
   "execution_count": 63,
   "id": "676c2187-722e-4e35-8258-5922f717575a",
   "metadata": {},
   "outputs": [],
   "source": [
    "reviews_by_user = df.groupby(by=\"reviewerID\").count()"
   ]
  },
  {
   "cell_type": "code",
   "execution_count": 64,
   "id": "0cd7b71b-52b7-492f-adca-8d71d913157e",
   "metadata": {},
   "outputs": [
    {
     "data": {
      "text/plain": [
       "overall             16\n",
       "verified            16\n",
       "reviewTime          16\n",
       "asin                16\n",
       "reviewerName        16\n",
       "reviewText          16\n",
       "summary             16\n",
       "unixReviewTime      16\n",
       "style.Size:         16\n",
       "style.Color:        16\n",
       "style.Size Name:     1\n",
       "style.Style:         1\n",
       "vote                16\n",
       "image               16\n",
       "dtype: int64"
      ]
     },
     "execution_count": 64,
     "metadata": {},
     "output_type": "execute_result"
    }
   ],
   "source": [
    "reviews_by_user.max()"
   ]
  },
  {
   "cell_type": "code",
   "execution_count": 65,
   "id": "6a8da009-205b-44a8-a5bd-1eca229270a3",
   "metadata": {},
   "outputs": [
    {
     "data": {
      "text/plain": [
       "overall             4\n",
       "verified            4\n",
       "reviewTime          4\n",
       "asin                4\n",
       "reviewerName        4\n",
       "reviewText          0\n",
       "summary             4\n",
       "unixReviewTime      4\n",
       "style.Size:         0\n",
       "style.Color:        0\n",
       "style.Size Name:    0\n",
       "style.Style:        0\n",
       "vote                0\n",
       "image               0\n",
       "dtype: int64"
      ]
     },
     "execution_count": 65,
     "metadata": {},
     "output_type": "execute_result"
    }
   ],
   "source": [
    "reviews_by_user.min()"
   ]
  },
  {
   "cell_type": "code",
   "execution_count": 66,
   "id": "6f1ccc1d-4d70-4a00-a510-750279007ce6",
   "metadata": {},
   "outputs": [],
   "source": [
    "df.to_json(\"../data/AMAZON_FASION_5_formatted.json\")"
   ]
  },
  {
   "cell_type": "code",
   "execution_count": 32,
   "id": "8d200d9e-4f29-4199-9523-f14b3193acc9",
   "metadata": {},
   "outputs": [],
   "source": [
    "df = pd.read_json(\"../data/AMAZON_FASION_5_formatted.json\")"
   ]
  },
  {
   "cell_type": "code",
   "execution_count": 33,
   "id": "118a751b-3525-4926-80ae-31940b3f9fb4",
   "metadata": {},
   "outputs": [
    {
     "data": {
      "text/html": [
       "<div>\n",
       "<style scoped>\n",
       "    .dataframe tbody tr th:only-of-type {\n",
       "        vertical-align: middle;\n",
       "    }\n",
       "\n",
       "    .dataframe tbody tr th {\n",
       "        vertical-align: top;\n",
       "    }\n",
       "\n",
       "    .dataframe thead th {\n",
       "        text-align: right;\n",
       "    }\n",
       "</style>\n",
       "<table border=\"1\" class=\"dataframe\">\n",
       "  <thead>\n",
       "    <tr style=\"text-align: right;\">\n",
       "      <th></th>\n",
       "      <th>overall</th>\n",
       "      <th>verified</th>\n",
       "      <th>reviewTime</th>\n",
       "      <th>reviewerID</th>\n",
       "      <th>asin</th>\n",
       "      <th>reviewerName</th>\n",
       "      <th>reviewText</th>\n",
       "      <th>summary</th>\n",
       "      <th>unixReviewTime</th>\n",
       "      <th>style.Size:</th>\n",
       "      <th>style.Color:</th>\n",
       "      <th>style.Size Name:</th>\n",
       "      <th>style.Style:</th>\n",
       "      <th>vote</th>\n",
       "      <th>image</th>\n",
       "    </tr>\n",
       "  </thead>\n",
       "  <tbody>\n",
       "    <tr>\n",
       "      <th>0</th>\n",
       "      <td>5</td>\n",
       "      <td>1</td>\n",
       "      <td>09 4, 2015</td>\n",
       "      <td>ALJ66O1Y6SLHA</td>\n",
       "      <td>B000K2PJ4K</td>\n",
       "      <td>Tonya B.</td>\n",
       "      <td>Great product and price!</td>\n",
       "      <td>Five Stars</td>\n",
       "      <td>1441324800</td>\n",
       "      <td>Big Boys</td>\n",
       "      <td>Blue/Orange</td>\n",
       "      <td>None</td>\n",
       "      <td>None</td>\n",
       "      <td>NaN</td>\n",
       "      <td>None</td>\n",
       "    </tr>\n",
       "    <tr>\n",
       "      <th>1</th>\n",
       "      <td>5</td>\n",
       "      <td>1</td>\n",
       "      <td>09 4, 2015</td>\n",
       "      <td>ALJ66O1Y6SLHA</td>\n",
       "      <td>B000K2PJ4K</td>\n",
       "      <td>Tonya B.</td>\n",
       "      <td>Great product and price!</td>\n",
       "      <td>Five Stars</td>\n",
       "      <td>1441324800</td>\n",
       "      <td>Big Boys</td>\n",
       "      <td>Black (37467610) / Red/White</td>\n",
       "      <td>None</td>\n",
       "      <td>None</td>\n",
       "      <td>NaN</td>\n",
       "      <td>None</td>\n",
       "    </tr>\n",
       "    <tr>\n",
       "      <th>2</th>\n",
       "      <td>5</td>\n",
       "      <td>1</td>\n",
       "      <td>09 4, 2015</td>\n",
       "      <td>ALJ66O1Y6SLHA</td>\n",
       "      <td>B000K2PJ4K</td>\n",
       "      <td>Tonya B.</td>\n",
       "      <td>Great product and price!</td>\n",
       "      <td>Five Stars</td>\n",
       "      <td>1441324800</td>\n",
       "      <td>Big Boys</td>\n",
       "      <td>Blue/Gray Logo</td>\n",
       "      <td>None</td>\n",
       "      <td>None</td>\n",
       "      <td>NaN</td>\n",
       "      <td>None</td>\n",
       "    </tr>\n",
       "    <tr>\n",
       "      <th>3</th>\n",
       "      <td>5</td>\n",
       "      <td>1</td>\n",
       "      <td>09 4, 2015</td>\n",
       "      <td>ALJ66O1Y6SLHA</td>\n",
       "      <td>B000K2PJ4K</td>\n",
       "      <td>Tonya B.</td>\n",
       "      <td>Great product and price!</td>\n",
       "      <td>Five Stars</td>\n",
       "      <td>1441324800</td>\n",
       "      <td>Big Boys</td>\n",
       "      <td>Blue (37867638-99) / Yellow</td>\n",
       "      <td>None</td>\n",
       "      <td>None</td>\n",
       "      <td>NaN</td>\n",
       "      <td>None</td>\n",
       "    </tr>\n",
       "    <tr>\n",
       "      <th>4</th>\n",
       "      <td>5</td>\n",
       "      <td>1</td>\n",
       "      <td>09 4, 2015</td>\n",
       "      <td>ALJ66O1Y6SLHA</td>\n",
       "      <td>B000K2PJ4K</td>\n",
       "      <td>Tonya B.</td>\n",
       "      <td>Great product and price!</td>\n",
       "      <td>Five Stars</td>\n",
       "      <td>1441324800</td>\n",
       "      <td>Big Boys</td>\n",
       "      <td>Blue/Pink</td>\n",
       "      <td>None</td>\n",
       "      <td>None</td>\n",
       "      <td>NaN</td>\n",
       "      <td>None</td>\n",
       "    </tr>\n",
       "    <tr>\n",
       "      <th>...</th>\n",
       "      <td>...</td>\n",
       "      <td>...</td>\n",
       "      <td>...</td>\n",
       "      <td>...</td>\n",
       "      <td>...</td>\n",
       "      <td>...</td>\n",
       "      <td>...</td>\n",
       "      <td>...</td>\n",
       "      <td>...</td>\n",
       "      <td>...</td>\n",
       "      <td>...</td>\n",
       "      <td>...</td>\n",
       "      <td>...</td>\n",
       "      <td>...</td>\n",
       "      <td>...</td>\n",
       "    </tr>\n",
       "    <tr>\n",
       "      <th>3171</th>\n",
       "      <td>5</td>\n",
       "      <td>1</td>\n",
       "      <td>07 2, 2018</td>\n",
       "      <td>A2077NII5H62R2</td>\n",
       "      <td>B005AGO4LU</td>\n",
       "      <td>Amazon Customer</td>\n",
       "      <td>Perfect fit!</td>\n",
       "      <td>Five Stars</td>\n",
       "      <td>1530489600</td>\n",
       "      <td>8.5 B(M) US</td>\n",
       "      <td>Green Glow/Seaweed - Hasta - White</td>\n",
       "      <td>None</td>\n",
       "      <td>None</td>\n",
       "      <td>NaN</td>\n",
       "      <td>None</td>\n",
       "    </tr>\n",
       "    <tr>\n",
       "      <th>3172</th>\n",
       "      <td>5</td>\n",
       "      <td>1</td>\n",
       "      <td>06 28, 2018</td>\n",
       "      <td>A2IBS6PIPAGAB5</td>\n",
       "      <td>B005AGO4LU</td>\n",
       "      <td>J. Avila</td>\n",
       "      <td>My favorite cross trainers!</td>\n",
       "      <td>Comfortable</td>\n",
       "      <td>1530144000</td>\n",
       "      <td>5 B(M) US</td>\n",
       "      <td>Wolf Grey/Black-pink Blast/White</td>\n",
       "      <td>None</td>\n",
       "      <td>None</td>\n",
       "      <td>NaN</td>\n",
       "      <td>None</td>\n",
       "    </tr>\n",
       "    <tr>\n",
       "      <th>3173</th>\n",
       "      <td>5</td>\n",
       "      <td>1</td>\n",
       "      <td>06 25, 2018</td>\n",
       "      <td>A1GTC5EVSJNCQ8</td>\n",
       "      <td>B005AGO4LU</td>\n",
       "      <td>Amazon Customer</td>\n",
       "      <td>Love them fit perfect</td>\n",
       "      <td>Five Stars</td>\n",
       "      <td>1529884800</td>\n",
       "      <td>8 B(M) US</td>\n",
       "      <td>Blue Tint/Green Glow/Hasta/White</td>\n",
       "      <td>None</td>\n",
       "      <td>None</td>\n",
       "      <td>NaN</td>\n",
       "      <td>None</td>\n",
       "    </tr>\n",
       "    <tr>\n",
       "      <th>3174</th>\n",
       "      <td>5</td>\n",
       "      <td>1</td>\n",
       "      <td>06 20, 2018</td>\n",
       "      <td>A311XHHLM12MUT</td>\n",
       "      <td>B005AGO4LU</td>\n",
       "      <td>Peter</td>\n",
       "      <td>Favorite Nike shoe ever! The flex sole is exce...</td>\n",
       "      <td>Love them!</td>\n",
       "      <td>1529452800</td>\n",
       "      <td>9 B(M) US</td>\n",
       "      <td>Blue Tint/Green Glow/Hasta/White</td>\n",
       "      <td>None</td>\n",
       "      <td>None</td>\n",
       "      <td>NaN</td>\n",
       "      <td>None</td>\n",
       "    </tr>\n",
       "    <tr>\n",
       "      <th>3175</th>\n",
       "      <td>5</td>\n",
       "      <td>1</td>\n",
       "      <td>06 16, 2018</td>\n",
       "      <td>A135SGOQMVWABQ</td>\n",
       "      <td>B005AGO4LU</td>\n",
       "      <td>Susan</td>\n",
       "      <td>I wear these everyday to work, the gym, etc.</td>\n",
       "      <td>Five Stars</td>\n",
       "      <td>1529107200</td>\n",
       "      <td>9 B(M) US</td>\n",
       "      <td>Black/White/Anthracite/Stealth</td>\n",
       "      <td>None</td>\n",
       "      <td>None</td>\n",
       "      <td>NaN</td>\n",
       "      <td>None</td>\n",
       "    </tr>\n",
       "  </tbody>\n",
       "</table>\n",
       "<p>3176 rows × 15 columns</p>\n",
       "</div>"
      ],
      "text/plain": [
       "      overall  verified   reviewTime      reviewerID        asin  \\\n",
       "0           5         1   09 4, 2015   ALJ66O1Y6SLHA  B000K2PJ4K   \n",
       "1           5         1   09 4, 2015   ALJ66O1Y6SLHA  B000K2PJ4K   \n",
       "2           5         1   09 4, 2015   ALJ66O1Y6SLHA  B000K2PJ4K   \n",
       "3           5         1   09 4, 2015   ALJ66O1Y6SLHA  B000K2PJ4K   \n",
       "4           5         1   09 4, 2015   ALJ66O1Y6SLHA  B000K2PJ4K   \n",
       "...       ...       ...          ...             ...         ...   \n",
       "3171        5         1   07 2, 2018  A2077NII5H62R2  B005AGO4LU   \n",
       "3172        5         1  06 28, 2018  A2IBS6PIPAGAB5  B005AGO4LU   \n",
       "3173        5         1  06 25, 2018  A1GTC5EVSJNCQ8  B005AGO4LU   \n",
       "3174        5         1  06 20, 2018  A311XHHLM12MUT  B005AGO4LU   \n",
       "3175        5         1  06 16, 2018  A135SGOQMVWABQ  B005AGO4LU   \n",
       "\n",
       "         reviewerName                                         reviewText  \\\n",
       "0            Tonya B.                           Great product and price!   \n",
       "1            Tonya B.                           Great product and price!   \n",
       "2            Tonya B.                           Great product and price!   \n",
       "3            Tonya B.                           Great product and price!   \n",
       "4            Tonya B.                           Great product and price!   \n",
       "...               ...                                                ...   \n",
       "3171  Amazon Customer                                       Perfect fit!   \n",
       "3172         J. Avila                        My favorite cross trainers!   \n",
       "3173  Amazon Customer                              Love them fit perfect   \n",
       "3174            Peter  Favorite Nike shoe ever! The flex sole is exce...   \n",
       "3175            Susan       I wear these everyday to work, the gym, etc.   \n",
       "\n",
       "          summary  unixReviewTime   style.Size:  \\\n",
       "0      Five Stars      1441324800      Big Boys   \n",
       "1      Five Stars      1441324800      Big Boys   \n",
       "2      Five Stars      1441324800      Big Boys   \n",
       "3      Five Stars      1441324800      Big Boys   \n",
       "4      Five Stars      1441324800      Big Boys   \n",
       "...           ...             ...           ...   \n",
       "3171   Five Stars      1530489600   8.5 B(M) US   \n",
       "3172  Comfortable      1530144000     5 B(M) US   \n",
       "3173   Five Stars      1529884800     8 B(M) US   \n",
       "3174   Love them!      1529452800     9 B(M) US   \n",
       "3175   Five Stars      1529107200     9 B(M) US   \n",
       "\n",
       "                             style.Color: style.Size Name: style.Style:  vote  \\\n",
       "0                             Blue/Orange             None         None   NaN   \n",
       "1            Black (37467610) / Red/White             None         None   NaN   \n",
       "2                          Blue/Gray Logo             None         None   NaN   \n",
       "3             Blue (37867638-99) / Yellow             None         None   NaN   \n",
       "4                               Blue/Pink             None         None   NaN   \n",
       "...                                   ...              ...          ...   ...   \n",
       "3171   Green Glow/Seaweed - Hasta - White             None         None   NaN   \n",
       "3172     Wolf Grey/Black-pink Blast/White             None         None   NaN   \n",
       "3173     Blue Tint/Green Glow/Hasta/White             None         None   NaN   \n",
       "3174     Blue Tint/Green Glow/Hasta/White             None         None   NaN   \n",
       "3175       Black/White/Anthracite/Stealth             None         None   NaN   \n",
       "\n",
       "     image  \n",
       "0     None  \n",
       "1     None  \n",
       "2     None  \n",
       "3     None  \n",
       "4     None  \n",
       "...    ...  \n",
       "3171  None  \n",
       "3172  None  \n",
       "3173  None  \n",
       "3174  None  \n",
       "3175  None  \n",
       "\n",
       "[3176 rows x 15 columns]"
      ]
     },
     "execution_count": 33,
     "metadata": {},
     "output_type": "execute_result"
    }
   ],
   "source": [
    "df"
   ]
  },
  {
   "cell_type": "code",
   "execution_count": 25,
   "id": "b06ab0da-41d6-4970-8003-e6213b01e913",
   "metadata": {},
   "outputs": [],
   "source": [
    "df = df[[\"reviewerID\", \"overall\", \"asin\"]]"
   ]
  },
  {
   "cell_type": "code",
   "execution_count": 26,
   "id": "09a41f25-bf98-4aeb-bea3-e3853b206a58",
   "metadata": {},
   "outputs": [],
   "source": [
    "df.drop_duplicates(inplace=True)"
   ]
  },
  {
   "cell_type": "code",
   "execution_count": 27,
   "id": "506a0c05-fda3-491b-8bbb-4be8f98fe55f",
   "metadata": {},
   "outputs": [],
   "source": [
    "df.reset_index(inplace=True)"
   ]
  },
  {
   "cell_type": "code",
   "execution_count": 28,
   "id": "4b5334bd-a6dd-4a38-848d-80b17d65d0c7",
   "metadata": {},
   "outputs": [],
   "source": [
    "df = df.pivot_table(index='reviewerID', columns='asin', values='overall')"
   ]
  },
  {
   "cell_type": "markdown",
   "id": "76f3c2b1-d1e2-47ae-9140-c9ca16ba71bc",
   "metadata": {
    "tags": []
   },
   "source": [
    "# Changing the sparsity of the matrix"
   ]
  },
  {
   "cell_type": "markdown",
   "id": "39837336-7b51-465b-a0b4-18f030fef685",
   "metadata": {},
   "source": [
    "This could be done either by looping of each row until the desired amount of dropped cells is reached (implemented) or we could choose rows at random and drop cells untill the desired amount is reached. This way not only the first X rows will drop more than the others, but it would be divided"
   ]
  },
  {
   "cell_type": "code",
   "execution_count": 29,
   "id": "5677f8bf-5be6-4225-ae8f-59663a97346f",
   "metadata": {},
   "outputs": [],
   "source": [
    "import numpy as np"
   ]
  },
  {
   "cell_type": "code",
   "execution_count": 30,
   "id": "7b6d43b5-5075-4898-a34b-ae90845d3882",
   "metadata": {},
   "outputs": [],
   "source": [
    "sparsity = lambda dataf: dataf.isna().sum().sum() / (dataf.shape[0] * dataf.shape[1])"
   ]
  },
  {
   "cell_type": "code",
   "execution_count": 31,
   "id": "caa296e0-6463-447a-8426-5360d26a52b4",
   "metadata": {},
   "outputs": [],
   "source": [
    "total = df.shape[0] * df.shape[1]"
   ]
  },
  {
   "cell_type": "code",
   "execution_count": 16,
   "id": "14355197-e681-418f-b9fc-e026e18ff532",
   "metadata": {},
   "outputs": [],
   "source": [
    "current_nan = df.isnull().sum().sum()"
   ]
  },
  {
   "cell_type": "code",
   "execution_count": 18,
   "id": "ce3c4002-8691-45f0-bc4a-892047aaedc5",
   "metadata": {},
   "outputs": [
    {
     "data": {
      "text/plain": [
       "0.7583823295725409"
      ]
     },
     "execution_count": 18,
     "metadata": {},
     "output_type": "execute_result"
    }
   ],
   "source": [
    "sparsity(df)"
   ]
  },
  {
   "cell_type": "code",
   "execution_count": 19,
   "id": "967fb01d-1ec3-4cde-b5e8-40fdfabec833",
   "metadata": {},
   "outputs": [],
   "source": [
    "desired_percentage = .8"
   ]
  },
  {
   "cell_type": "code",
   "execution_count": 20,
   "id": "c6fb6868-f867-4feb-8891-fdf7236fc860",
   "metadata": {},
   "outputs": [],
   "source": [
    "cells_to_drop = (desired_percentage * total) - current_nan"
   ]
  },
  {
   "cell_type": "code",
   "execution_count": 21,
   "id": "cd29c2b5-b82f-42de-9440-fc6e1266edfc",
   "metadata": {},
   "outputs": [],
   "source": [
    "cells_dropped = 0\n",
    "while True:\n",
    "    for index, row in df.iterrows():\n",
    "        nans = np.where(row.notnull())[0]\n",
    "        if not len(nans):\n",
    "            continue\n",
    "        drop = np.random.choice(nans)\n",
    "        row[drop] = np.nan\n",
    "        cells_dropped += 1\n",
    "        if cells_dropped >= cells_to_drop:\n",
    "            break    \n",
    "    if cells_dropped >= cells_to_drop:\n",
    "        break        \n"
   ]
  },
  {
   "cell_type": "code",
   "execution_count": 22,
   "id": "8d5ac603-a469-4dad-a395-bb8e9eff775b",
   "metadata": {},
   "outputs": [
    {
     "data": {
      "text/plain": [
       "524"
      ]
     },
     "execution_count": 22,
     "metadata": {},
     "output_type": "execute_result"
    }
   ],
   "source": [
    "cells_dropped"
   ]
  },
  {
   "cell_type": "code",
   "execution_count": 23,
   "id": "b8983569-d396-4421-a019-a1213e504cd2",
   "metadata": {},
   "outputs": [
    {
     "data": {
      "text/plain": [
       "0.8000158906721754"
      ]
     },
     "execution_count": 23,
     "metadata": {},
     "output_type": "execute_result"
    }
   ],
   "source": [
    "sparsity(df)"
   ]
  }
 ],
 "metadata": {
  "kernelspec": {
   "display_name": "irrs",
   "language": "python",
   "name": "irrs"
  },
  "language_info": {
   "codemirror_mode": {
    "name": "ipython",
    "version": 3
   },
   "file_extension": ".py",
   "mimetype": "text/x-python",
   "name": "python",
   "nbconvert_exporter": "python",
   "pygments_lexer": "ipython3",
   "version": "3.7.12"
  }
 },
 "nbformat": 4,
 "nbformat_minor": 5
}
