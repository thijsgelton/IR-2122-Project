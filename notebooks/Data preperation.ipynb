{
 "cells": [
  {
   "cell_type": "code",
   "execution_count": 1,
   "id": "d1511d0e-abff-4c34-b3fa-b06b07667f75",
   "metadata": {},
   "outputs": [],
   "source": [
    "import pandas as pd\n",
    "import json"
   ]
  },
  {
   "cell_type": "code",
   "execution_count": 2,
   "id": "b815ed8b-7299-45c2-bdfb-013bbf7e0bc9",
   "metadata": {},
   "outputs": [],
   "source": [
    "FILE = \"AMAZON_FASHION_5.json\""
   ]
  },
  {
   "cell_type": "code",
   "execution_count": 3,
   "id": "81d35778-71f3-4c4b-978f-de989128a668",
   "metadata": {},
   "outputs": [],
   "source": [
    "df = pd.DataFrame()"
   ]
  },
  {
   "cell_type": "code",
   "execution_count": 62,
   "id": "ea7c9fd8-c8c1-49b4-8ac3-d365266bda20",
   "metadata": {},
   "outputs": [],
   "source": [
    "with open(FILE, 'r') as f:\n",
    "    for json_line in f.readlines():\n",
    "        line = json.loads(json_line)\n",
    "        if line.get(\"style\"):\n",
    "            for key, value in line.pop(\"style\").items():\n",
    "                line[f\"style.{key}\"] = value\n",
    "        df = df.append(line, ignore_index=True)"
   ]
  },
  {
   "cell_type": "code",
   "execution_count": 63,
   "id": "676c2187-722e-4e35-8258-5922f717575a",
   "metadata": {},
   "outputs": [],
   "source": [
    "reviews_by_user = df.groupby(by=\"reviewerID\").count()"
   ]
  },
  {
   "cell_type": "code",
   "execution_count": 64,
   "id": "0cd7b71b-52b7-492f-adca-8d71d913157e",
   "metadata": {},
   "outputs": [
    {
     "data": {
      "text/plain": [
       "overall             16\n",
       "verified            16\n",
       "reviewTime          16\n",
       "asin                16\n",
       "reviewerName        16\n",
       "reviewText          16\n",
       "summary             16\n",
       "unixReviewTime      16\n",
       "style.Size:         16\n",
       "style.Color:        16\n",
       "style.Size Name:     1\n",
       "style.Style:         1\n",
       "vote                16\n",
       "image               16\n",
       "dtype: int64"
      ]
     },
     "execution_count": 64,
     "metadata": {},
     "output_type": "execute_result"
    }
   ],
   "source": [
    "reviews_by_user.max()"
   ]
  },
  {
   "cell_type": "code",
   "execution_count": 65,
   "id": "6a8da009-205b-44a8-a5bd-1eca229270a3",
   "metadata": {},
   "outputs": [
    {
     "data": {
      "text/plain": [
       "overall             4\n",
       "verified            4\n",
       "reviewTime          4\n",
       "asin                4\n",
       "reviewerName        4\n",
       "reviewText          0\n",
       "summary             4\n",
       "unixReviewTime      4\n",
       "style.Size:         0\n",
       "style.Color:        0\n",
       "style.Size Name:    0\n",
       "style.Style:        0\n",
       "vote                0\n",
       "image               0\n",
       "dtype: int64"
      ]
     },
     "execution_count": 65,
     "metadata": {},
     "output_type": "execute_result"
    }
   ],
   "source": [
    "reviews_by_user.min()"
   ]
  },
  {
   "cell_type": "code",
   "execution_count": 66,
   "id": "6f1ccc1d-4d70-4a00-a510-750279007ce6",
   "metadata": {},
   "outputs": [],
   "source": [
    "df.to_json(\"AMAZON_FASION_5_formatted.json\")"
   ]
  },
  {
   "cell_type": "code",
   "execution_count": 41,
   "id": "8d200d9e-4f29-4199-9523-f14b3193acc9",
   "metadata": {},
   "outputs": [],
   "source": [
    "df = pd.read_json(\"AMAZON_FASION_5_formatted.json\")"
   ]
  },
  {
   "cell_type": "code",
   "execution_count": 42,
   "id": "b06ab0da-41d6-4970-8003-e6213b01e913",
   "metadata": {},
   "outputs": [],
   "source": [
    "df = df[[\"reviewerID\", \"overall\", \"asin\"]]"
   ]
  },
  {
   "cell_type": "code",
   "execution_count": 43,
   "id": "09a41f25-bf98-4aeb-bea3-e3853b206a58",
   "metadata": {},
   "outputs": [],
   "source": [
    "df.drop_duplicates(inplace=True)"
   ]
  },
  {
   "cell_type": "code",
   "execution_count": 44,
   "id": "506a0c05-fda3-491b-8bbb-4be8f98fe55f",
   "metadata": {},
   "outputs": [],
   "source": [
    "df.reset_index(inplace=True)"
   ]
  },
  {
   "cell_type": "code",
   "execution_count": 45,
   "id": "4b5334bd-a6dd-4a38-848d-80b17d65d0c7",
   "metadata": {},
   "outputs": [],
   "source": [
    "df = df.pivot_table(index='reviewerID', columns='asin', values='overall')"
   ]
  },
  {
   "cell_type": "markdown",
   "id": "76f3c2b1-d1e2-47ae-9140-c9ca16ba71bc",
   "metadata": {
    "tags": []
   },
   "source": [
    "# Changing the sparsity of the matrix"
   ]
  },
  {
   "cell_type": "markdown",
   "id": "39837336-7b51-465b-a0b4-18f030fef685",
   "metadata": {},
   "source": [
    "This could be done either by looping of each row until the desired amount of dropped cells is reached (implemented) or we could choose rows at random and drop cells untill the desired amount is reached. This way not only the first X rows will drop more than the others, but it would be divided"
   ]
  },
  {
   "cell_type": "code",
   "execution_count": 57,
   "id": "5677f8bf-5be6-4225-ae8f-59663a97346f",
   "metadata": {},
   "outputs": [],
   "source": [
    "import numpy as np"
   ]
  },
  {
   "cell_type": "code",
   "execution_count": 58,
   "id": "7b6d43b5-5075-4898-a34b-ae90845d3882",
   "metadata": {},
   "outputs": [],
   "source": [
    "sparsity = lambda dataf: dataf.isna().sum().sum() / (dataf.shape[0] * dataf.shape[1])"
   ]
  },
  {
   "cell_type": "code",
   "execution_count": 59,
   "id": "caa296e0-6463-447a-8426-5360d26a52b4",
   "metadata": {},
   "outputs": [],
   "source": [
    "total = df.shape[0] * df.shape[1]"
   ]
  },
  {
   "cell_type": "code",
   "execution_count": 60,
   "id": "ce3c4002-8691-45f0-bc4a-892047aaedc5",
   "metadata": {},
   "outputs": [
    {
     "data": {
      "text/plain": [
       "0.8047830923248054"
      ]
     },
     "execution_count": 60,
     "metadata": {},
     "output_type": "execute_result"
    }
   ],
   "source": [
    "sparsity(df)"
   ]
  },
  {
   "cell_type": "code",
   "execution_count": 61,
   "id": "967fb01d-1ec3-4cde-b5e8-40fdfabec833",
   "metadata": {},
   "outputs": [],
   "source": [
    "desired_percentage = .8"
   ]
  },
  {
   "cell_type": "code",
   "execution_count": 62,
   "id": "c6fb6868-f867-4feb-8891-fdf7236fc860",
   "metadata": {},
   "outputs": [],
   "source": [
    "cells_to_drop = (desired_percentage * total) - current_nan"
   ]
  },
  {
   "cell_type": "code",
   "execution_count": 64,
   "id": "cd29c2b5-b82f-42de-9440-fc6e1266edfc",
   "metadata": {},
   "outputs": [],
   "source": [
    "cells_dropped = 0\n",
    "while True:\n",
    "    for index, row in df.iterrows():\n",
    "        nans = np.where(row.notnull())[0]\n",
    "        if not len(nans):\n",
    "            continue\n",
    "        drop = np.random.choice(nans)\n",
    "        row[drop] = np.nan\n",
    "        cells_dropped += 1\n",
    "        if cells_dropped >= cells_to_drop:\n",
    "            break    \n",
    "    if cells_dropped >= cells_to_drop:\n",
    "        break\n",
    "        \n"
   ]
  },
  {
   "cell_type": "code",
   "execution_count": 65,
   "id": "8d5ac603-a469-4dad-a395-bb8e9eff775b",
   "metadata": {},
   "outputs": [
    {
     "data": {
      "text/plain": [
       "525"
      ]
     },
     "execution_count": 65,
     "metadata": {},
     "output_type": "execute_result"
    }
   ],
   "source": [
    "cells_dropped"
   ]
  },
  {
   "cell_type": "code",
   "execution_count": 66,
   "id": "b8983569-d396-4421-a019-a1213e504cd2",
   "metadata": {},
   "outputs": [
    {
     "data": {
      "text/plain": [
       "0.8464961067853171"
      ]
     },
     "execution_count": 66,
     "metadata": {},
     "output_type": "execute_result"
    }
   ],
   "source": [
    "sparsity(df)"
   ]
  }
 ],
 "metadata": {
  "kernelspec": {
   "display_name": "Python 3 (ipykernel)",
   "language": "python",
   "name": "python3"
  },
  "language_info": {
   "codemirror_mode": {
    "name": "ipython",
    "version": 3
   },
   "file_extension": ".py",
   "mimetype": "text/x-python",
   "name": "python",
   "nbconvert_exporter": "python",
   "pygments_lexer": "ipython3",
   "version": "3.8.12"
  }
 },
 "nbformat": 4,
 "nbformat_minor": 5
}
